{
 "cells": [
  {
   "cell_type": "code",
   "execution_count": 1,
   "metadata": {},
   "outputs": [],
   "source": [
    "'''\n",
    "Binary Tree Level Order Traversal using queues. \n",
    "\n",
    "Given a binary tree, return the bottom-up level order traversal of its nodes' values. \n",
    "(ie, from left to right, level by level from leaf to root).\n",
    "\n",
    "For example:\n",
    "Given binary tree [3,9,20,null,null,15,7],\n",
    "    3\n",
    "   / \\\n",
    "  9  20\n",
    "    /  \\\n",
    "   15   7\n",
    "return its bottom-up level order traversal as:\n",
    "[\n",
    "  [15,7],\n",
    "  [9,20],\n",
    "  [3]\n",
    "]\n",
    "\n",
    "'''\n",
    "# Definition for a binary tree node.\n",
    "\n",
    "\n",
    "class TreeNode:\n",
    "    def __init__(self, x):\n",
    "        self.val = x\n",
    "        self.left = None\n",
    "        self.right = None\n",
    "\n",
    "class Solution:\n",
    "    def levelOrderBottom(self, root):\n",
    "        \n",
    "        queue =[root]\n",
    "        \n",
    "        result =[]\n",
    "        \n",
    "        def helper(root, level):\n",
    "            \n",
    "            if(root==None):\n",
    "                return \n",
    "            \n",
    "            if(len(result)<(level+1)):\n",
    "                result.append([])\n",
    "            \n",
    "            result[level].append(root.val)\n",
    "            \n",
    "            if(root.left!=None):\n",
    "                helper(root.left, level+1)\n",
    "            \n",
    "            if(root.right!=None):\n",
    "                helper(root.right, level+1)\n",
    "        \n",
    "        helper(root, 0)\n",
    "        result.reverse()\n",
    "        \n",
    "        return result "
   ]
  },
  {
   "cell_type": "code",
   "execution_count": null,
   "metadata": {},
   "outputs": [],
   "source": []
  }
 ],
 "metadata": {
  "kernelspec": {
   "display_name": "Python 3",
   "language": "python",
   "name": "python3"
  },
  "language_info": {
   "codemirror_mode": {
    "name": "ipython",
    "version": 3
   },
   "file_extension": ".py",
   "mimetype": "text/x-python",
   "name": "python",
   "nbconvert_exporter": "python",
   "pygments_lexer": "ipython3",
   "version": "3.7.3"
  }
 },
 "nbformat": 4,
 "nbformat_minor": 2
}

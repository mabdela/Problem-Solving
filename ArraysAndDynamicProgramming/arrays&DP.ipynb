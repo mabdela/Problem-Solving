{
 "cells": [
  {
   "cell_type": "code",
   "execution_count": 5,
   "metadata": {},
   "outputs": [],
   "source": [
    "\"\"\"\n",
    "There's a staircase with N steps, and you can climb 1 or 2 steps at a time. \n",
    "Given N, write a function that returns the number of unique ways you can climb the staircase. \n",
    "The order of the steps matters.\n",
    "\n",
    "For example, if N is 4, then there are 5 unique ways:\n",
    "\n",
    "1, 1, 1, 1\n",
    "2, 1, 1\n",
    "1, 2, 1\n",
    "1, 1, 2\n",
    "2, 2\n",
    "What if, instead of being able to climb 1 or 2 steps at a time, you could climb any number from a set of\n",
    "positive integers X? For example, if X = {1, 3, 5}, you could climb 1, 3, or 5 steps at a time. \n",
    "Generalize your function to take in X.\n",
    "\"\"\"\n",
    "def staircase(n, X):\n",
    "    cache = [0]*(n+1)\n",
    "    cache[0] = 1\n",
    "    \n",
    "    for i in range(1, n+1):\n",
    "        cache[i] = sum([cache[i-x] for x in X if x<=i])\n",
    "    \n",
    "    return cache[n]\n",
    "        "
   ]
  },
  {
   "cell_type": "code",
   "execution_count": 6,
   "metadata": {},
   "outputs": [
    {
     "data": {
      "text/plain": [
       "274"
      ]
     },
     "execution_count": 6,
     "metadata": {},
     "output_type": "execute_result"
    }
   ],
   "source": [
    "#Example\n",
    "staircase(10, [1, 2, 3])"
   ]
  },
  {
   "cell_type": "markdown",
   "metadata": {},
   "source": [
    "---"
   ]
  },
  {
   "cell_type": "code",
   "execution_count": 3,
   "metadata": {},
   "outputs": [],
   "source": [
    "\"\"\"\n",
    "A robot is located at the top-left corner of a m x n grid (marked 'Start' in the diagram below).\n",
    "\n",
    "The robot can only move either down or right at any point in time.\n",
    "The robot is trying to reach the bottom-right corner of the grid (marked 'Finish' in the diagram below).\n",
    "\n",
    "How many possible unique paths are there?\n",
    "\n",
    "Example 1:\n",
    "\n",
    "Input: m = 3, n = 2\n",
    "Output: 3\n",
    "\n",
    "Explanation:\n",
    "From the top-left corner, there are a total of 3 ways to reach the bottom-right corner:\n",
    "1. Right -> Right -> Down\n",
    "2. Right -> Down -> Right\n",
    "3. Down -> Right -> Right\n",
    "Example 2:\n",
    "\n",
    "Input: m = 7, n = 3\n",
    "Output: 28\n",
    " \n",
    "\n",
    "Constraints:\n",
    "\n",
    "1 <= m, n <= 100\n",
    "It's guaranteed that the answer will be less than or equal to 2 * 10 ^ 9.\n",
    "\n",
    "\"\"\"\n",
    "def countPaths(maze):\n",
    "    \n",
    "    if not maze:\n",
    "        return 0\n",
    "    rows = len(maze)\n",
    "    cols = len(maze[0])\n",
    "    \n",
    "    maze[0][0] = 1\n",
    "    \n",
    "    def helper(row, col):\n",
    "        \n",
    "        if row<0 or col<0:\n",
    "            return 0\n",
    "        \n",
    "        if not maze[row][col]:\n",
    "            maze[row][col] = helper(row-1, col)+helper(row, col-1)\n",
    "            \n",
    "        return maze[row][col]\n",
    "    \n",
    "    \n",
    "    return helper(rows-1, cols-1)\n",
    "\n",
    "    #Alternatively \n",
    "    \"\"\"\n",
    "\n",
    "def countPaths2(maze):\n",
    "    \n",
    "    if not maze:\n",
    "        return 0\n",
    "    rows = len(maze)\n",
    "    cols = len(maze[0])\n",
    "    \n",
    "    maze[rows-1][cols-1] = 1\n",
    "    \n",
    "    def helper(row, col):\n",
    "        \n",
    "        if row>=rows or col>=cols:\n",
    "            return 0\n",
    "        \n",
    "        if not maze[row][col]:\n",
    "            maze[row][col] = helper(row+1, col)+helper(row, col+1)\n",
    "            \n",
    "        return maze[row][col]\n",
    "    \n",
    "    \n",
    "    return helper(0, 0)\n",
    "    \"\"\""
   ]
  },
  {
   "cell_type": "code",
   "execution_count": 4,
   "metadata": {},
   "outputs": [
    {
     "data": {
      "text/plain": [
       "20"
      ]
     },
     "execution_count": 4,
     "metadata": {},
     "output_type": "execute_result"
    }
   ],
   "source": [
    "maze = [[0, 0, 0, 0], [0, 0, 0, 0], [0, 0, 0, 0], [0, 0, 0, 0]]\n",
    "countPaths(maze)"
   ]
  },
  {
   "cell_type": "code",
   "execution_count": 1,
   "metadata": {},
   "outputs": [],
   "source": [
    "def dynamicArray(n, queries):\n",
    "    last_ans = 0\n",
    "    result =[]\n",
    "    arr = []\n",
    "    for _ in range(n):\n",
    "        arr.append([])\n",
    "\n",
    "    for item in queries:\n",
    "        if(item[0]==1):\n",
    "            arr[(item[1]^last_ans)%n].append(item[2])\n",
    "        elif(item[0]==2):\n",
    "            last_ans = arr[(item[1]^last_ans)%n]%len(arr[(item[1]^last_ans)%n])\n",
    "            result.append(last_ans)\n",
    "            print(last_ans)\n",
    "\n",
    "    return result"
   ]
  },
  {
   "cell_type": "code",
   "execution_count": 2,
   "metadata": {},
   "outputs": [],
   "source": [
    "# Remove Duplicates from Sorted Array and return length\n",
    "\n",
    "class Solution:\n",
    "    def removeDuplicates(self, nums) -> int:\n",
    "        \n",
    "        counter = 0\n",
    "        while(counter<len(nums)):\n",
    "            if(counter>0 and nums[counter-1]==nums[counter]):\n",
    "                nums.pop(counter)\n",
    "            else:\n",
    "                counter+=1\n",
    "                \n",
    "        return len(nums)"
   ]
  },
  {
   "cell_type": "code",
   "execution_count": 3,
   "metadata": {},
   "outputs": [],
   "source": [
    "# Remove a given element and return length \n",
    "class Solution:\n",
    "    def removeElement(self, nums, val: int) -> int:\n",
    "        counter =0\n",
    "        while(counter<len(nums)):\n",
    "            if(val==nums[counter]):\n",
    "                nums.pop(counter)\n",
    "            else:\n",
    "                counter+=1\n",
    "        \n",
    "        return len(nums)"
   ]
  },
  {
   "cell_type": "code",
   "execution_count": null,
   "metadata": {},
   "outputs": [],
   "source": []
  }
 ],
 "metadata": {
  "kernelspec": {
   "display_name": "Python 3",
   "language": "python",
   "name": "python3"
  },
  "language_info": {
   "codemirror_mode": {
    "name": "ipython",
    "version": 3
   },
   "file_extension": ".py",
   "mimetype": "text/x-python",
   "name": "python",
   "nbconvert_exporter": "python",
   "pygments_lexer": "ipython3",
   "version": "3.7.3"
  }
 },
 "nbformat": 4,
 "nbformat_minor": 2
}

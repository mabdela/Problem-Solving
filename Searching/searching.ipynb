{
 "cells": [
  {
   "cell_type": "code",
   "execution_count": 1,
   "metadata": {},
   "outputs": [
    {
     "name": "stdout",
     "output_type": "stream",
     "text": [
      "(True, 2)\n",
      "(True, 2)\n",
      "(True, 1)\n",
      "(True, 2)\n",
      "(False, 0)\n"
     ]
    }
   ],
   "source": [
    "from typing import Tuple\n",
    "\n",
    "\n",
    "class TrieNode(object):\n",
    "    \"\"\"\n",
    "    Our trie node implementation. Very basic. but does the job\n",
    "    \"\"\"\n",
    "    \n",
    "    def __init__(self, char: str):\n",
    "        self.char = char\n",
    "        self.children = []\n",
    "        # Is it the last character of the word.`\n",
    "        self.word_finished = False\n",
    "        # How many times this character appeared in the addition process\n",
    "        self.counter = 1\n",
    "    \n",
    "\n",
    "def add(root, word: str):\n",
    "    \"\"\"\n",
    "    Adding a word in the trie structure\n",
    "    \"\"\"\n",
    "    node = root\n",
    "    for char in word:\n",
    "        found_in_child = False\n",
    "        # Search for the character in the children of the present `node`\n",
    "        for child in node.children:\n",
    "            if child.char == char:\n",
    "                # We found it, increase the counter by 1 to keep track that another\n",
    "                # word has it as well\n",
    "                child.counter += 1\n",
    "                # And point the node to the child that contains this char\n",
    "                node = child\n",
    "                found_in_child = True\n",
    "                break\n",
    "        # We did not find it so add a new chlid\n",
    "        if not found_in_child:\n",
    "            new_node = TrieNode(char)\n",
    "            node.children.append(new_node)\n",
    "            # And then point node to the new child\n",
    "            node = new_node\n",
    "    # Everything finished. Mark it as the end of a word.\n",
    "    node.word_finished = True\n",
    "\n",
    "\n",
    "def find_prefix(root, prefix: str) -> Tuple[bool, int]:\n",
    "    \"\"\"\n",
    "    Check and return \n",
    "      1. If the prefix exsists in any of the words we added so far\n",
    "      2. If yes then how may words actually have the prefix\n",
    "    \"\"\"\n",
    "    node = root\n",
    "    # If the root node has no children, then return False.\n",
    "    # Because it means we are trying to search in an empty trie\n",
    "    if not root.children:\n",
    "        return False, 0\n",
    "    for char in prefix:\n",
    "        char_not_found = True\n",
    "        # Search through all the children of the present `node`\n",
    "        for child in node.children:\n",
    "            if child.char == char:\n",
    "                # We found the char existing in the child.\n",
    "                char_not_found = False\n",
    "                # Assign node as the child containing the char and break\n",
    "                node = child\n",
    "                break\n",
    "        # Return False anyway when we did not find a char.\n",
    "        if char_not_found:\n",
    "            return False, 0\n",
    "    # Well, we are here means we have found the prefix. Return true to indicate that\n",
    "    # And also the counter of the last node. This indicates how many words have this\n",
    "    # prefix\n",
    "    return True, node.counter\n",
    "\n",
    "if __name__ == \"__main__\":\n",
    "    root = TrieNode('*')\n",
    "    add(root, \"hackathon\")\n",
    "    add(root, 'hack')\n",
    "\n",
    "    print(find_prefix(root, 'hac'))\n",
    "    print(find_prefix(root, 'hack'))\n",
    "    print(find_prefix(root, 'hackathon'))\n",
    "    print(find_prefix(root, 'ha'))\n",
    "    print(find_prefix(root, 'hammer'))"
   ]
  },
  {
   "cell_type": "markdown",
   "metadata": {},
   "source": [
    "---"
   ]
  },
  {
   "cell_type": "code",
   "execution_count": 3,
   "metadata": {},
   "outputs": [],
   "source": [
    "'''\n",
    "Given a 2D grid, each cell is either a zombie 1 or a human 0. \n",
    "Zombies can turn adjacent (up/down/left/right) human beings into zombies every hour. \n",
    "Find out how many hours does it take to infect all humans?\n",
    "Input:\n",
    "[[0, 1, 1, 0, 1],\n",
    " [0, 1, 0, 1, 0],\n",
    " [0, 0, 0, 0, 1],\n",
    " [0, 1, 0, 0, 0]]\n",
    "\n",
    "Output: 2\n",
    "\n",
    "Explanation:\n",
    "At the end of the 1st hour, the status of the grid:\n",
    "[[1, 1, 1, 1, 1],\n",
    " [1, 1, 1, 1, 1],\n",
    " [0, 1, 0, 1, 1],\n",
    " [1, 1, 1, 0, 1]]\n",
    "\n",
    "At the end of the 2nd hour, the status of the grid:\n",
    "[[1, 1, 1, 1, 1],\n",
    " [1, 1, 1, 1, 1],\n",
    " [1, 1, 1, 1, 1],\n",
    " [1, 1, 1, 1, 1]]\n",
    "'''\n",
    "def minHours(rows, columns, grid):\n",
    "    \n",
    "    if(not rows or not columns):\n",
    "        return 0\n",
    "    \n",
    "    hours =0\n",
    "    counter =0\n",
    "    \n",
    "    zombie = [[i, j] for i in range(rows) for j in range(columns) if grid[i][j]==1]\n",
    "    directions = [[1,0], [-1,0], [0, 1], [0, -1]]\n",
    "    \n",
    "    while True:\n",
    "        new =[]\n",
    "        for [i, j] in zombie:\n",
    "            for v in directions:\n",
    "                ni, nj = i+v[0], j+v[1]\n",
    "                if(ni>=0 and ni < rows and nj>=0 and nj<columns and grid[ni][nj]==0):\n",
    "                    new.append([ni, nj])\n",
    "                    grid[ni][nj]=1\n",
    "            \n",
    "        zombie = new\n",
    "        \n",
    "        if(len(new)==0):\n",
    "            break\n",
    "            \n",
    "        hours+=1\n",
    "\n",
    "    \n",
    "    return hours                   "
   ]
  },
  {
   "cell_type": "code",
   "execution_count": 4,
   "metadata": {},
   "outputs": [
    {
     "data": {
      "text/plain": [
       "2"
      ]
     },
     "execution_count": 4,
     "metadata": {},
     "output_type": "execute_result"
    }
   ],
   "source": [
    "data = [[0, 1, 1, 0, 1],\n",
    " [0, 1, 0, 1, 0],\n",
    " [0, 0, 0, 0, 1],\n",
    " [0, 1, 0, 0, 0]]\n",
    "minHours(len(data), len(data[0]), data)"
   ]
  },
  {
   "cell_type": "markdown",
   "metadata": {},
   "source": [
    "---"
   ]
  },
  {
   "cell_type": "code",
   "execution_count": null,
   "metadata": {},
   "outputs": [],
   "source": [
    "'''\n",
    "994. Rotting Oranges\n",
    "\n",
    "In a given grid, each cell can have one of three values:\n",
    "\n",
    "the value 0 representing an empty cell;\n",
    "the value 1 representing a fresh orange;\n",
    "the value 2 representing a rotten orange.\n",
    "Every minute, any fresh orange that is adjacent (4-directionally) to a rotten orange becomes rotten.\n",
    "\n",
    "Return the minimum number of minutes that must elapse until no cell has a fresh orange. \n",
    "If this is impossible, return -1 instead.\n",
    "\n",
    "Example 1:\n",
    "\n",
    "Input: [[2,1,1],[1,1,0],[0,1,1]]\n",
    "Output: 4\n",
    "Example 2:\n",
    "\n",
    "Input: [[2,1,1],[0,1,1],[1,0,1]]\n",
    "Output: -1\n",
    "Explanation:  The orange in the bottom left corner (row 2, column 0) is never rotten, \n",
    "because rotting only happens 4-directionally.\n",
    "Example 3:\n",
    "\n",
    "Input: [[0,2]]\n",
    "Output: 0\n",
    "Explanation:  Since there are already no fresh oranges at minute 0, the answer is just 0.\n",
    " \n",
    "\n",
    "Note:\n",
    "1 <= grid.length <= 10\n",
    "1 <= grid[0].length <= 10\n",
    "grid[i][j] is only 0, 1, or 2.\n",
    "'''\n",
    "\n",
    "class Solution:\n",
    "    def orangesRotting(self, grid):\n",
    "        \n",
    "        rows, columns = len(grid), len(grid[0])\n",
    "        \n",
    "        rotten = [[i, j] for i in range(rows) for j in range(columns) if grid[i][j]==2]\n",
    "        direction = [[-1, 0], [1, 0], [0, 1], [0, -1]]\n",
    "        minutes =0\n",
    "        while True:     \n",
    "            new = []\n",
    "            for [i, j] in rotten:\n",
    "                \n",
    "                for v in direction:\n",
    "                    ni, nj = i+v[0], j+v[1]\n",
    "                    if(ni>=0 and ni<rows and nj>=0 and nj<columns and grid[ni][nj]==1):\n",
    "                        grid[ni][nj] = 2\n",
    "                        new.append([ni, nj])\n",
    "            \n",
    "            \n",
    "            rotten = new \n",
    "            if not new:\n",
    "                fresh = [[i, j] for i in range(rows) for j in range(columns) if grid[i][j]==1]\n",
    "                if fresh:\n",
    "                    minutes = -1\n",
    "                break\n",
    "                \n",
    "            minutes+=1\n",
    "        \n",
    "        \n",
    "        return minutes"
   ]
  },
  {
   "cell_type": "markdown",
   "metadata": {},
   "source": [
    "---"
   ]
  },
  {
   "cell_type": "code",
   "execution_count": 5,
   "metadata": {},
   "outputs": [],
   "source": [
    "'''\n",
    "Given a matrix of 0's and 1's where the 0's representing no park and 1's representing parks, \n",
    "if there was a plan to install kiosk for each park while parks with neighbours are assigned only one \n",
    "kiosk, i.e. (2 or more horizontally or viertically adjacent parks can have only one kiosk), find the number of kiosk.\n",
    "\n",
    "'''\n",
    "def countkiosk(data):\n",
    "    \n",
    "    rows, columns = len(data), len(data[0])\n",
    "    \n",
    "    parks = [[i, j] for i in range(rows) for j in range(columns) if data[i][j]==1]\n",
    "    directions = [[1, 0], [-1, 0], [0, 1], [0, -1]]\n",
    "    counter=0\n",
    "    visited =[]\n",
    "    for i in range(rows):\n",
    "        visited.append([])\n",
    "        for j in range(columns):\n",
    "            visited[i].append(False) \n",
    "    \n",
    "    for k in parks:\n",
    "        new =[k]\n",
    "        \n",
    "        if(not visited[k[0]][k[1]]):\n",
    "            visited[k[0]][k[1]]=True\n",
    "            counter+=1\n",
    "        else: continue\n",
    "            \n",
    "        while new:\n",
    "            i, j = new.pop()\n",
    "            for d in directions:\n",
    "                ni, nj = i+d[0], j+d[1]\n",
    "                \n",
    "                if(ni>=0 and ni<rows and nj>=0 and nj<columns):\n",
    "                    if(data[ni][nj] and not visited[ni][nj]):\n",
    "                        new.append([ni, nj])\n",
    "                        visited[ni][nj]=True\n",
    "    \n",
    "    return counter\n",
    "                "
   ]
  },
  {
   "cell_type": "code",
   "execution_count": 6,
   "metadata": {},
   "outputs": [],
   "source": [
    "'''\n",
    "The method given below will work if it is allowed to overwrite the \"data\" argument.\n",
    "'''\n",
    "def countkiosk(data):\n",
    "    \n",
    "    rows, columns = len(data), len(data[0])\n",
    "    \n",
    "    parks = [[i, j] for i in range(rows) for j in range(columns) if data[i][j]==1]\n",
    "    directions = [[1, 0], [-1, 0], [0, 1], [0, -1]]\n",
    "    counter=0\n",
    "    \n",
    "    for k in parks:\n",
    "        new =[k]\n",
    "        \n",
    "        if(data[k[0]][k[1]]):\n",
    "            data[k[0]][k[1]]=0\n",
    "            counter+=1\n",
    "        else: continue\n",
    "            \n",
    "        while new:\n",
    "            i, j = new.pop()\n",
    "            for d in directions:\n",
    "                ni, nj = i+d[0], j+d[1]\n",
    "                \n",
    "                if(ni>=0 and ni<rows and nj>=0 and nj<columns):\n",
    "                    if(data[ni][nj]):\n",
    "                        new.append([ni, nj])\n",
    "                        data[ni][nj]=0\n",
    "    \n",
    "    return counter\n",
    "                "
   ]
  },
  {
   "cell_type": "code",
   "execution_count": 7,
   "metadata": {},
   "outputs": [],
   "source": [
    "data1 = [[1, 0, 1], [1, 0, 0],[0, 1, 1]]\n",
    "data2 =[[1, 0, 1, 0, 1], [1, 0, 0, 1, 0],[0, 1, 1, 0, 1]]\n",
    "data3 = [[1, 0, 1, 0, 1, 1, 0, 1], [1, 0, 0, 1, 0, 1, 0, 1],[0, 1, 1, 0, 1, 1, 0, 1]]"
   ]
  },
  {
   "cell_type": "code",
   "execution_count": 8,
   "metadata": {},
   "outputs": [
    {
     "data": {
      "text/plain": [
       "3"
      ]
     },
     "execution_count": 8,
     "metadata": {},
     "output_type": "execute_result"
    }
   ],
   "source": [
    "#Example 1\n",
    "countkiosk(data1)"
   ]
  },
  {
   "cell_type": "code",
   "execution_count": 9,
   "metadata": {},
   "outputs": [
    {
     "data": {
      "text/plain": [
       "6"
      ]
     },
     "execution_count": 9,
     "metadata": {},
     "output_type": "execute_result"
    }
   ],
   "source": [
    "#Example 2\n",
    "countkiosk(data2)"
   ]
  },
  {
   "cell_type": "code",
   "execution_count": 10,
   "metadata": {},
   "outputs": [
    {
     "data": {
      "text/plain": [
       "6"
      ]
     },
     "execution_count": 10,
     "metadata": {},
     "output_type": "execute_result"
    }
   ],
   "source": [
    "#Example 3\n",
    "countkiosk(data3)"
   ]
  },
  {
   "cell_type": "markdown",
   "metadata": {},
   "source": [
    "---"
   ]
  },
  {
   "cell_type": "code",
   "execution_count": 11,
   "metadata": {},
   "outputs": [],
   "source": [
    "'''\n",
    "200. Number of Islands\n",
    "Given a 2d grid map of '1's (land) and '0's (water), count the number of islands. \n",
    "An island is surrounded by water and is formed by connecting adjacent lands horizontally or vertically. \n",
    "You may assume all four edges of the grid are all surrounded by water.\n",
    "\n",
    "Example 1:\n",
    "Input:\n",
    "11110\n",
    "11010\n",
    "11000\n",
    "00000\n",
    "\n",
    "Output: 1\n",
    "Example 2:\n",
    "Input:\n",
    "11000\n",
    "11000\n",
    "00100\n",
    "00011\n",
    "\n",
    "Output: 3\n",
    "'''\n",
    "\n",
    "class Solution:\n",
    "    '''\n",
    "    1) find location of the 1's and put in a list \n",
    "    2) four directions [[1, 0], [-1, 0], [0, 1], [0, -1]]\n",
    "    3) modify the given list, i.e. visted 1's to zero\n",
    "    '''\n",
    "    def numIslands(self, grid):\n",
    "        \n",
    "        if not grid:\n",
    "            return 0\n",
    "        \n",
    "        rows, columns = len(grid), len(grid[0])\n",
    "        land = [[i, j] for i in range(rows) for j in range(columns) if grid[i][j]==\"1\"]\n",
    "        direct = [[1, 0], [-1, 0], [0, 1], [0, -1]]\n",
    "        counter =0\n",
    "        \n",
    "        for l in land:\n",
    "            \n",
    "            new = [[l[0], l[1]]]\n",
    "            \n",
    "            if(grid[l[0]][l[1]]==\"1\"):\n",
    "                grid[l[0]][l[1]]=\"0\"\n",
    "                counter+=1\n",
    "            else:\n",
    "                continue\n",
    "            \n",
    "            while new:\n",
    "                i, j = new.pop()\n",
    "                \n",
    "                for d in direct:\n",
    "                    ni, nj = i+d[0], j+d[1]\n",
    "                    \n",
    "                    if(ni>=0 and ni<rows and nj>=0 and nj<columns and grid[ni][nj]==\"1\"):\n",
    "                        grid[ni][nj] = \"0\"\n",
    "                        new.append([ni, nj])\n",
    "        \n",
    "        return counter "
   ]
  },
  {
   "cell_type": "markdown",
   "metadata": {},
   "source": [
    "---"
   ]
  },
  {
   "cell_type": "code",
   "execution_count": 23,
   "metadata": {},
   "outputs": [],
   "source": [
    "import re\n",
    "def frequentlyMentionedKeywords(k, keywords, reviews):\n",
    "    data = dict.fromkeys(keywords, 0)\n",
    "\n",
    "    for txt in reviews:\n",
    "        \n",
    "        # Complexity of intersection e.g. intersection s & t, O(min(len(s), len(t)))\n",
    "        temp = set(re.sub('[^A-Za-z]+', ' ', txt).lower().split()).intersection(keywords)\n",
    "\n",
    "        while temp:\n",
    "            word = temp.pop()\n",
    "            data[word]+=1    \n",
    "    \n",
    "    return sorted(data.keys(), key=lambda item:(-data[item], item))[:k]"
   ]
  },
  {
   "cell_type": "code",
   "execution_count": 24,
   "metadata": {},
   "outputs": [],
   "source": [
    "k = 2\n",
    "keywords = [\"ovid\", \"zeling\", \"abstract\"]\n",
    "reviews = [\n",
    "  \"Ovid offers the best services in the city\",\n",
    "  \"Zeling has awesome services\",\n",
    "  \"Best services provided by ovid, everyone should use ovid\",\n",
    "]"
   ]
  },
  {
   "cell_type": "code",
   "execution_count": 25,
   "metadata": {},
   "outputs": [
    {
     "data": {
      "text/plain": [
       "['ovid', 'zeling']"
      ]
     },
     "execution_count": 25,
     "metadata": {},
     "output_type": "execute_result"
    }
   ],
   "source": [
    "frequentlyMentionedKeywords(k, keywords, reviews)"
   ]
  },
  {
   "cell_type": "markdown",
   "metadata": {},
   "source": [
    "---"
   ]
  },
  {
   "cell_type": "code",
   "execution_count": null,
   "metadata": {},
   "outputs": [],
   "source": []
  }
 ],
 "metadata": {
  "kernelspec": {
   "display_name": "Python 3",
   "language": "python",
   "name": "python3"
  },
  "language_info": {
   "codemirror_mode": {
    "name": "ipython",
    "version": 3
   },
   "file_extension": ".py",
   "mimetype": "text/x-python",
   "name": "python",
   "nbconvert_exporter": "python",
   "pygments_lexer": "ipython3",
   "version": "3.7.3"
  }
 },
 "nbformat": 4,
 "nbformat_minor": 2
}

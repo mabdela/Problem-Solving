{
 "cells": [
  {
   "cell_type": "code",
   "execution_count": 4,
   "metadata": {},
   "outputs": [],
   "source": [
    "\"\"\"\n",
    "Assumptions: the argument 'maze' is initially set to a zero matrix \n",
    "\"\"\"\n",
    "def countPaths(maze):\n",
    "    \n",
    "    if not maze:\n",
    "        return 0\n",
    "    rows = len(maze)\n",
    "    cols = len(maze[0])\n",
    "    \n",
    "    maze[0][0] = 1\n",
    "    \n",
    "    def helper(row, col):\n",
    "        \n",
    "        if row<0 or col<0:\n",
    "            return 0\n",
    "        \n",
    "        if not maze[row][col]:\n",
    "            maze[row][col] = helper(row-1, col)+helper(row, col-1)\n",
    "            \n",
    "        return maze[row][col]\n",
    "    \n",
    "    \n",
    "    return helper(rows-1, cols-1)\n",
    "\n",
    "    #Alternatively \n",
    "    \"\"\"\n",
    "\n",
    "def countPaths2(maze):\n",
    "    \n",
    "    if not maze:\n",
    "        return 0\n",
    "    rows = len(maze)\n",
    "    cols = len(maze[0])\n",
    "    \n",
    "    maze[rows-1][cols-1] = 1\n",
    "    \n",
    "    def helper(row, col):\n",
    "        \n",
    "        if row>=rows or col>=cols:\n",
    "            return 0\n",
    "        \n",
    "        if not maze[row][col]:\n",
    "            maze[row][col] = helper(row+1, col)+helper(row, col+1)\n",
    "            \n",
    "        return maze[row][col]\n",
    "    \n",
    "    \n",
    "    return helper(0, 0)\n",
    "    \"\"\""
   ]
  },
  {
   "cell_type": "code",
   "execution_count": 5,
   "metadata": {},
   "outputs": [
    {
     "data": {
      "text/plain": [
       "20"
      ]
     },
     "execution_count": 5,
     "metadata": {},
     "output_type": "execute_result"
    }
   ],
   "source": [
    "maze = [[0, 0, 0, 0], [0, 0, 0, 0], [0, 0, 0, 0], [0, 0, 0, 0]]\n",
    "countPaths(maze)"
   ]
  },
  {
   "cell_type": "code",
   "execution_count": null,
   "metadata": {},
   "outputs": [],
   "source": []
  }
 ],
 "metadata": {
  "kernelspec": {
   "display_name": "Python 3",
   "language": "python",
   "name": "python3"
  },
  "language_info": {
   "codemirror_mode": {
    "name": "ipython",
    "version": 3
   },
   "file_extension": ".py",
   "mimetype": "text/x-python",
   "name": "python",
   "nbconvert_exporter": "python",
   "pygments_lexer": "ipython3",
   "version": "3.7.3"
  }
 },
 "nbformat": 4,
 "nbformat_minor": 2
}

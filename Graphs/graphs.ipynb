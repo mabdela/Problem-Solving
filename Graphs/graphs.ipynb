{
 "cells": [
  {
   "cell_type": "code",
   "execution_count": 2,
   "metadata": {},
   "outputs": [],
   "source": [
    "\"\"\"\n",
    "The 'permute' function given below uses depth first search to find \n",
    "all permutations of a given list of integers/strings.\n",
    "\n",
    "e.g. Input: [1,2,3] \n",
    "Output:[ [1,2,3], [1,3,2], [2,1,3], [2,3,1], [3,1,2], [3,2,1]]\n",
    "\"\"\"\n",
    "\n",
    "class Solution:\n",
    "    \n",
    "    def __init__(self):\n",
    "        self.valid = []\n",
    "    \n",
    "    def permute(self, G):\n",
    "        \n",
    "        n = len(G)\n",
    "        \n",
    "        def dfs(G, s, visited, path, path_len):\n",
    "            #print(\"path_len: \", path_len, \" n:\", n, path, \" Visisted: \", visited)\n",
    "            if path_len == n - 1:\n",
    "                self.valid.append(path + [s])\n",
    "                return\n",
    "            for neigh in G:\n",
    "                if s != neigh and neigh not in visited:\n",
    "                    dfs(G, neigh, visited + [s], path + [s], path_len + 1)\n",
    "                    \n",
    "        for v in G:\n",
    "            dfs(G, v, [], [], 0)\n",
    "            \n",
    "        return self.valid\n",
    "    \n",
    "    #Alternative solutions without using Depth First Search.\n",
    "    \"\"\"\n",
    "    import itertools\n",
    "\n",
    "    class Solution:\n",
    "\n",
    "        def permute(self, G):\n",
    "\n",
    "            result = itertools.permutations(G)\n",
    "            result = [list(item) for item in result]\n",
    "            return result\n",
    "\n",
    "\n",
    "\n",
    "            import math\n",
    "    class Solution:\n",
    "\n",
    "        def permute(self, G):        \n",
    "\n",
    "\n",
    "            factor = math.factorial\n",
    "\n",
    "            def findStartingIndex(num, sequence):\n",
    "                edges = G[:]\n",
    "\n",
    "                result = []\n",
    "                remainder = sequence        \n",
    "\n",
    "                while remainder>1:\n",
    "\n",
    "                    next_max = factor(num-1)\n",
    "                    div = remainder//next_max\n",
    "                    remainder = remainder%next_max\n",
    "                    if(remainder==0):\n",
    "                        div-=1\n",
    "                        remainder = next_max\n",
    "\n",
    "                    result.append(edges[div])\n",
    "\n",
    "                    edges.pop(div)\n",
    "                    num-=1\n",
    "\n",
    "                result.extend(edges)\n",
    "                return result \n",
    "\n",
    "            n = factor(len(G))\n",
    "            if n==1:\n",
    "                return [[1]]\n",
    "            ans =[]\n",
    "\n",
    "            for i in range(1, n+1):\n",
    "                ans.append(findStartingIndex(len(G), i)) \n",
    "\n",
    "            return ans\n",
    "    \"\"\""
   ]
  },
  {
   "cell_type": "code",
   "execution_count": 3,
   "metadata": {},
   "outputs": [
    {
     "data": {
      "text/plain": [
       "[['one', 'two', 'three'],\n",
       " ['one', 'three', 'two'],\n",
       " ['two', 'one', 'three'],\n",
       " ['two', 'three', 'one'],\n",
       " ['three', 'one', 'two'],\n",
       " ['three', 'two', 'one']]"
      ]
     },
     "execution_count": 3,
     "metadata": {},
     "output_type": "execute_result"
    }
   ],
   "source": [
    "#Example \n",
    "obj = Solution()\n",
    "obj.permute([\"one\", \"two\", \"three\"])"
   ]
  },
  {
   "cell_type": "code",
   "execution_count": null,
   "metadata": {},
   "outputs": [],
   "source": []
  }
 ],
 "metadata": {
  "kernelspec": {
   "display_name": "Python 3",
   "language": "python",
   "name": "python3"
  },
  "language_info": {
   "codemirror_mode": {
    "name": "ipython",
    "version": 3
   },
   "file_extension": ".py",
   "mimetype": "text/x-python",
   "name": "python",
   "nbconvert_exporter": "python",
   "pygments_lexer": "ipython3",
   "version": "3.7.3"
  }
 },
 "nbformat": 4,
 "nbformat_minor": 2
}

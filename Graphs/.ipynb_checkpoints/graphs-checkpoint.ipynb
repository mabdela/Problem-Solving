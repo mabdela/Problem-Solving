{
 "cells": [
  {
   "cell_type": "code",
   "execution_count": 11,
   "metadata": {},
   "outputs": [
    {
     "name": "stdout",
     "output_type": "stream",
     "text": [
      "Folllowing are all different paths from 2 to 3 : \n"
     ]
    },
    {
     "data": {
      "text/plain": [
       "[[2, 0, 1, 3], [2, 0, 3], [2, 1, 3]]"
      ]
     },
     "execution_count": 11,
     "metadata": {},
     "output_type": "execute_result"
    }
   ],
   "source": [
    "# Find all paths from a given source to destination using depth first search\n",
    "from collections import defaultdict\n",
    "class Graph:\n",
    "    def __init__(self, vertices):\n",
    "        self.v = vertices\n",
    "        self.graph = defaultdict(list)\n",
    "        \n",
    "    def addEdge(self, u, v):\n",
    "        self.graph[u].append(v)\n",
    "    \n",
    "    def printAllPathsUtil(self, u, v, visited, path, all_paths):\n",
    "        \n",
    "        visited[u] = True\n",
    "        path.append(u)\n",
    "        \n",
    "        if u==d:\n",
    "            all_paths.append(path[:])\n",
    "        else:\n",
    "            for i in self.graph[u]:\n",
    "                if visited[i]==False:\n",
    "                    self.printAllPathsUtil(i, d, visited, path, all_paths)\n",
    "        path.pop()\n",
    "        visited[u] = False\n",
    "        \n",
    "    def printAllPaths(self, s, d):\n",
    "        visited = [False]*(self.v)\n",
    "        path = []\n",
    "        all_paths =[]\n",
    "        self.printAllPathsUtil(s, d, visited, path, all_paths)\n",
    "        return all_paths\n",
    "\n",
    "g = Graph(4)\n",
    "g.addEdge(0, 1)\n",
    "g.addEdge(0, 2)\n",
    "g.addEdge(0, 3)\n",
    "g.addEdge(2, 0)\n",
    "g.addEdge(2, 1)\n",
    "g.addEdge(1, 3)\n",
    "s = 2 ;d = 3\n",
    "print(\"Folllowing are all different paths from %d to %d : \"%(s, d))\n",
    "g.printAllPaths(s, d)"
   ]
  },
  {
   "cell_type": "markdown",
   "metadata": {},
   "source": [
    "---"
   ]
  },
  {
   "cell_type": "code",
   "execution_count": 16,
   "metadata": {},
   "outputs": [],
   "source": [
    "\"\"\"\n",
    "Finding degree and degree sequence of a given graph\n",
    "\"\"\"\n",
    "class Graph(object):\n",
    "    def __init__(self, graph_dict=None):\n",
    "        if(graph_dict==None):\n",
    "            graph_dict = {}\n",
    "        self.__graph_dict = graph_dict\n",
    "    def vertices(self):\n",
    "        return self.__graph_dict.keys()\n",
    "        \n",
    "    def edges(self):\n",
    "        edges =[]\n",
    "        for node in self.__graph_dict:\n",
    "            \n",
    "            for adj in self.__graph_dict[node]:\n",
    "                if({node, adj} not in edges):\n",
    "                    edges.append({node, adj})\n",
    "                    \n",
    "        return edges\n",
    "        \n",
    "    def add_vertex(self, vertex):\n",
    "        self.__graph_dict[vertex] = []\n",
    "        \n",
    "    def add_edge(self, edge):\n",
    "        (v1, v2) = tuple(edge)\n",
    "        if(v1 in self.__graph_dict.keys()):\n",
    "            self.__graph_dict[v1].append(v2)\n",
    "        else:\n",
    "            slef.__graph_dict[v1]=[v2]\n",
    "            \n",
    "    def degree(self, vertex):\n",
    "        result = self.__graph_dict[vertex]\n",
    "        return len(result)+ result.count(vertex)\n",
    "    \n",
    "    def degree_sequence(self):\n",
    "        seq =[]\n",
    "        \n",
    "        for vertex in self.vertices():\n",
    "            seq.append(self.degree(vertex))\n",
    "        \n",
    "        return tuple(sorted(seq, reverse=True))"
   ]
  },
  {
   "cell_type": "code",
   "execution_count": 17,
   "metadata": {},
   "outputs": [],
   "source": [
    "g = { \"a\" : [\"d\", \"f\"],\n",
    "      \"b\" : [\"c\"],\n",
    "      \"c\" : [\"b\",\"c\", \"d\", \"e\"],\n",
    "      \"d\" : [\"a\", \"c\"],\n",
    "      \"e\" : [\"c\"],\n",
    "      \"f\" : [\"d\", \"a\"]\n",
    "        }\n",
    "graph = Graph(g)"
   ]
  },
  {
   "cell_type": "code",
   "execution_count": 18,
   "metadata": {},
   "outputs": [
    {
     "data": {
      "text/plain": [
       "5"
      ]
     },
     "execution_count": 18,
     "metadata": {},
     "output_type": "execute_result"
    }
   ],
   "source": [
    "# Find the degree of node 'c'\n",
    "graph.degree(\"c\")"
   ]
  },
  {
   "cell_type": "code",
   "execution_count": 19,
   "metadata": {},
   "outputs": [
    {
     "data": {
      "text/plain": [
       "(5, 2, 2, 2, 1, 1)"
      ]
     },
     "execution_count": 19,
     "metadata": {},
     "output_type": "execute_result"
    }
   ],
   "source": [
    "# Find the degree sequence of the graph\n",
    "graph.degree_sequence()"
   ]
  },
  {
   "cell_type": "markdown",
   "metadata": {},
   "source": [
    "---"
   ]
  },
  {
   "cell_type": "code",
   "execution_count": 35,
   "metadata": {},
   "outputs": [],
   "source": [
    "\"\"\"\n",
    "Methods to check if a graph is connected and also finding diameter of a graph. \n",
    "\n",
    "Note that, below, a very simple method is used to check if a given graph is connected and it is not optimal. \n",
    "\"\"\"\n",
    "class Graph(object):\n",
    "    def __init__(self, graph_dict=None):\n",
    "        if(graph_dict==None):\n",
    "            graph_dict = {}\n",
    "        self.__graph_dict = graph_dict\n",
    "    def vertices(self):\n",
    "        return self.__graph_dict.keys()\n",
    "    \n",
    "    def is_connected(self, vertices_encountered=None, start_vertex=None):\n",
    "        \n",
    "        if(vertices_encountered is None):\n",
    "            vertices_encountered = set()\n",
    "        \n",
    "        gdict = self.__graph_dict\n",
    "        vertices = list(gdict.keys()) # don't forget the list casting here\n",
    "        \n",
    "        if not start_vertex:\n",
    "            start_vertex = vertices[0]\n",
    "        \n",
    "        vertices_encountered.add(start_vertex)\n",
    "        \n",
    "        if(len(vertices_encountered)!=len(vertices)):\n",
    "            for vertex in gdict[start_vertex]:\n",
    "                if(vertex not in vertices_encountered):\n",
    "                    if self.is_connected(vertices_encountered, vertex):\n",
    "                        return True\n",
    "        else:\n",
    "            return True\n",
    "        \n",
    "        return False\n",
    "    \n",
    "    def diameter(self):\n",
    "        \n",
    "        v = list(self.vertices())\n",
    "        \n",
    "        pairs = [[v[i], v[j]] for i in range(len(v)-1) for j in range(i+1, len(v))]\n",
    "        \n",
    "        smallest =[]\n",
    "        \n",
    "        for i, j in pairs:\n",
    "            all_paths = self.find_all_paths_best(i, j)\n",
    "            smallest.append(sorted(all_paths, key=len)[0])\n",
    "        \n",
    "        smallest.sort(key=len)\n",
    "        return len(smallest[-1])-1\n",
    "    \n",
    "    def find_all_paths_best(self, start_vertex, end_vertex):\n",
    "        \n",
    "        all_paths =[]\n",
    "        \n",
    "        vertices = self.vertices()\n",
    "        \n",
    "        visited = {vertice:False for vertice in vertices}\n",
    "        \n",
    "        self.helper(start_vertex, end_vertex, all_paths, [], visited)\n",
    "        \n",
    "        return all_paths\n",
    "    \n",
    "    def helper(self, start_vertex, end_vertex, all_paths, path, visited):\n",
    "        \n",
    "\n",
    "        if(start_vertex not in self.__graph_dict):\n",
    "            return \n",
    "        \n",
    "        \n",
    "        if (start_vertex==end_vertex):\n",
    "            all_paths.append(path+[start_vertex])\n",
    "            return\n",
    "        \n",
    "        if visited[start_vertex]:\n",
    "            return \n",
    "        \n",
    "        path.append(start_vertex)\n",
    "        visited[start_vertex] = True\n",
    "\n",
    "        for vertex in self.__graph_dict[start_vertex]:\n",
    "            self.helper(vertex, end_vertex, all_paths, path, visited)\n",
    "        \n",
    "        path.pop()\n",
    "        visited[start_vertex] = False\n",
    "        return \n",
    "            "
   ]
  },
  {
   "cell_type": "code",
   "execution_count": 36,
   "metadata": {},
   "outputs": [],
   "source": [
    "g = { \"a\" : [\"c\"],\n",
    "      \"b\" : [\"c\",\"e\",\"f\"],\n",
    "      \"c\" : [\"a\",\"b\",\"d\",\"e\"],\n",
    "      \"d\" : [\"c\"],\n",
    "      \"e\" : [\"b\",\"c\",\"f\"],\n",
    "      \"f\" : [\"b\",\"e\"]\n",
    "}\n",
    "graph = Graph(g)"
   ]
  },
  {
   "cell_type": "code",
   "execution_count": 37,
   "metadata": {},
   "outputs": [
    {
     "data": {
      "text/plain": [
       "True"
      ]
     },
     "execution_count": 37,
     "metadata": {},
     "output_type": "execute_result"
    }
   ],
   "source": [
    "#check if a graph is connected\n",
    "graph.is_connected()"
   ]
  },
  {
   "cell_type": "code",
   "execution_count": 38,
   "metadata": {},
   "outputs": [
    {
     "data": {
      "text/plain": [
       "3"
      ]
     },
     "execution_count": 38,
     "metadata": {},
     "output_type": "execute_result"
    }
   ],
   "source": [
    "# Find diameter of a graph\n",
    "graph.diameter()"
   ]
  },
  {
   "cell_type": "markdown",
   "metadata": {},
   "source": [
    "---"
   ]
  },
  {
   "cell_type": "code",
   "execution_count": 43,
   "metadata": {},
   "outputs": [],
   "source": [
    "\"\"\"\n",
    "Find articulation points in a graph using a slightly modified version of Tarjan Algorithm.\n",
    "\n",
    "\"\"\"\n",
    "\n",
    "from collections import defaultdict\n",
    "\n",
    "def articulationPoint(n, connections):\n",
    "    '''\n",
    "    1) build the graph\n",
    "    2) use Tarjan Algorithm (slightly modified dfs) to find critical nodes\n",
    "       - low-link\n",
    "       - discovery time (counter)\n",
    "       - parent\n",
    "    '''\n",
    "    graph = defaultdict(list)\n",
    "    \n",
    "    for i, j in connections:\n",
    "        graph[i].append(j)\n",
    "        graph[j].append(i)\n",
    "    \n",
    "    low=[0]*n\n",
    "    parent = [-1]*n\n",
    "    disc = [0]*n\n",
    "    results =set()\n",
    "    \n",
    "    def Tarjan(steps, curr, prev):\n",
    "        low[curr] = steps\n",
    "        disc[curr] = steps\n",
    "        child_count =0\n",
    "        for adj in graph[curr]:\n",
    "            if adj ==prev: continue\n",
    "            \n",
    "            \n",
    "            if not low[curr]:\n",
    "                child_count+=1\n",
    "                parent[adj] = curr\n",
    "                Tarjan(steps+1, adj, curr)\n",
    "                \n",
    "                low[curr] = min(low[adj], low[curr])\n",
    "                \n",
    "                if parent[curr]!=-1 and low[adj]>=steps:\n",
    "                    results.add(curr)\n",
    "                \n",
    "                if parent[curr]==-1 and child_count>1:\n",
    "                    results.add(curr)\n",
    "            \n",
    "            elif (adj!=parent[prev]):\n",
    "                \n",
    "                low[curr] = min(low[curr], disc[adj])\n",
    "    \n",
    "    Tarjan(1, 0, -1)\n",
    "    \n",
    "    return list(results)\n",
    "    "
   ]
  },
  {
   "cell_type": "code",
   "execution_count": 44,
   "metadata": {},
   "outputs": [
    {
     "data": {
      "text/plain": [
       "[0]"
      ]
     },
     "execution_count": 44,
     "metadata": {},
     "output_type": "execute_result"
    }
   ],
   "source": [
    "#Example \n",
    "#n = 7\n",
    "n=5\n",
    "#connections = [[0, 1], [0, 2], [1, 3], [2, 3], [2, 5], [5, 6], [3, 4]]\n",
    "connections = [[0,1],[1,2],[2,0],[3,0],[3,4],[4,0]]\n",
    "articulationPoint(n, connections)"
   ]
  },
  {
   "cell_type": "markdown",
   "metadata": {},
   "source": [
    "---"
   ]
  },
  {
   "cell_type": "code",
   "execution_count": 45,
   "metadata": {},
   "outputs": [],
   "source": [
    "\"\"\"\n",
    "Find critical connections using depth first search or Tarjan Algorithm to find all the critical connections\n",
    "\"\"\"\n",
    "from collections import defaultdict\n",
    "class Solution:\n",
    "    def criticalConnections(self, n: int, connections):\n",
    "        '''\n",
    "        1) build a graph \n",
    "        2) use a slightly modified version of depth first search or\n",
    "        Tarjan Algorithm to find all the critical connections\n",
    "        '''\n",
    "        \n",
    "        graph = defaultdict(list)\n",
    "        \n",
    "        for i, j in connections:\n",
    "            graph[i].append(j)\n",
    "            graph[j].append(i)\n",
    "        \n",
    "        results =[]\n",
    "        low= [0]*n\n",
    "        \n",
    "        def dfs(node, parent, steps):\n",
    "            \n",
    "            low[node] = steps\n",
    "            \n",
    "            for adj in graph[node]:\n",
    "                \n",
    "                if adj==parent: continue # cycle detection\n",
    "                \n",
    "                if not low[adj]:\n",
    "                    dfs(adj, node, steps+1)\n",
    "                    \n",
    "                \n",
    "                low[node] = min(low[node], low[adj])\n",
    "                \n",
    "                if low[adj]>steps:\n",
    "                    results.append([node, adj])\n",
    "                    \n",
    "        \n",
    "        \n",
    "        dfs(0, -1, 1)\n",
    "        \n",
    "        return results"
   ]
  },
  {
   "cell_type": "code",
   "execution_count": 46,
   "metadata": {},
   "outputs": [
    {
     "data": {
      "text/plain": [
       "[[5, 6], [2, 5], [3, 4]]"
      ]
     },
     "execution_count": 46,
     "metadata": {},
     "output_type": "execute_result"
    }
   ],
   "source": [
    "n = 7\n",
    "#n=5\n",
    "connections = [[0, 1], [0, 2], [1, 3], [2, 3], [2, 5], [5, 6], [3, 4]]\n",
    "#connections = [[0,1],[1,2],[2,0],[3,0],[3,4],[4,0]]\n",
    "obj = Solution()\n",
    "obj.criticalConnections(n, connections)"
   ]
  },
  {
   "cell_type": "markdown",
   "metadata": {},
   "source": [
    "---"
   ]
  },
  {
   "cell_type": "code",
   "execution_count": 87,
   "metadata": {},
   "outputs": [],
   "source": [
    "\"\"\"\n",
    "Find cycles in a directed graph.\n",
    "\n",
    "\"\"\"\n",
    "\n",
    "from collections import defaultdict, deque \n",
    "\n",
    "class Graph:\n",
    "    def __init__(self):\n",
    "        self.g = defaultdict(list)\n",
    "    \n",
    "    def insertEdge(self, s, d):\n",
    "        self.g[s].append(d)\n",
    "        if d not in self.g:\n",
    "            self.g[d]\n",
    "        \n",
    "    def vertices(self):\n",
    "        return list(self.g.keys())\n",
    "    \n",
    "    def isThereACycle(self):\n",
    "        visited = [\"White\"]*(len(self.g))\n",
    "        \n",
    "        def helper(s):\n",
    "            \n",
    "            visited[s] = \"Gray\"\n",
    "            for v in self.g[s]:\n",
    "                if visited[v]==\"Gray\":\n",
    "                    return True\n",
    "                if visited[v]==\"White\":\n",
    "                    if helper(v):\n",
    "                        return True\n",
    "            \n",
    "            visited[s] = \"Black\"\n",
    "            \n",
    "            return False\n",
    "        \n",
    "        for v in range(len(self.g)):\n",
    "            if visited[v]==\"White\":\n",
    "                if helper(v):\n",
    "                    return True\n",
    "                \n",
    "        return False\n",
    "                \n",
    "\n",
    "    def findCyclesDirected(self):\n",
    "        color = [\"White\"]*(len(self.g))\n",
    "        cycles = []\n",
    "        \n",
    "        def helper(s, path):\n",
    "            \n",
    "            color[s] = \"Gray\"\n",
    "            for v in self.g[s]:\n",
    "                if color[v]==\"Gray\":\n",
    "                    idx = path.index(v)\n",
    "                    cycles.append(path[idx:]+[v])\n",
    "                if color[v]==\"White\":\n",
    "                    helper(v, path+[v])\n",
    "            \n",
    "            color[s] = \"Black\"\n",
    "\n",
    "        for v in range(len(self.g)):\n",
    "            if color[v]==\"White\":\n",
    "                helper(v, [v]) \n",
    "                \n",
    "        return cycles\n",
    "        \n",
    "    def buildGraph(self, edges):\n",
    "        for edge in edges:\n",
    "            self.insertEdge(edge[0], edge[1])     \n",
    "        "
   ]
  },
  {
   "cell_type": "code",
   "execution_count": 88,
   "metadata": {},
   "outputs": [
    {
     "data": {
      "text/plain": [
       "True"
      ]
     },
     "execution_count": 88,
     "metadata": {},
     "output_type": "execute_result"
    }
   ],
   "source": [
    "g = [[0, 1], [1, 2], [3, 1], [2, 3], [3, 3]]\n",
    "obj = Graph()\n",
    "obj.buildGraph(g)\n",
    "obj.isThereACycle()"
   ]
  },
  {
   "cell_type": "code",
   "execution_count": 89,
   "metadata": {},
   "outputs": [
    {
     "data": {
      "text/plain": [
       "[[1, 2, 3, 1], [3, 3]]"
      ]
     },
     "execution_count": 89,
     "metadata": {},
     "output_type": "execute_result"
    }
   ],
   "source": [
    "obj.findCyclesDirected()"
   ]
  },
  {
   "cell_type": "markdown",
   "metadata": {},
   "source": [
    "---"
   ]
  },
  {
   "cell_type": "code",
   "execution_count": 91,
   "metadata": {},
   "outputs": [],
   "source": [
    "\"\"\"\n",
    "Find cycles in an undirected graph.\n",
    "\n",
    "\"\"\"\n",
    "\n",
    "from collections import defaultdict, deque \n",
    "\n",
    "class Graph:\n",
    "    def __init__(self):\n",
    "        self.g = defaultdict(list)\n",
    "    \n",
    "    def insertEdge(self, s, d):\n",
    "        if s==d: # Need this incase of self-loop\n",
    "            self.g[s].append(d)\n",
    "            return \n",
    "        self.g[s].append(d)\n",
    "        self.g[d].append(s)\n",
    "      \n",
    "    def findCyclesUndirected(self):\n",
    "        color = [\"White\"]*(len(self.g))\n",
    "        cycles = []\n",
    "        \n",
    "        def helper(s, path, parent):\n",
    "            \n",
    "            color[s] = \"Gray\"\n",
    "            for v in self.g[s]:\n",
    "                if color[v]==\"White\":\n",
    "                    helper(v, path+[v], s)\n",
    "                    \n",
    "                if color[v]==\"Gray\" and v!=parent:\n",
    "                    idx = path.index(v)\n",
    "                    cycles.append(path[idx:]+[v])\n",
    "                    \n",
    "            color[s] = \"Black\"\n",
    "            \n",
    "        for v in range(len(self.g)):\n",
    "            if color[v]==\"White\":\n",
    "                helper(v, [v], v) \n",
    "            \n",
    "        print(cycles)        \n",
    "        \n",
    "    def buildGraph(self, edges):\n",
    "        for edge in edges:\n",
    "            self.insertEdge(edge[0], edge[1])     \n",
    "        "
   ]
  },
  {
   "cell_type": "code",
   "execution_count": 92,
   "metadata": {},
   "outputs": [
    {
     "name": "stdout",
     "output_type": "stream",
     "text": [
      "[[1, 2, 3, 1], [3, 3]]\n"
     ]
    }
   ],
   "source": [
    "g = [[0, 1], [1, 2], [3, 1], [2, 3], [3, 3]]\n",
    "obj = Graph()\n",
    "obj.buildGraph(g)\n",
    "obj.findCyclesUndirected()"
   ]
  },
  {
   "cell_type": "code",
   "execution_count": 47,
   "metadata": {},
   "outputs": [],
   "source": [
    "\n",
    "\"\"\"\n",
    "The 'permute' function given below uses depth first search to find \n",
    "all permutations of a given list of integers/strings.\n",
    "\n",
    "e.g. Input: [1,2,3] \n",
    "Output:[ [1,2,3], [1,3,2], [2,1,3], [2,3,1], [3,1,2], [3,2,1]]\n",
    "\"\"\"\n",
    "\n",
    "class Solution:\n",
    "    \n",
    "    def __init__(self):\n",
    "        self.valid = []\n",
    "    \n",
    "    def permute(self, G):\n",
    "        \n",
    "        n = len(G)\n",
    "        \n",
    "        def dfs(G, s, visited, path, path_len):\n",
    "            #print(\"path_len: \", path_len, \" n:\", n, path, \" Visisted: \", visited)\n",
    "            if path_len == n - 1:\n",
    "                self.valid.append(path + [s])\n",
    "                return\n",
    "            for neigh in G:\n",
    "                if s != neigh and neigh not in visited:\n",
    "                    dfs(G, neigh, visited + [s], path + [s], path_len + 1)\n",
    "                    \n",
    "        for v in G:\n",
    "            dfs(G, v, [], [], 0)\n",
    "            \n",
    "        return self.valid\n",
    "    \n",
    "    #Alternative solutions without using Depth First Search.\n",
    "    \"\"\"\n",
    "    import itertools\n",
    "\n",
    "    class Solution:\n",
    "\n",
    "        def permute(self, G):\n",
    "\n",
    "            result = itertools.permutations(G)\n",
    "            result = [list(item) for item in result]\n",
    "            return result\n",
    "\n",
    "\n",
    "\n",
    "            import math\n",
    "    class Solution:\n",
    "\n",
    "        def permute(self, G):        \n",
    "\n",
    "\n",
    "            factor = math.factorial\n",
    "\n",
    "            def findStartingIndex(num, sequence):\n",
    "                edges = G[:]\n",
    "\n",
    "                result = []\n",
    "                remainder = sequence        \n",
    "\n",
    "                while remainder>1:\n",
    "\n",
    "                    next_max = factor(num-1)\n",
    "                    div = remainder//next_max\n",
    "                    remainder = remainder%next_max\n",
    "                    if(remainder==0):\n",
    "                        div-=1\n",
    "                        remainder = next_max\n",
    "\n",
    "                    result.append(edges[div])\n",
    "\n",
    "                    edges.pop(div)\n",
    "                    num-=1\n",
    "\n",
    "                result.extend(edges)\n",
    "                return result \n",
    "\n",
    "            n = factor(len(G))\n",
    "            if n==1:\n",
    "                return [[1]]\n",
    "            ans =[]\n",
    "\n",
    "            for i in range(1, n+1):\n",
    "                ans.append(findStartingIndex(len(G), i)) \n",
    "\n",
    "            return ans\n",
    "    \"\"\""
   ]
  },
  {
   "cell_type": "code",
   "execution_count": 48,
   "metadata": {},
   "outputs": [
    {
     "data": {
      "text/plain": [
       "[['one', 'two', 'three'],\n",
       " ['one', 'three', 'two'],\n",
       " ['two', 'one', 'three'],\n",
       " ['two', 'three', 'one'],\n",
       " ['three', 'one', 'two'],\n",
       " ['three', 'two', 'one']]"
      ]
     },
     "execution_count": 48,
     "metadata": {},
     "output_type": "execute_result"
    }
   ],
   "source": [
    "#Example \n",
    "obj = Solution()\n",
    "obj.permute([\"one\", \"two\", \"three\"])"
   ]
  },
  {
   "cell_type": "markdown",
   "metadata": {},
   "source": [
    "---"
   ]
  },
  {
   "cell_type": "code",
   "execution_count": 49,
   "metadata": {},
   "outputs": [],
   "source": [
    "# Adjacency list representation of a graph in python \n",
    "graph = { \"a\" : [\"c\"],\n",
    "          \"b\" : [\"c\", \"e\"],\n",
    "          \"c\" : [\"a\", \"b\", \"d\", \"e\"],\n",
    "          \"d\" : [\"c\"],\n",
    "          \"e\" : [\"c\", \"b\"],\n",
    "          \"f\" : []\n",
    "        }"
   ]
  },
  {
   "cell_type": "code",
   "execution_count": 50,
   "metadata": {},
   "outputs": [
    {
     "data": {
      "text/plain": [
       "[('a', 'c'),\n",
       " ('b', 'c'),\n",
       " ('b', 'e'),\n",
       " ('c', 'a'),\n",
       " ('c', 'b'),\n",
       " ('c', 'd'),\n",
       " ('c', 'e'),\n",
       " ('d', 'c'),\n",
       " ('e', 'c'),\n",
       " ('e', 'b')]"
      ]
     },
     "execution_count": 50,
     "metadata": {},
     "output_type": "execute_result"
    }
   ],
   "source": [
    "# Print all edges of the graph given above\n",
    "def generate_edges(graph):\n",
    "    edges = []\n",
    "    for node in graph:\n",
    "        for neighbour in graph[node]:\n",
    "            edges.append((node, neighbour))\n",
    "\n",
    "    return edges\n",
    "generate_edges(graph)"
   ]
  },
  {
   "cell_type": "code",
   "execution_count": 51,
   "metadata": {},
   "outputs": [
    {
     "data": {
      "text/plain": [
       "['f']"
      ]
     },
     "execution_count": 51,
     "metadata": {},
     "output_type": "execute_result"
    }
   ],
   "source": [
    "\"\"\"\n",
    "Find isolated nodes from the graph given above\n",
    "\"\"\"\n",
    "def findIsolatedNodes(graph):\n",
    "    isolated=[]\n",
    "    for node in graph:\n",
    "        if(not graph[node]):\n",
    "            isolated.append(node)\n",
    "    \n",
    "    return isolated\n",
    "findIsolatedNodes(graph)        "
   ]
  },
  {
   "cell_type": "markdown",
   "metadata": {},
   "source": [
    "---"
   ]
  },
  {
   "cell_type": "code",
   "execution_count": 68,
   "metadata": {},
   "outputs": [],
   "source": [
    "\"\"\"Bredth First Search implementation.\n",
    "\"\"\"\n",
    "class Graph:\n",
    "    def __init__(self, graph=None):\n",
    "        if graph:\n",
    "            self.g = graph\n",
    "        else:\n",
    "            self.g = defaultdict(list)\n",
    "    \n",
    "    def BFS(self, s, d):\n",
    "        '''\n",
    "        Finds a path between s and d.\n",
    "        '''\n",
    "        queue =[[s, [s]]]\n",
    "        ans = []  \n",
    "        while queue:\n",
    "            node = queue.pop(0)   \n",
    "            \n",
    "            if node[0]==d:\n",
    "                ans.append(node[1])\n",
    "                continue\n",
    "            \n",
    "            for item in set(self.g[node[0]])-set(node[1]):\n",
    "                queue.append([item, node[1]+[item]])\n",
    "                            \n",
    "        return ans\n",
    "    \n",
    "# Alternatively \n",
    "'''\n",
    "Knowing that the shortest path will be returned first from the BFS path search method,\n",
    "we can just return the path found first. \n",
    "'''\n",
    "def bfs_paths_shortest(graph, start, goal):\n",
    "    queue = [(start, [start])]\n",
    "    ans =[]\n",
    "    while queue:\n",
    "        vertex, path = queue.pop(0)\n",
    "        if(vertex==goal):\n",
    "            return path\n",
    "            \n",
    "        for node in set(graph[vertex]) - set(path):\n",
    "            queue.append([node, path + [node]])\n",
    "    \n",
    "    return ans\n",
    "\n",
    "#Here we are using Breadth Frist Search to find all possible paths.\n",
    "def bfs_paths(graph, start, goal):\n",
    "    queue = [(start, [start])]\n",
    "    ans =[]\n",
    "    while queue:\n",
    "        vertex, path = queue.pop(0)\n",
    "        if(vertex==goal):\n",
    "            ans.append(path)\n",
    "            continue\n",
    "            \n",
    "        for node in set(graph[vertex]) - set(path):\n",
    "            queue.append([node, path + [node]])\n",
    "    \n",
    "    return ans"
   ]
  },
  {
   "cell_type": "code",
   "execution_count": 74,
   "metadata": {},
   "outputs": [],
   "source": [
    "\"\"\"\n",
    "Similarly for Depth First Search\n",
    "\"\"\"\n",
    "def dfs_paths(graph, start, goal):\n",
    "    stack = [(start, [start])]\n",
    "    ans =[]\n",
    "    while stack:\n",
    "        (vertex, path) = stack.pop()\n",
    "        if vertex == goal:\n",
    "            ans.append(path)\n",
    "            \n",
    "        for node in set(graph[vertex]) - set(path):\n",
    "            stack.append((node, path + [node]))\n",
    "    return ans"
   ]
  },
  {
   "cell_type": "code",
   "execution_count": 70,
   "metadata": {},
   "outputs": [],
   "source": [
    "#Example \n",
    "graph = {'A': ['B', 'C'],\n",
    "         'B': ['A', 'D', 'E'],\n",
    "         'C': ['A', 'F'],\n",
    "         'D': ['B'],\n",
    "         'E': ['B', 'F'],\n",
    "         'F': ['C', 'E']}"
   ]
  },
  {
   "cell_type": "code",
   "execution_count": 71,
   "metadata": {},
   "outputs": [
    {
     "data": {
      "text/plain": [
       "[['A', 'C', 'F'], ['A', 'B', 'E', 'F']]"
      ]
     },
     "execution_count": 71,
     "metadata": {},
     "output_type": "execute_result"
    }
   ],
   "source": [
    "bfs_paths(graph, 'A', 'F')"
   ]
  },
  {
   "cell_type": "code",
   "execution_count": 72,
   "metadata": {},
   "outputs": [
    {
     "data": {
      "text/plain": [
       "['A', 'C', 'F']"
      ]
     },
     "execution_count": 72,
     "metadata": {},
     "output_type": "execute_result"
    }
   ],
   "source": [
    "bfs_paths_shortest(graph, 'A', 'F')"
   ]
  },
  {
   "cell_type": "code",
   "execution_count": 73,
   "metadata": {},
   "outputs": [
    {
     "data": {
      "text/plain": [
       "[['A', 'B', 'E', 'F'], ['A', 'C', 'F']]"
      ]
     },
     "execution_count": 73,
     "metadata": {},
     "output_type": "execute_result"
    }
   ],
   "source": [
    "dfs_paths(graph, 'A', 'F')"
   ]
  },
  {
   "cell_type": "markdown",
   "metadata": {},
   "source": [
    "---"
   ]
  },
  {
   "cell_type": "code",
   "execution_count": 75,
   "metadata": {},
   "outputs": [],
   "source": [
    "\"\"\"\n",
    "Graph coloring problem\n",
    "\n",
    "Example:\n",
    "How many ways can the colors {R, G, B} assigned to the graph?\n",
    "\n",
    "*Time complexity 3^n\n",
    "\n",
    "1 -- 2\n",
    "|    |\n",
    "4 -- 3\n",
    "\"\"\"\n",
    "from collections import defaultdict\n",
    "\n",
    "def colorInAdjacent(node, graph, adj_color, color):\n",
    "    \n",
    "    for item in graph[node]:\n",
    "        if adj_color[item]==color:\n",
    "            return True\n",
    "        \n",
    "    return False\n",
    "\n",
    "def findAllCombinations(links, colors, source, dest, n):\n",
    "    \n",
    "    graph = defaultdict(list)\n",
    "    \n",
    "    for i, j in links:\n",
    "        graph[i].append(j)\n",
    "        graph[j].append(i)\n",
    "        \n",
    "    result = []\n",
    "    adj_color = dict.fromkeys(graph.keys())\n",
    "    \n",
    "    def backtracking(s, d, color, temp, visited):\n",
    "        \n",
    "        visited = visited +[s]\n",
    "        adj_color[s] = color\n",
    "        \n",
    "        if s==d and len(temp)==n:\n",
    "            result.append(temp)\n",
    "            return \n",
    "        \n",
    "        for node in set(graph[s])-set(visited):\n",
    "            \n",
    "            for c in colors:\n",
    "                if not colorInAdjacent(node, graph, adj_color, c): # bounding function!!\n",
    "                    backtracking(node, d, c, temp+[c], visited)\n",
    "            adj_color[node] = None\n",
    "    \n",
    "    for color in colors:\n",
    "        backtracking(source, dest, color, [color], [])\n",
    "\n",
    "    \n",
    "    return result       "
   ]
  },
  {
   "cell_type": "code",
   "execution_count": 76,
   "metadata": {},
   "outputs": [
    {
     "data": {
      "text/plain": [
       "[['R', 'G', 'R', 'G'],\n",
       " ['R', 'G', 'R', 'B'],\n",
       " ['R', 'G', 'B', 'G'],\n",
       " ['R', 'B', 'R', 'G'],\n",
       " ['R', 'B', 'R', 'B'],\n",
       " ['R', 'B', 'G', 'B'],\n",
       " ['G', 'R', 'G', 'R'],\n",
       " ['G', 'R', 'G', 'B'],\n",
       " ['G', 'R', 'B', 'R'],\n",
       " ['G', 'B', 'R', 'B'],\n",
       " ['G', 'B', 'G', 'R'],\n",
       " ['G', 'B', 'G', 'B'],\n",
       " ['B', 'R', 'G', 'R'],\n",
       " ['B', 'R', 'B', 'R'],\n",
       " ['B', 'R', 'B', 'G'],\n",
       " ['B', 'G', 'R', 'G'],\n",
       " ['B', 'G', 'B', 'R'],\n",
       " ['B', 'G', 'B', 'G']]"
      ]
     },
     "execution_count": 76,
     "metadata": {},
     "output_type": "execute_result"
    }
   ],
   "source": [
    "links = [[1, 2], [2, 3], [3, 4], [4, 1]]\n",
    "color = [\"R\", \"G\", \"B\"]\n",
    "source = 1\n",
    "dest = 4\n",
    "findAllCombinations(links, color, source, dest, 4)"
   ]
  },
  {
   "cell_type": "markdown",
   "metadata": {},
   "source": [
    "---"
   ]
  },
  {
   "cell_type": "code",
   "execution_count": 80,
   "metadata": {},
   "outputs": [],
   "source": [
    "import sys \n",
    "import heapq\n",
    "\n",
    "class Graph(): \n",
    "\n",
    "    def __init__(self, vertices): \n",
    "        self.V = vertices \n",
    "        self.graph = [[0]*vertices for row in range(vertices)] \n",
    "\n",
    "  \n",
    "    def dijkstra(self, src, dest): \n",
    "\n",
    "        dist = [sys.maxsize] * self.V \n",
    "        dist[src] = 0\n",
    "        visited = [False] * self.V \n",
    "        pqueue = []\n",
    "        heapq.heappush(pqueue, (0, src, [0]))\n",
    "\n",
    "        while pqueue: \n",
    "\n",
    "            cost, node, path = heapq.heappop(pqueue)\n",
    "            visited[node] = True\n",
    "            \n",
    "            if node==dest:\n",
    "                print(\"cost: \", cost, \"and path: \", path)\n",
    "                return \n",
    "\n",
    "            for v in range(self.V): \n",
    "                path_len = dist[node] + self.graph[node][v]\n",
    "                if self.graph[node][v] > 0 and \\\n",
    "                visited[v] == False and dist[v] > path_len:\n",
    "                    dist[v] = path_len\n",
    "                    heapq.heappush(pqueue, (path_len, v, path+[v]))\n",
    "    \"\"\"\n",
    "    Here we are using parent dictionary for identifying path once we get to destination. \n",
    "    \"\"\"                \n",
    "    def dijkstra2(self, src, dest): \n",
    "\n",
    "            dist = [sys.maxsize] * self.V \n",
    "            dist[src] = 0\n",
    "            visited = [False] * self.V \n",
    "            pqueue = []\n",
    "            \n",
    "            parent = dict.fromkeys(range(10))\n",
    "            parent[src] =src\n",
    "            \n",
    "            heapq.heappush(pqueue, (0, src))\n",
    "            \n",
    "            prevNode =src\n",
    "            while pqueue: \n",
    "\n",
    "                cost, node = heapq.heappop(pqueue)\n",
    "\n",
    "                visited[node] = True\n",
    "\n",
    "\n",
    "                if node==dest:\n",
    "                    print(\"cost: \", cost)\n",
    "                    path = []  \n",
    "                    curr = dest\n",
    "                    while curr!=src:\n",
    "                        path.insert(0, curr)\n",
    "                        curr = parent[curr]\n",
    "                    path.insert(0, src)\n",
    "                    print(\"Path: \", path)\n",
    "                    break \n",
    "\n",
    "                for v in range(self.V): \n",
    "                    path_len = dist[node] + self.graph[node][v]\n",
    "                    if self.graph[node][v] > 0 and \\\n",
    "                    visited[v] == False and dist[v] > path_len:\n",
    "                        dist[v] = path_len\n",
    "                        heapq.heappush(pqueue, (path_len, v))\n",
    "                        parent[v] = node\n",
    "                        "
   ]
  },
  {
   "cell_type": "code",
   "execution_count": 81,
   "metadata": {},
   "outputs": [
    {
     "name": "stdout",
     "output_type": "stream",
     "text": [
      "[[ 0  4  0  0  0  0  0  8  0]\n",
      " [ 4  0  8  0  0  0  0 11  0]\n",
      " [ 0  8  0  7  0  4  0  0  2]\n",
      " [ 0  0  7  0  9 14  0  0  0]\n",
      " [ 0  0  0  9  0 10  0  0  0]\n",
      " [ 0  0  4 14 10  0  2  0  0]\n",
      " [ 0  0  0  0  0  2  0  1  6]\n",
      " [ 8 11  0  0  0  0  1  0  7]\n",
      " [ 0  0  2  0  0  0  6  7  0]]\n"
     ]
    }
   ],
   "source": [
    "g = Graph(9) \n",
    "g.graph = [[0, 4, 0, 0, 0, 0, 0, 8, 0], \n",
    "        [4, 0, 8, 0, 0, 0, 0, 11, 0], \n",
    "        [0, 8, 0, 7, 0, 4, 0, 0, 2], \n",
    "        [0, 0, 7, 0, 9, 14, 0, 0, 0], \n",
    "        [0, 0, 0, 9, 0, 10, 0, 0, 0], \n",
    "        [0, 0, 4, 14, 10, 0, 2, 0, 0], \n",
    "        [0, 0, 0, 0, 0, 2, 0, 1, 6], \n",
    "        [8, 11, 0, 0, 0, 0, 1, 0, 7], \n",
    "        [0, 0, 2, 0, 0, 0, 6, 7, 0]]; \n",
    "import numpy as np\n",
    "print(np.matrix(g.graph))"
   ]
  },
  {
   "cell_type": "code",
   "execution_count": 82,
   "metadata": {},
   "outputs": [
    {
     "name": "stdout",
     "output_type": "stream",
     "text": [
      "cost:  21 and path:  [0, 7, 6, 5, 4]\n"
     ]
    }
   ],
   "source": [
    "#Example \n",
    "g.dijkstra(0, 4)"
   ]
  },
  {
   "cell_type": "code",
   "execution_count": null,
   "metadata": {},
   "outputs": [],
   "source": []
  }
 ],
 "metadata": {
  "kernelspec": {
   "display_name": "Python 3",
   "language": "python",
   "name": "python3"
  },
  "language_info": {
   "codemirror_mode": {
    "name": "ipython",
    "version": 3
   },
   "file_extension": ".py",
   "mimetype": "text/x-python",
   "name": "python",
   "nbconvert_exporter": "python",
   "pygments_lexer": "ipython3",
   "version": "3.7.3"
  }
 },
 "nbformat": 4,
 "nbformat_minor": 2
}

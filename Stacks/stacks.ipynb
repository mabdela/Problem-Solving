{
 "cells": [
  {
   "cell_type": "code",
   "execution_count": 4,
   "metadata": {},
   "outputs": [],
   "source": [
    "\"\"\"\n",
    "Given a list of parentheses, it returns a string, either 'YES' or 'NO', to indicate \n",
    "if a given parenthesis is valid or not. \n",
    "\"\"\"\n",
    "import math\n",
    "import os\n",
    "import random\n",
    "import re\n",
    "import sys\n",
    "\n",
    "import string\n",
    "# Complete the braces function below.\n",
    "\n",
    "def checkItem(string_item):\n",
    "\n",
    "    brace_L = [\"[\", \"{\", \"(\"]\n",
    "    brace_R = [\"]\", \"}\", \")\"]\n",
    "    brace_list = []\n",
    "    for item in string_item:\n",
    "        if item in brace_L:\n",
    "            brace_list.append(item)\n",
    "        elif(item in brace_R):\n",
    "            index_ = brace_R.index(item)\n",
    "            if((len(brace_list)>0) and (brace_L[index_]==brace_list[len(brace_list)-1])):\n",
    "                brace_list.pop()\n",
    "            else:\n",
    "                return \"NO\"\n",
    "    \n",
    "    if (len(brace_list)==0):\n",
    "        return \"YES\"\n",
    "    else:\n",
    "        return \"NO\"\n",
    "\n",
    "def braces(values):\n",
    "\n",
    "    answer =[]\n",
    "\n",
    "    for item in values:\n",
    "        answer.append(checkItem(item))\n",
    "        \n",
    "    return answer     "
   ]
  },
  {
   "cell_type": "code",
   "execution_count": 5,
   "metadata": {},
   "outputs": [
    {
     "data": {
      "text/plain": [
       "['YES', 'NO', 'YES']"
      ]
     },
     "execution_count": 5,
     "metadata": {},
     "output_type": "execute_result"
    }
   ],
   "source": [
    "arg = [\"{}()[]\", \"(}){}\", \"(({[]}))\"]\n",
    "braces(arg)"
   ]
  },
  {
   "cell_type": "code",
   "execution_count": 6,
   "metadata": {},
   "outputs": [],
   "source": [
    "# Longest valid parenthesis.  e.g. Need to getback to it\n",
    "#Input: \"(()\"\n",
    "#Output: 2\n",
    "#Explanation: The longest valid parentheses substring is \"()\"\n",
    "class Solution:\n",
    "    def longestValidParentheses(self, s: str) -> int:\n",
    "        res, leftmost = 0, -1\n",
    "        stack = []\n",
    "        for i in range(len(s)):\n",
    "            if s[i] == '(':\n",
    "                stack.append(i)\n",
    "            else: #c == ')'\n",
    "                if not stack:\n",
    "                    leftmost = i\n",
    "                else:\n",
    "                    stack.pop()\n",
    "                    if not stack:\n",
    "                        res = max(res, i-leftmost)\n",
    "                    else:\n",
    "                        res = max(res, i-stack[-1])\n",
    "        return res"
   ]
  },
  {
   "cell_type": "code",
   "execution_count": 8,
   "metadata": {},
   "outputs": [
    {
     "data": {
      "text/plain": [
       "6"
      ]
     },
     "execution_count": 8,
     "metadata": {},
     "output_type": "execute_result"
    }
   ],
   "source": [
    "#Example 1\n",
    "obj = Solution()\n",
    "obj.longestValidParentheses(\"()()()\")"
   ]
  },
  {
   "cell_type": "code",
   "execution_count": 9,
   "metadata": {},
   "outputs": [
    {
     "data": {
      "text/plain": [
       "2"
      ]
     },
     "execution_count": 9,
     "metadata": {},
     "output_type": "execute_result"
    }
   ],
   "source": [
    "#Example 2\n",
    "obj.longestValidParentheses(\")()\")"
   ]
  },
  {
   "cell_type": "code",
   "execution_count": 10,
   "metadata": {},
   "outputs": [
    {
     "data": {
      "text/plain": [
       "4"
      ]
     },
     "execution_count": 10,
     "metadata": {},
     "output_type": "execute_result"
    }
   ],
   "source": [
    "#Example 3\n",
    "obj.longestValidParentheses(\"()()))\")"
   ]
  },
  {
   "cell_type": "code",
   "execution_count": null,
   "metadata": {},
   "outputs": [],
   "source": []
  }
 ],
 "metadata": {
  "kernelspec": {
   "display_name": "Python 3",
   "language": "python",
   "name": "python3"
  },
  "language_info": {
   "codemirror_mode": {
    "name": "ipython",
    "version": 3
   },
   "file_extension": ".py",
   "mimetype": "text/x-python",
   "name": "python",
   "nbconvert_exporter": "python",
   "pygments_lexer": "ipython3",
   "version": "3.7.3"
  }
 },
 "nbformat": 4,
 "nbformat_minor": 2
}

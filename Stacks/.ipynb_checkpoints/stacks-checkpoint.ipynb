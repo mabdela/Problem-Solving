{
 "cells": [
  {
   "cell_type": "code",
   "execution_count": 4,
   "metadata": {},
   "outputs": [],
   "source": [
    "\"\"\"\n",
    "Given a list of parentheses, it returns a string, either 'YES' or 'NO', to indicate \n",
    "if a given parenthesis is valid or not. \n",
    "\"\"\"\n",
    "import math\n",
    "import os\n",
    "import random\n",
    "import re\n",
    "import sys\n",
    "\n",
    "import string\n",
    "# Complete the braces function below.\n",
    "\n",
    "def checkItem(string_item):\n",
    "\n",
    "    brace_L = [\"[\", \"{\", \"(\"]\n",
    "    brace_R = [\"]\", \"}\", \")\"]\n",
    "    brace_list = []\n",
    "    for item in string_item:\n",
    "        if item in brace_L:\n",
    "            brace_list.append(item)\n",
    "        elif(item in brace_R):\n",
    "            index_ = brace_R.index(item)\n",
    "            if((len(brace_list)>0) and (brace_L[index_]==brace_list[len(brace_list)-1])):\n",
    "                brace_list.pop()\n",
    "            else:\n",
    "                return \"NO\"\n",
    "    \n",
    "    if (len(brace_list)==0):\n",
    "        return \"YES\"\n",
    "    else:\n",
    "        return \"NO\"\n",
    "\n",
    "def braces(values):\n",
    "\n",
    "    answer =[]\n",
    "\n",
    "    for item in values:\n",
    "        answer.append(checkItem(item))\n",
    "        \n",
    "    return answer     "
   ]
  },
  {
   "cell_type": "code",
   "execution_count": 5,
   "metadata": {},
   "outputs": [
    {
     "data": {
      "text/plain": [
       "['YES', 'NO', 'YES']"
      ]
     },
     "execution_count": 5,
     "metadata": {},
     "output_type": "execute_result"
    }
   ],
   "source": [
    "arg = [\"{}()[]\", \"(}){}\", \"(({[]}))\"]\n",
    "braces(arg)"
   ]
  },
  {
   "cell_type": "code",
   "execution_count": 6,
   "metadata": {},
   "outputs": [],
   "source": [
    "# Longest valid parenthesis.  e.g. Need to getback to it\n",
    "#Input: \"(()\"\n",
    "#Output: 2\n",
    "#Explanation: The longest valid parentheses substring is \"()\"\n",
    "class Solution:\n",
    "    def longestValidParentheses(self, s: str) -> int:\n",
    "        res, leftmost = 0, -1\n",
    "        stack = []\n",
    "        for i in range(len(s)):\n",
    "            if s[i] == '(':\n",
    "                stack.append(i)\n",
    "            else: #c == ')'\n",
    "                if not stack:\n",
    "                    leftmost = i\n",
    "                else:\n",
    "                    stack.pop()\n",
    "                    if not stack:\n",
    "                        res = max(res, i-leftmost)\n",
    "                    else:\n",
    "                        res = max(res, i-stack[-1])\n",
    "        return res"
   ]
  },
  {
   "cell_type": "code",
   "execution_count": 8,
   "metadata": {},
   "outputs": [
    {
     "data": {
      "text/plain": [
       "6"
      ]
     },
     "execution_count": 8,
     "metadata": {},
     "output_type": "execute_result"
    }
   ],
   "source": [
    "#Example 1\n",
    "obj = Solution()\n",
    "obj.longestValidParentheses(\"()()()\")"
   ]
  },
  {
   "cell_type": "code",
   "execution_count": 9,
   "metadata": {},
   "outputs": [
    {
     "data": {
      "text/plain": [
       "2"
      ]
     },
     "execution_count": 9,
     "metadata": {},
     "output_type": "execute_result"
    }
   ],
   "source": [
    "#Example 2\n",
    "obj.longestValidParentheses(\")()\")"
   ]
  },
  {
   "cell_type": "code",
   "execution_count": 10,
   "metadata": {},
   "outputs": [
    {
     "data": {
      "text/plain": [
       "4"
      ]
     },
     "execution_count": 10,
     "metadata": {},
     "output_type": "execute_result"
    }
   ],
   "source": [
    "#Example 3\n",
    "obj.longestValidParentheses(\"()()))\")"
   ]
  },
  {
   "cell_type": "markdown",
   "metadata": {},
   "source": [
    "---"
   ]
  },
  {
   "cell_type": "code",
   "execution_count": 19,
   "metadata": {},
   "outputs": [],
   "source": [
    "\"\"\"\n",
    "678. Valid Parenthesis String\n",
    "\n",
    "Given a string containing only three types of characters: '(', ')' and '*',\n",
    "write a function to check whether this string is valid. We define the validity of a string by these rules:\n",
    "\n",
    "Any left parenthesis '(' must have a corresponding right parenthesis ')'.\n",
    "Any right parenthesis ')' must have a corresponding left parenthesis '('.\n",
    "Left parenthesis '(' must go before the corresponding right parenthesis ')'.\n",
    "'*' could be treated as a single right parenthesis ')' or a single left parenthesis '(' or an empty string.\n",
    "An empty string is also valid.\n",
    "Example 1:\n",
    "Input: \"()\"\n",
    "Output: True\n",
    "Example 2:\n",
    "Input: \"(*)\"\n",
    "Output: True\n",
    "Example 3:\n",
    "Input: \"(*))\"\n",
    "Output: True\n",
    "Note:\n",
    "The string size will be in the range [1, 100].\n",
    "\"\"\"\n",
    "\n",
    "class Solution:\n",
    "    def checkValidString(self, s: str) -> bool:\n",
    "        stack_left = []\n",
    "        stack_star = []\n",
    "\n",
    "        for i, item in enumerate (s):\n",
    "\n",
    "            if item==\"(\":\n",
    "                stack_left.append(i)\n",
    "            elif item ==\"*\":\n",
    "                stack_star.append(i)\n",
    "            else:\n",
    "\n",
    "                if stack_left:\n",
    "                    stack_left.pop()\n",
    "                elif stack_star:\n",
    "                    stack_star.pop()\n",
    "                else:\n",
    "                    return False\n",
    "\n",
    "        while stack_left and stack_star:\n",
    "            if stack_left[-1]>stack_star[-1]:\n",
    "                return False\n",
    "            stack_left.pop()\n",
    "            stack_star.pop()\n",
    "\n",
    "        return len(stack_left)==0\n",
    "\n",
    "    \"\"\"\n",
    "    class Solution(object):\n",
    "\n",
    "    def checkValidString(self, s):\n",
    "        # count maximum left and right bracket\n",
    "        max_l = 0\n",
    "        max_r = 0\n",
    "        for i in range(len(s)):\n",
    "            # left side\n",
    "            if s[i]!=')': \n",
    "                max_l+=1\n",
    "            else:\n",
    "                max_l-=1\n",
    "            if max_l<0: return False\n",
    "\n",
    "            # right side\n",
    "            if s[-i-1]!='(':\n",
    "                max_r+=1\n",
    "            else:\n",
    "                max_r-=1\n",
    "            if max_r<0: return False\n",
    "\n",
    "        return True\n",
    "    \"\"\""
   ]
  },
  {
   "cell_type": "code",
   "execution_count": 20,
   "metadata": {},
   "outputs": [
    {
     "data": {
      "text/plain": [
       "True"
      ]
     },
     "execution_count": 20,
     "metadata": {},
     "output_type": "execute_result"
    }
   ],
   "source": [
    "#Example \n",
    "obj = Solution()\n",
    "obj.checkValidString(\"((*))\")"
   ]
  },
  {
   "cell_type": "markdown",
   "metadata": {},
   "source": [
    "---"
   ]
  },
  {
   "cell_type": "code",
   "execution_count": 22,
   "metadata": {},
   "outputs": [],
   "source": [
    "def longestValidParentheses(s):\n",
    "    rst, left, l = 0, [-1], len(s)\n",
    "    for i in range(l):\n",
    "        if s[i] == '(': left.append(i)\n",
    "        else: \n",
    "            left.pop()\n",
    "            if not left: left.append(i)\n",
    "            else: rst = max(rst, i-left[-1])\n",
    "    return rst"
   ]
  },
  {
   "cell_type": "code",
   "execution_count": 23,
   "metadata": {},
   "outputs": [
    {
     "data": {
      "text/plain": [
       "4"
      ]
     },
     "execution_count": 23,
     "metadata": {},
     "output_type": "execute_result"
    }
   ],
   "source": [
    "longestValidParentheses(\"(()))\")"
   ]
  },
  {
   "cell_type": "markdown",
   "metadata": {},
   "source": [
    "---"
   ]
  },
  {
   "cell_type": "code",
   "execution_count": 25,
   "metadata": {},
   "outputs": [],
   "source": [
    "\"\"\"\n",
    "1190. Reverse Substrings Between Each Pair of Parentheses\n",
    "You are given a string s that consists of lower case English letters and brackets. \n",
    "\n",
    "Reverse the strings in each pair of matching parentheses, starting from the innermost one.\n",
    "\n",
    "Your result should not contain any brackets.\n",
    "\n",
    "Example 1:\n",
    "Input: s = \"(abcd)\"\n",
    "Output: \"dcba\"\n",
    "Example 2:\n",
    "\n",
    "Input: s = \"(u(love)i)\"\n",
    "Output: \"iloveu\"\n",
    "Explanation: The substring \"love\" is reversed first, then the whole string is reversed.\n",
    "Example 3:\n",
    "\n",
    "Input: s = \"(ed(et(oc))el)\"\n",
    "Output: \"leetcode\"\n",
    "Explanation: First, we reverse the substring \"oc\", then \"etco\", and finally, the whole string.\n",
    "Example 4:\n",
    "\n",
    "Input: s = \"a(bcdefghijkl(mno)p)q\"\n",
    "Output: \"apmnolkjihgfedcbq\"\n",
    " \n",
    "\n",
    "Constraints:\n",
    "\n",
    "0 <= s.length <= 2000\n",
    "s only contains lower case English characters and parentheses.\n",
    "It's guaranteed that all parentheses are balanced.\n",
    "\n",
    "\"\"\"\n",
    "class Solution:\n",
    "\n",
    "    def reverseParentheses(self, s: str) -> str:\n",
    "        \n",
    "        str_list = list(s)\n",
    "        last =[]\n",
    "        \n",
    "        for i, ch in enumerate(str_list):\n",
    "            \n",
    "            if ch == \"(\":\n",
    "                last.append(i)\n",
    "            elif ch==\")\":\n",
    "                index = last.pop()\n",
    "                str_list[index:i+1] = str_list[index:i+1][::-1]  \n",
    "        \n",
    "        return \"\".join([char for char in str_list if char not in \"()\"])\n",
    "    # Method 2\n",
    "        \"\"\"\n",
    "        \n",
    "class Solution:\n",
    "\n",
    "    def reverseParentheses(self, s: str) -> str:\n",
    "        \n",
    "        while \")\" in s:\n",
    "            i = s.index(\")\")\n",
    "            \n",
    "            for j in range(i, -1, -1):\n",
    "                \n",
    "                if s[j]==\"(\":\n",
    "                    s=s[:j]+s[j+1:i][::-1]+s[i+1:]\n",
    "                    break\n",
    "            \n",
    "        \n",
    "        return s\n",
    "        \n",
    "        \"\"\""
   ]
  },
  {
   "cell_type": "code",
   "execution_count": 26,
   "metadata": {},
   "outputs": [
    {
     "data": {
      "text/plain": [
       "'apmnolkjihgfedcbq'"
      ]
     },
     "execution_count": 26,
     "metadata": {},
     "output_type": "execute_result"
    }
   ],
   "source": [
    "#Example \n",
    "obj = Solution()\n",
    "obj.reverseParentheses(\"a(bcdefghijkl(mno)p)q\")"
   ]
  },
  {
   "cell_type": "code",
   "execution_count": 11,
   "metadata": {},
   "outputs": [],
   "source": [
    "'''\n",
    "Your server has received a package of N incoming requests.\n",
    "Handling the K-th request (for K from 0 to N − 1) will take A[K] seconds.\n",
    "\n",
    "The load balancer has to drop two acquired requests and distribute the rest of them between \n",
    "three workers in such a way that each worker receives a contiguous fragment of requests to handle, \n",
    "and finishes handling them in exactly the same moment as the other workers. No two workers should \n",
    "receive the same request to compute.\n",
    "\n",
    "The load balancer's distribution of requests is performed by selecting two requests that will be dropped, \n",
    "and which will split the array into three contiguous parts that will be allocated to the workers. \n",
    "More precisely, if requests 2 and 5 are chosen by the load balancer from a package of 9 requests, then:\n",
    "\n",
    "the 0-th to 1-st requests will be handled by the first worker,\n",
    "the 3-rd to 4-th requests will be handled by the second worker,\n",
    "the 6-th to 8-th requests will be handled by the third worker.\n",
    "\n",
    "Such a distribution will be correct if each worker receives requests equalling the same total amount of handling time.\n",
    "\n",
    "Write a function solution that, given an array A of N integers representing the time of execution of consecutive tasks, \n",
    "returns true if it is possible for the load balancer to choose two requests that will determine an even \n",
    "distribution of requests among three workers, or false otherwise.\n",
    "\n",
    "Examples:\n",
    "\n",
    "Given A = [1, 3, 4, 2, 2, 2, 1, 1, 2], the function should return true, \n",
    "as choosing requests 2 and 5 results in a distribution giving 4 seconds of handling time to each worker,\n",
    "as explained in the following image:\n",
    "image\n",
    "\n",
    "Given A = [1, 1, 1, 1, 1, 1], the function should return false.\n",
    "\n",
    "Given A = [1, 2, 1, 2, ..., 1, 2] of length 20,000, the function should return true.\n",
    "\n",
    "Write an efficient algorithm for the following assumptions:\n",
    "\n",
    "N is an integer within the range [5..100,000];\n",
    "each element of array A is an integer within the range [1..10,000].\n",
    "\n",
    "'''\n",
    "\n",
    "def splitTask(req):\n",
    "    \n",
    "    left, right = len(req)//3, 2*(len(req))//3\n",
    "    \n",
    "    stack =[]\n",
    "    \n",
    "    sum_one, sum_three = sum(req[:left]), sum(req[right+1:])\n",
    "    total = sum(req)\n",
    "    \n",
    "    while True:\n",
    "        drop = req[left]+req[right]\n",
    "        sum_two = total - drop - sum_one - sum_three \n",
    "        stack.append([left, right])\n",
    "        \n",
    "        if(sum_one==sum_two==sum_three):\n",
    "            return True\n",
    "        \n",
    "        if(sum_one>sum_two):\n",
    "            left-=1\n",
    "            sum_one -= req[left]\n",
    "        else: \n",
    "            left+=1\n",
    "            sum_one += req[left-1]\n",
    "        \n",
    "        if(sum_two>sum_three):\n",
    "            right-=1\n",
    "            sum_three += req[right+1]\n",
    "        else: \n",
    "            right+=1\n",
    "            sum_three -= req[right]\n",
    "                    \n",
    "        if [left, right] in stack:\n",
    "            return False\n",
    "                    \n",
    "    return False"
   ]
  },
  {
   "cell_type": "code",
   "execution_count": 13,
   "metadata": {},
   "outputs": [],
   "source": [
    "'''\n",
    "Better Solution than the above without using stack. \n",
    "'''\n",
    "def splitTask(req):\n",
    "    if(len(req)<5):\n",
    "        return False\n",
    "    total = sum(req)\n",
    "    \n",
    "    left = 1\n",
    "    right = len(req)-2\n",
    "    \n",
    "    suml = sum(req[0:left])\n",
    "    sumr = sum(req[right+1:])\n",
    "    \n",
    "    while right>left:\n",
    "\n",
    "        mid = total - req[left]-req[right]-suml-sumr\n",
    "\n",
    "        if(suml==sumr==mid):\n",
    "            return True\n",
    "        \n",
    "        if(mid<suml or mid<sumr):\n",
    "            return False\n",
    "        \n",
    "        if(suml<=sumr):\n",
    "            left+=1\n",
    "            suml += req[left-1]\n",
    "        else:\n",
    "            right-=1\n",
    "            sumr += req[right+1]\n",
    "    \n",
    "    return False"
   ]
  },
  {
   "cell_type": "code",
   "execution_count": 14,
   "metadata": {},
   "outputs": [],
   "source": [
    "A = [1, 3, 4, 2, 2, 2, 1, 1, 2]\n",
    "B = [1, 1, 1, 1, 1, 1]\n",
    "C = [1, 2]*10000\n",
    "D = [1]*20000+[10000]"
   ]
  },
  {
   "cell_type": "code",
   "execution_count": 15,
   "metadata": {},
   "outputs": [
    {
     "data": {
      "text/plain": [
       "True"
      ]
     },
     "execution_count": 15,
     "metadata": {},
     "output_type": "execute_result"
    }
   ],
   "source": [
    "# Example 1\n",
    "splitTask(A)"
   ]
  },
  {
   "cell_type": "code",
   "execution_count": 16,
   "metadata": {},
   "outputs": [
    {
     "data": {
      "text/plain": [
       "False"
      ]
     },
     "execution_count": 16,
     "metadata": {},
     "output_type": "execute_result"
    }
   ],
   "source": [
    "#Example 2\n",
    "splitTask(B)"
   ]
  },
  {
   "cell_type": "code",
   "execution_count": 17,
   "metadata": {},
   "outputs": [
    {
     "data": {
      "text/plain": [
       "True"
      ]
     },
     "execution_count": 17,
     "metadata": {},
     "output_type": "execute_result"
    }
   ],
   "source": [
    "#Example 3\n",
    "splitTask(C)"
   ]
  },
  {
   "cell_type": "code",
   "execution_count": 18,
   "metadata": {},
   "outputs": [
    {
     "data": {
      "text/plain": [
       "False"
      ]
     },
     "execution_count": 18,
     "metadata": {},
     "output_type": "execute_result"
    }
   ],
   "source": [
    "#Example 4\n",
    "splitTask(D)"
   ]
  },
  {
   "cell_type": "code",
   "execution_count": null,
   "metadata": {},
   "outputs": [],
   "source": []
  }
 ],
 "metadata": {
  "kernelspec": {
   "display_name": "Python 3",
   "language": "python",
   "name": "python3"
  },
  "language_info": {
   "codemirror_mode": {
    "name": "ipython",
    "version": 3
   },
   "file_extension": ".py",
   "mimetype": "text/x-python",
   "name": "python",
   "nbconvert_exporter": "python",
   "pygments_lexer": "ipython3",
   "version": "3.7.3"
  }
 },
 "nbformat": 4,
 "nbformat_minor": 2
}

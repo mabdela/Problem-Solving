{
 "cells": [
  {
   "cell_type": "code",
   "execution_count": null,
   "metadata": {},
   "outputs": [],
   "source": [
    "\"\"\"\n",
    "118. Pascal's Triangle\n",
    "Given a non-negative integer numRows, generate the first numRows of Pascal's triangle.\n",
    "\n",
    "In Pascal's triangle, each number is the sum of the two numbers directly above it.\n",
    "\n",
    "Example:\n",
    "Input: 5\n",
    "Output:\n",
    "[\n",
    "     [1],\n",
    "    [1,1],\n",
    "   [1,2,1],\n",
    "  [1,3,3,1],\n",
    " [1,4,6,4,1]\n",
    "]\n",
    "\"\"\"\n",
    "class Solution:\n",
    "    def generate(self, numRows):\n",
    "        \n",
    "        result = []         \n",
    "        \n",
    "        prev = []\n",
    "        \n",
    "        for i in range(numRows):\n",
    "            temp = [1]*(i+1)\n",
    "\n",
    "            for j in range(1, i):\n",
    "                temp[j] = prev[j-1]+prev[j]\n",
    "            prev = temp\n",
    "            \n",
    "            result.append(temp[:])\n",
    "        \n",
    "        return result "
   ]
  },
  {
   "cell_type": "markdown",
   "metadata": {},
   "source": [
    "---"
   ]
  },
  {
   "cell_type": "code",
   "execution_count": null,
   "metadata": {},
   "outputs": [],
   "source": [
    "\"\"\"\n",
    "119. Pascal's Triangle II\n",
    "\n",
    "Given a non-negative index k where k ≤ 33, return the kth index row of the Pascal's triangle.\n",
    "\n",
    "Note that the row index starts from 0.\n",
    "In Pascal's triangle, each number is the sum of the two numbers directly above it.\n",
    "\n",
    "Example:\n",
    "\n",
    "Input: 3\n",
    "Output: [1,3,3,1]\n",
    "\"\"\"\n",
    "class Solution:\n",
    "    def getRow(self, rowIndex):\n",
    "                \n",
    "        result = []\n",
    "        prev = []\n",
    "        \n",
    "        for i in range(rowIndex+1):\n",
    "            \n",
    "            result = [1]*(i+1)\n",
    "            \n",
    "            for j in range(1, i):\n",
    "                result[j]  = prev[j-1]+prev[j]\n",
    "            prev = result \n",
    "        \n",
    "        return result \n",
    "            "
   ]
  },
  {
   "cell_type": "markdown",
   "metadata": {},
   "source": [
    "---"
   ]
  },
  {
   "cell_type": "code",
   "execution_count": 61,
   "metadata": {},
   "outputs": [],
   "source": [
    "'''\n",
    "Write a function to display the power set of a set of integers;\n",
    "e.g. set={1,2}, powerSet = {{},{1},{2},{1,2}}\n",
    "'''\n",
    "def power_set_2(set_):\n",
    "    subsets = [[]] \n",
    "    for element in set_:\n",
    "        for ind in range(len(subsets)): \n",
    "            subsets.append(subsets[ind] + [element]) \n",
    "    return subsets"
   ]
  },
  {
   "cell_type": "code",
   "execution_count": 62,
   "metadata": {},
   "outputs": [
    {
     "data": {
      "text/plain": [
       "[[], [1], [2], [1, 2]]"
      ]
     },
     "execution_count": 62,
     "metadata": {},
     "output_type": "execute_result"
    }
   ],
   "source": [
    "#Example 1\n",
    "data = {1, 2}\n",
    "power_set_2(data)"
   ]
  },
  {
   "cell_type": "code",
   "execution_count": 63,
   "metadata": {},
   "outputs": [
    {
     "data": {
      "text/plain": [
       "[[],\n",
       " [{}],\n",
       " [{1}],\n",
       " [{}, {1}],\n",
       " [{2}],\n",
       " [{}, {2}],\n",
       " [{1}, {2}],\n",
       " [{}, {1}, {2}],\n",
       " [{1, 2}],\n",
       " [{}, {1, 2}],\n",
       " [{1}, {1, 2}],\n",
       " [{}, {1}, {1, 2}],\n",
       " [{2}, {1, 2}],\n",
       " [{}, {2}, {1, 2}],\n",
       " [{1}, {2}, {1, 2}],\n",
       " [{}, {1}, {2}, {1, 2}]]"
      ]
     },
     "execution_count": 63,
     "metadata": {},
     "output_type": "execute_result"
    }
   ],
   "source": [
    "#Example 2\n",
    "data = [{},{1},{2},{1,2}]\n",
    "power_set_2(data)"
   ]
  },
  {
   "cell_type": "markdown",
   "metadata": {},
   "source": [
    "---"
   ]
  },
  {
   "cell_type": "code",
   "execution_count": 69,
   "metadata": {},
   "outputs": [],
   "source": [
    "\"\"\"\n",
    "54. Spiral Matrix\n",
    "Given a matrix of m x n elements (m rows, n columns), return all elements of the matrix in spiral order.\n",
    "\n",
    "Example 1:\n",
    "\n",
    "Input:\n",
    "[\n",
    " [ 1, 2, 3 ],\n",
    " [ 4, 5, 6 ],\n",
    " [ 7, 8, 9 ]\n",
    "]\n",
    "Output: [1,2,3,6,9,8,7,4,5]\n",
    "Example 2:\n",
    "\n",
    "Input:\n",
    "[\n",
    "  [1, 2, 3, 4],\n",
    "  [5, 6, 7, 8],\n",
    "  [9,10,11,12]\n",
    "]\n",
    "Output: [1,2,3,4,8,12,11,10,9,5,6,7]\n",
    "\"\"\"\n",
    "\n",
    "def spiralOrder(matrix):\n",
    "    \n",
    "    if not matrix:\n",
    "        return []\n",
    "    \n",
    "    r_start, c_start = 0, 0\n",
    "    r_end, c_end = len(matrix)-1, len(matrix[0])-1\n",
    "    result = []\n",
    "    size = len(matrix)*len(matrix[0])\n",
    "    \n",
    "    while len(result)<size:\n",
    "                \n",
    "        result.extend(matrix[r_start][c_start:c_end+1])\n",
    "        \n",
    "        for i in reversed(range(r_start+1, r_end)):\n",
    "            result.append(matrix[i][c_end])\n",
    "            \n",
    "        if r_end>r_start:\n",
    "            result.extend(matrix[r_end][c_start:c_end+1][::-1])\n",
    "        \n",
    "        if c_start<c_end:\n",
    "            for j in reversed(range(r_start+1, r_end)):\n",
    "                result.append(matrix[j][c_start])\n",
    "        \n",
    "        r_start+=1; c_end-=1; r_end-=1; c_start+=1\n",
    "    return result\n",
    "\n",
    "    \"\"\"\n",
    "    def spiralOrder(matrix):\n",
    "    \n",
    "    if not matrix:\n",
    "        return []\n",
    "    rows = len(matrix)\n",
    "    cols = len(matrix[0])\n",
    "    \n",
    "    visited = {(i, j):False for i in range (rows) for j in range(cols)}\n",
    "    result = []\n",
    "    \n",
    "    directions = [[0, 1], [1, 0], [0, -1], [-1, 0]]\n",
    "    \n",
    "    size = rows*cols\n",
    "    \n",
    "    index =0\n",
    "    x, y = 0, 0\n",
    "    result.append(matrix[0][0])\n",
    "    visited[(0, 0)] = True\n",
    "    \n",
    "    while len(result)< size:\n",
    "        \n",
    "        h = x+directions[index][0]\n",
    "        v = y+directions[index][1]\n",
    "                                        \n",
    "        if h>=0 and h<rows and v>=0 and v<cols and not visited[(h, v)]: \n",
    "            x = h\n",
    "            y = v\n",
    "            visited[(x, y)] = True\n",
    "        else:\n",
    "            index+=1\n",
    "            if index==4:\n",
    "                index = 0\n",
    "            continue\n",
    "        \n",
    "        result.append(matrix[x][y])\n",
    "\n",
    "    \n",
    "    return result \n",
    "    \"\"\"    "
   ]
  },
  {
   "cell_type": "code",
   "execution_count": 70,
   "metadata": {},
   "outputs": [
    {
     "data": {
      "text/plain": [
       "[1, 2, 3, 6, 9, 8, 7, 4, 5]"
      ]
     },
     "execution_count": 70,
     "metadata": {},
     "output_type": "execute_result"
    }
   ],
   "source": [
    "#Example 1\n",
    "matrix = [\n",
    " [ 1, 2, 3 ],\n",
    " [ 4, 5, 6 ],\n",
    " [ 7, 8, 9 ]\n",
    "]\n",
    "spiralOrder(matrix)"
   ]
  },
  {
   "cell_type": "code",
   "execution_count": 71,
   "metadata": {},
   "outputs": [
    {
     "data": {
      "text/plain": [
       "[1, 2, 3, 4, 8, 12, 11, 10, 9, 5, 6, 7]"
      ]
     },
     "execution_count": 71,
     "metadata": {},
     "output_type": "execute_result"
    }
   ],
   "source": [
    "#Example 2\n",
    "matrix =[\n",
    "  [1, 2, 3, 4],\n",
    "  [5, 6, 7, 8],\n",
    "  [9,10,11,12]\n",
    "]\n",
    "spiralOrder(matrix)"
   ]
  },
  {
   "cell_type": "markdown",
   "metadata": {},
   "source": [
    "---"
   ]
  },
  {
   "cell_type": "code",
   "execution_count": 78,
   "metadata": {},
   "outputs": [],
   "source": [
    "\"\"\"\n",
    "Find triplets. \n",
    "\n",
    "\"\"\"\n",
    "def findTriplets(arr):\n",
    "    \n",
    "    arr.sort()\n",
    "    \n",
    "    results = []\n",
    "    global counter\n",
    "    counter=0\n",
    "    def backtracking(nums, remainder, solset):\n",
    "        global counter\n",
    "        if not nums:\n",
    "            return\n",
    "        counter+=1\n",
    "        for j, d in enumerate(nums):\n",
    "            \n",
    "            if d>0 and d>remainder: #bounding condition 1\n",
    "                return\n",
    "            \n",
    "            if len(solset)>2: # bounding condition 2\n",
    "                return \n",
    "            elif d==remainder and len(solset)==2:\n",
    "                results.append(solset+[d])\n",
    "                return \n",
    "            \n",
    "            backtracking(nums[j+1:], remainder-d, solset+[d])\n",
    "        \n",
    "                                                          \n",
    "            \n",
    "    for i, n in enumerate(arr):\n",
    "        if i>0 and arr[i-1]==n:\n",
    "            continue\n",
    "        arg = arr[:]\n",
    "        arg.remove(n)\n",
    "        backtracking(arg, n, [n])\n",
    "        \n",
    "    print(counter)\n",
    "\n",
    "    return results\n",
    "        \n",
    "\n",
    "def findTriplets2(arr):\n",
    "    \n",
    "    arr.sort()\n",
    "    \n",
    "    results = []\n",
    "    global counter\n",
    "    counter=0\n",
    "    def helper(nums, target):\n",
    "        global counter\n",
    "        counter+=1\n",
    "        left = 0\n",
    "        right = len(nums)-1\n",
    "        while right>left:\n",
    "            \n",
    "            if left>0 and nums[left-1]==nums[left]:\n",
    "                left+=1\n",
    "                continue\n",
    "            if right+1<len(nums) and nums[right]==nums[right+1]:\n",
    "                right-=1\n",
    "                continue\n",
    "                \n",
    "            if nums[left]+nums[right]>target:\n",
    "                right-=1\n",
    "            elif nums[left]+nums[right]<target:\n",
    "                left+=1\n",
    "            else:\n",
    "                results.append([nums[left], nums[right], target]) \n",
    "                left+=1\n",
    "                right-=1\n",
    "                                                          \n",
    "            \n",
    "    for i, n in enumerate(arr):\n",
    "        if i>0 and arr[i-1]==n:\n",
    "            continue\n",
    "        arg = arr[:]\n",
    "        arg.remove(n)\n",
    "        helper(arg, n)\n",
    "        \n",
    "    print(counter)\n",
    "\n",
    "    return results\n",
    "        "
   ]
  },
  {
   "cell_type": "code",
   "execution_count": 79,
   "metadata": {},
   "outputs": [],
   "source": [
    "test_case = [-3, -2, -2, -2, -1, -1, 0, 1, 2, 3]"
   ]
  },
  {
   "cell_type": "code",
   "execution_count": 80,
   "metadata": {},
   "outputs": [
    {
     "name": "stdout",
     "output_type": "stream",
     "text": [
      "187\n"
     ]
    },
    {
     "data": {
      "text/plain": [
       "[[-3, -2, -1],\n",
       " [-3, -2, -1],\n",
       " [-3, -2, -1],\n",
       " [-2, -3, 1],\n",
       " [-2, -2, 0],\n",
       " [-2, -2, 0],\n",
       " [-2, -1, -1],\n",
       " [-1, -3, 2],\n",
       " [-1, -2, 1],\n",
       " [-1, -2, 1],\n",
       " [-1, -2, 1],\n",
       " [-1, -1, 0],\n",
       " [0, -3, 3],\n",
       " [0, -2, 2],\n",
       " [0, -2, 2],\n",
       " [0, -2, 2],\n",
       " [0, -1, 1],\n",
       " [0, -1, 1],\n",
       " [1, -2, 3],\n",
       " [1, -2, 3],\n",
       " [1, -2, 3],\n",
       " [1, -1, 2],\n",
       " [1, -1, 2],\n",
       " [2, -1, 3],\n",
       " [2, -1, 3],\n",
       " [3, 1, 2]]"
      ]
     },
     "execution_count": 80,
     "metadata": {},
     "output_type": "execute_result"
    }
   ],
   "source": [
    "findTriplets(test_case)"
   ]
  },
  {
   "cell_type": "code",
   "execution_count": 81,
   "metadata": {},
   "outputs": [
    {
     "name": "stdout",
     "output_type": "stream",
     "text": [
      "7\n"
     ]
    },
    {
     "data": {
      "text/plain": [
       "[[-2, -1, -3],\n",
       " [-3, 1, -2],\n",
       " [-2, 0, -2],\n",
       " [-1, -1, -2],\n",
       " [-3, 2, -1],\n",
       " [-2, 1, -1],\n",
       " [-1, 0, -1],\n",
       " [-3, 3, 0],\n",
       " [-2, 2, 0],\n",
       " [-1, 1, 0],\n",
       " [-2, 3, 1],\n",
       " [-1, 2, 1],\n",
       " [-1, 3, 2],\n",
       " [1, 2, 3]]"
      ]
     },
     "execution_count": 81,
     "metadata": {},
     "output_type": "execute_result"
    }
   ],
   "source": [
    "findTriplets2(test_case)"
   ]
  },
  {
   "cell_type": "markdown",
   "metadata": {},
   "source": [
    "---"
   ]
  },
  {
   "cell_type": "code",
   "execution_count": 82,
   "metadata": {},
   "outputs": [],
   "source": [
    "from collections import defaultdict\n",
    "\n",
    "\"\"\"\n",
    "Find rectangle with biggest sum:\n",
    "e.g.\n",
    "\n",
    "[\n",
    " [-2, -5, -9, 2],\n",
    " [-2, -5, 2, -7],\n",
    " [3, 2, -10, -13],\n",
    " [8, 30, -1, -2]\n",
    "]\n",
    "\n",
    "[\n",
    " [3, 2], \n",
    " [8, 30]\n",
    "]\n",
    "\"\"\"\n",
    "\n",
    "def printSubmatrix(matrix, lookup):\n",
    "    \n",
    "    max_sum = max(lookup)\n",
    "    solset = lookup[max_sum]\n",
    "    print(\"The max sum is: \", max_sum)\n",
    "    print(\"The submatrix(s): \")\n",
    "\n",
    "    for k, d in enumerate(solset):\n",
    "        a,b,c,d = d[0][0],d[0][1],d[1][0],d[1][1]\n",
    "        ans = []\n",
    "\n",
    "        for i in range(a, c):\n",
    "            temp=[]\n",
    "            for j in range(b, d):\n",
    "                temp.append(matrix[i][j])\n",
    "            ans.append(temp)\n",
    "        print(\"Solution:\", k+1)\n",
    "        print(np.matrix(ans))\n",
    "        \n",
    "def biggestSum(matrix):\n",
    "    \n",
    "    if not matrix:\n",
    "        return 0\n",
    "    \n",
    "    rows = len(matrix)\n",
    "    cols = len(matrix[0])\n",
    "    \n",
    "    lookup = defaultdict(list)\n",
    "    \n",
    "    for i in range(rows):\n",
    "        for j in range(cols):\n",
    "                \n",
    "            # add all row matrix\n",
    "            for k in range(j+1, cols+1):                \n",
    "                for c in range(i+1):\n",
    "                    elem3 = sum(sum(matrix[v][j:k]) for v in range(c, i+1))\n",
    "                    lookup[elem3].append([[c, j], [i+1, k]])\n",
    "    \n",
    "    printSubmatrix(matrix, lookup)   \n",
    "    return lookup\n"
   ]
  },
  {
   "cell_type": "code",
   "execution_count": 83,
   "metadata": {},
   "outputs": [
    {
     "name": "stdout",
     "output_type": "stream",
     "text": [
      "[[ -2  -5  -9   2]\n",
      " [ -2  -5   2  -7]\n",
      " [  3   2 -10 -13]\n",
      " [  8  30  -1  -2]]\n"
     ]
    }
   ],
   "source": [
    "import numpy as np\n",
    "matrix1 = [[-2, -5, -9, 2], [-2, -5, 2, -7], [3, 2, -10, -13], [8, 30, -1, -2]]\n",
    "print(np.matrix(matrix1))"
   ]
  },
  {
   "cell_type": "code",
   "execution_count": 84,
   "metadata": {},
   "outputs": [
    {
     "name": "stdout",
     "output_type": "stream",
     "text": [
      "[[-2 -5]\n",
      " [-2 -5]]\n",
      "The max sum is:  -2\n",
      "The submatrix(s): \n",
      "Solution: 1\n",
      "[[-2]]\n",
      "Solution: 2\n",
      "[[-2]]\n"
     ]
    },
    {
     "data": {
      "text/plain": [
       "defaultdict(list,\n",
       "            {-2: [[[0, 0], [1, 1]], [[1, 0], [2, 1]]],\n",
       "             -7: [[[0, 0], [1, 2]], [[1, 0], [2, 2]]],\n",
       "             -5: [[[0, 1], [1, 2]], [[1, 1], [2, 2]]],\n",
       "             -4: [[[0, 0], [2, 1]]],\n",
       "             -14: [[[0, 0], [2, 2]]],\n",
       "             -10: [[[0, 1], [2, 2]]]})"
      ]
     },
     "execution_count": 84,
     "metadata": {},
     "output_type": "execute_result"
    }
   ],
   "source": [
    "matrix2 = [[-2, -5], [-2, -5]]\n",
    "print(np.matrix(matrix2))\n",
    "biggestSum(matrix2)"
   ]
  },
  {
   "cell_type": "markdown",
   "metadata": {},
   "source": [
    "---"
   ]
  },
  {
   "cell_type": "code",
   "execution_count": null,
   "metadata": {},
   "outputs": [],
   "source": []
  }
 ],
 "metadata": {
  "kernelspec": {
   "display_name": "Python 3",
   "language": "python",
   "name": "python3"
  },
  "language_info": {
   "codemirror_mode": {
    "name": "ipython",
    "version": 3
   },
   "file_extension": ".py",
   "mimetype": "text/x-python",
   "name": "python",
   "nbconvert_exporter": "python",
   "pygments_lexer": "ipython3",
   "version": "3.7.3"
  }
 },
 "nbformat": 4,
 "nbformat_minor": 2
}

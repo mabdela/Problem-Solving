{
 "cells": [
  {
   "cell_type": "code",
   "execution_count": 1,
   "metadata": {},
   "outputs": [],
   "source": [
    "def dynamicArray(n, queries):\n",
    "    last_ans = 0\n",
    "    result =[]\n",
    "    arr = []\n",
    "    for _ in range(n):\n",
    "        arr.append([])\n",
    "\n",
    "    for item in queries:\n",
    "        if(item[0]==1):\n",
    "            arr[(item[1]^last_ans)%n].append(item[2])\n",
    "        elif(item[0]==2):\n",
    "            last_ans = arr[(item[1]^last_ans)%n]%len(arr[(item[1]^last_ans)%n])\n",
    "            result.append(last_ans)\n",
    "            print(last_ans)\n",
    "\n",
    "    return result"
   ]
  },
  {
   "cell_type": "code",
   "execution_count": 2,
   "metadata": {},
   "outputs": [],
   "source": [
    "# Remove Duplicates from Sorted Array and return length\n",
    "\n",
    "class Solution:\n",
    "    def removeDuplicates(self, nums) -> int:\n",
    "        \n",
    "        counter = 0\n",
    "        while(counter<len(nums)):\n",
    "            if(counter>0 and nums[counter-1]==nums[counter]):\n",
    "                nums.pop(counter)\n",
    "            else:\n",
    "                counter+=1\n",
    "                \n",
    "        return len(nums)"
   ]
  },
  {
   "cell_type": "code",
   "execution_count": 3,
   "metadata": {},
   "outputs": [],
   "source": [
    "# Remove a given element and return length \n",
    "class Solution:\n",
    "    def removeElement(self, nums, val: int) -> int:\n",
    "        counter =0\n",
    "        while(counter<len(nums)):\n",
    "            if(val==nums[counter]):\n",
    "                nums.pop(counter)\n",
    "            else:\n",
    "                counter+=1\n",
    "        \n",
    "        return len(nums)"
   ]
  },
  {
   "cell_type": "code",
   "execution_count": null,
   "metadata": {},
   "outputs": [],
   "source": []
  }
 ],
 "metadata": {
  "kernelspec": {
   "display_name": "Python 3",
   "language": "python",
   "name": "python3"
  },
  "language_info": {
   "codemirror_mode": {
    "name": "ipython",
    "version": 3
   },
   "file_extension": ".py",
   "mimetype": "text/x-python",
   "name": "python",
   "nbconvert_exporter": "python",
   "pygments_lexer": "ipython3",
   "version": "3.7.3"
  }
 },
 "nbformat": 4,
 "nbformat_minor": 2
}

{
 "cells": [
  {
   "cell_type": "code",
   "execution_count": 42,
   "metadata": {},
   "outputs": [],
   "source": [
    "\"\"\"\n",
    "Implementation of Topological Sort. \n",
    "Time complexity of Topological Sort is the same as DFS, i.e. O(V+E). \n",
    "\"\"\"\n",
    "\n",
    "from collections import defaultdict, deque \n",
    "\n",
    "class Graph:\n",
    "    def __init__(self):\n",
    "        self.g = defaultdict(list)\n",
    "    \n",
    "    def insertEdge(self, s, d):\n",
    "        self.g[s].append(d)\n",
    "        if d not in self.g:\n",
    "            self.g[d]\n",
    "        \n",
    "    def vertices(self):\n",
    "        return list(self.g.keys())\n",
    "      \n",
    "\n",
    "    def topologicalSort(self):\n",
    "        color = [\"White\"]*(len(self.g))\n",
    "        path = deque()\n",
    "        \n",
    "        def helper(s):\n",
    "            \n",
    "            color[s] = \"Gray\"\n",
    "            for v in self.g[s]:\n",
    "                if color[v]==\"Gray\":\n",
    "                    raise Exception (\"Found a cycle\")\n",
    "                if color[v]==\"White\":\n",
    "                    helper(v)\n",
    "                    \n",
    "            color[s] = \"Black\"\n",
    "            path.appendleft(s)\n",
    "        \n",
    "        for v in range(len(self.g)):\n",
    "            if color[v]==\"White\":\n",
    "                helper(v) \n",
    "            \n",
    "        print(path)        \n",
    "        \n",
    "    def buildGraph(self, edges):\n",
    "        for edge in edges:\n",
    "            self.insertEdge(edge[0], edge[1])     \n",
    "        "
   ]
  },
  {
   "cell_type": "code",
   "execution_count": 43,
   "metadata": {},
   "outputs": [
    {
     "name": "stdout",
     "output_type": "stream",
     "text": [
      "deque([5, 4, 2, 3, 1, 0])\n"
     ]
    }
   ],
   "source": [
    "connections = [[2, 3], [3, 1], [4, 0], [4, 1], [5, 0], [5, 2]]\n",
    "obj = Graph()\n",
    "obj.buildGraph(connections)\n",
    "obj.topologicalSort()"
   ]
  },
  {
   "cell_type": "code",
   "execution_count": 44,
   "metadata": {},
   "outputs": [],
   "source": [
    "\"\"\"\n",
    "Here just implementing quick sort.\n",
    "\"\"\"\n",
    "\n",
    "def swap(arr, idx1, idx2):\n",
    "    temp = arr[idx1]\n",
    "    arr[idx1] = arr[idx2]\n",
    "    arr[idx2] = temp\n",
    "\n",
    "def partition(arr, left, right):\n",
    "    \n",
    "    idx = left\n",
    "    for i, num in enumerate(arr[left:right+1]):\n",
    "        if num<arr[right]:\n",
    "            swap(arr, idx, left+i)\n",
    "            idx+=1\n",
    "    swap(arr, idx, right)\n",
    "    \n",
    "    return idx\n",
    "    \n",
    "\n",
    "def quickSort(arr, left, right):\n",
    "    \n",
    "    if right>left:\n",
    "        \n",
    "        pi = partition(arr, left, right)\n",
    "        \n",
    "        quickSort(arr, left, pi-1)\n",
    "        quickSort(arr, pi+1, right)\n",
    "    "
   ]
  },
  {
   "cell_type": "code",
   "execution_count": 45,
   "metadata": {},
   "outputs": [
    {
     "data": {
      "text/plain": [
       "[1, 2, 2, 3, 4, 4, 6, 7]"
      ]
     },
     "execution_count": 45,
     "metadata": {},
     "output_type": "execute_result"
    }
   ],
   "source": [
    "arr = [3, 4, 2, 1, 6, 7, 4, 2]\n",
    "quickSort(arr, 0, len(arr)-1)\n",
    "arr"
   ]
  },
  {
   "cell_type": "markdown",
   "metadata": {},
   "source": [
    "---"
   ]
  },
  {
   "cell_type": "code",
   "execution_count": 46,
   "metadata": {},
   "outputs": [],
   "source": [
    "\"\"\"\n",
    "Implementing Merge sort.\n",
    "\"\"\"\n",
    "def merge(arr, left, mid, right):\n",
    "    \n",
    "    k = left\n",
    "    L = arr[left:mid+1]\n",
    "    R = arr[mid+1:right+1]\n",
    "    i, j = 0, 0\n",
    "    \n",
    "    while i<len(L) and j<len(R):\n",
    "        \n",
    "        if L[i]<R[j]:\n",
    "            \n",
    "            arr[k] = L[i]\n",
    "            i+=1\n",
    "        else:\n",
    "            arr[k] = R[j]\n",
    "            j+=1\n",
    "        k+=1\n",
    "    \n",
    "    while j<len(R):\n",
    "        arr[k] = R[j]\n",
    "        j+=1\n",
    "        k+=1\n",
    "    while i<len(L):\n",
    "        arr[k] = L[i]\n",
    "        k+=1\n",
    "        i+=1\n",
    "\n",
    "\n",
    "def mergesort(arr, left, right):\n",
    "    \n",
    "    if right>left:\n",
    "        \n",
    "        mid = (right+left)//2\n",
    "        \n",
    "        mergesort(arr, left, mid)\n",
    "        \n",
    "        mergesort(arr, mid+1, right)\n",
    "        \n",
    "        merge(arr, left, mid, right)"
   ]
  },
  {
   "cell_type": "code",
   "execution_count": 47,
   "metadata": {},
   "outputs": [
    {
     "data": {
      "text/plain": [
       "[1, 2, 2, 3, 4, 4, 6, 7]"
      ]
     },
     "execution_count": 47,
     "metadata": {},
     "output_type": "execute_result"
    }
   ],
   "source": [
    "arr = [3, 4, 2, 1, 6, 7, 4, 2]\n",
    "mergesort(arr, 0, len(arr)-1)\n",
    "arr"
   ]
  },
  {
   "cell_type": "markdown",
   "metadata": {},
   "source": [
    "---"
   ]
  },
  {
   "cell_type": "code",
   "execution_count": 48,
   "metadata": {},
   "outputs": [],
   "source": [
    "\"\"\"\n",
    "Insertion sort implementation.\n",
    "\"\"\"\n",
    "def swap(arr, l, r):\n",
    "    temp = arr[l]\n",
    "    arr[l] = arr[r]\n",
    "    arr[r] = temp\n",
    "\n",
    "def insertionSort(arr):\n",
    "    \n",
    "    i = 0\n",
    "    while i<len(arr):\n",
    "        j = i\n",
    "        while j>0 and arr[j-1]>arr[j]:\n",
    "            swap(arr, j-1, j)\n",
    "            j-=1\n",
    "        i+=1"
   ]
  },
  {
   "cell_type": "code",
   "execution_count": 49,
   "metadata": {},
   "outputs": [
    {
     "data": {
      "text/plain": [
       "[1, 2, 2, 3, 4, 4, 6, 7]"
      ]
     },
     "execution_count": 49,
     "metadata": {},
     "output_type": "execute_result"
    }
   ],
   "source": [
    "arr = [3, 4, 2, 1, 6, 7, 4, 2]\n",
    "insertionSort(arr)\n",
    "arr"
   ]
  },
  {
   "cell_type": "markdown",
   "metadata": {},
   "source": [
    "---"
   ]
  },
  {
   "cell_type": "code",
   "execution_count": 50,
   "metadata": {},
   "outputs": [],
   "source": [
    "\"\"\"\n",
    "Implementing bubble sort.\n",
    "\"\"\"\n",
    "def swap(arr, l, r):\n",
    "    temp = arr[l]\n",
    "    arr[l] = arr[r]\n",
    "    arr[r] = temp\n",
    "\n",
    "def bubbleSort(arr):\n",
    "    \n",
    "    for i in range(len(arr)):\n",
    "        \n",
    "        for j in range(i, len(arr)):\n",
    "            \n",
    "            if arr[i]>arr[j]:\n",
    "                swap(arr, i, j)\n",
    "        "
   ]
  },
  {
   "cell_type": "code",
   "execution_count": 51,
   "metadata": {},
   "outputs": [
    {
     "data": {
      "text/plain": [
       "[1, 2, 2, 3, 4, 4, 6, 7]"
      ]
     },
     "execution_count": 51,
     "metadata": {},
     "output_type": "execute_result"
    }
   ],
   "source": [
    "arr = [3, 4, 2, 1, 6, 7, 4, 2]\n",
    "bubbleSort(arr)\n",
    "arr"
   ]
  },
  {
   "cell_type": "markdown",
   "metadata": {},
   "source": [
    "---"
   ]
  },
  {
   "cell_type": "code",
   "execution_count": 52,
   "metadata": {},
   "outputs": [],
   "source": [
    "\"\"\"\n",
    "Bucket sort:\n",
    "- inputs are uniformly distributed\n",
    "- separte them into different buckets (slots)\n",
    "- apply insertion sort in each bucket \n",
    "- merge all buckets\n",
    "\"\"\"\n",
    "\n",
    "def insertionSort(arr):\n",
    "    i =0\n",
    "    while i<len(arr):\n",
    "        j =i\n",
    "        while j>0 and arr[j-1]>arr[j]:\n",
    "            arr[j-1], arr[j] = arr[j], arr[j-1]\n",
    "            j-=1\n",
    "        i+=1\n",
    "def bucketSort(arr, slots):\n",
    "    \n",
    "    buckets =[[] for _ in range(slots)]\n",
    "    \n",
    "    for num in arr:\n",
    "        index = int(slots*num)\n",
    "        buckets[index].append(num)\n",
    "    \n",
    "    for i in range(slots):\n",
    "        insertionSort(buckets[i])\n",
    "    k =0\n",
    "    for i in range(slots):\n",
    "        for num in buckets[i]:\n",
    "            arr[k] = num\n",
    "            k+=1         "
   ]
  },
  {
   "cell_type": "code",
   "execution_count": 53,
   "metadata": {},
   "outputs": [
    {
     "data": {
      "text/plain": [
       "[0.1234, 0.3434, 0.565, 0.656, 0.665, 0.897]"
      ]
     },
     "execution_count": 53,
     "metadata": {},
     "output_type": "execute_result"
    }
   ],
   "source": [
    "data = [0.897, 0.565, 0.656, 0.1234, 0.665, 0.3434] \n",
    "bucketSort(data, 10)\n",
    "data"
   ]
  },
  {
   "cell_type": "markdown",
   "metadata": {},
   "source": [
    "---"
   ]
  },
  {
   "cell_type": "code",
   "execution_count": 54,
   "metadata": {},
   "outputs": [],
   "source": [
    "\"\"\"\n",
    "Counting Sort for numbers. \n",
    "\"\"\"\n",
    "import itertools\n",
    "def countingSort(data):\n",
    "        \n",
    "        index = [0]*(max(data)-min(data)+1)\n",
    "        offset = min(data)\n",
    "        \n",
    "        \n",
    "        for item in data:\n",
    "            index[item-offset]+=1\n",
    "            \n",
    "        index = list(itertools.accumulate(index))\n",
    "        result = [0]*(len(data))\n",
    "        \n",
    "        for i in reversed(range(len(data))):\n",
    "            result[index[data[i]-offset]-1] = data[i]\n",
    "            index[data[i]-offset]-=1\n",
    "        \n",
    "        for i in range(len(data)):\n",
    "            data[i] = result[i]"
   ]
  },
  {
   "cell_type": "code",
   "execution_count": 55,
   "metadata": {},
   "outputs": [
    {
     "data": {
      "text/plain": [
       "[-10, -1, 0, 0, 1, 1, 2, 2, 4, 5, 7, 10, 20]"
      ]
     },
     "execution_count": 55,
     "metadata": {},
     "output_type": "execute_result"
    }
   ],
   "source": [
    "#Example 1\n",
    "a = [1, 4, 1, 2, 7, 5, 2, 10, 20, 0, 0, -1, -10]\n",
    "countingSort(a)\n",
    "a"
   ]
  },
  {
   "cell_type": "code",
   "execution_count": 56,
   "metadata": {},
   "outputs": [
    {
     "data": {
      "text/plain": [
       "[100, 102, 110, 120, 150, 200, 300]"
      ]
     },
     "execution_count": 56,
     "metadata": {},
     "output_type": "execute_result"
    }
   ],
   "source": [
    "#Example 2\n",
    "a = [100, 102, 200, 300, 150, 120, 110]\n",
    "countingSort(a)\n",
    "a"
   ]
  },
  {
   "cell_type": "markdown",
   "metadata": {},
   "source": [
    "---"
   ]
  },
  {
   "cell_type": "code",
   "execution_count": 57,
   "metadata": {},
   "outputs": [],
   "source": [
    "\"\"\"\n",
    "Radix Sort.\n",
    "\"\"\"\n",
    "\n",
    "def countingSort(arr, digit):\n",
    "    count =[0]*10\n",
    "    \n",
    "    for item in arr:\n",
    "        div = item//digit\n",
    "        count[div%10]+=1\n",
    "    \n",
    "    result = [0]*len(arr)\n",
    "    count = list(itertools.accumulate(count))\n",
    "    \n",
    "    for num in reversed(arr):\n",
    "        div = num//digit\n",
    "        result[count[div%10]-1] = num\n",
    "        count[div%10]-=1\n",
    "        \n",
    "    for i, num in enumerate(result):\n",
    "        arr[i] = num\n",
    "    \n",
    "def radixSort(arr):\n",
    "    \n",
    "    max_n = max(arr)\n",
    "    exp = 1\n",
    "    while max_n//exp>0:\n",
    "        countingSort(arr, exp)\n",
    "        exp*=10\n",
    "    return arr"
   ]
  },
  {
   "cell_type": "code",
   "execution_count": 58,
   "metadata": {},
   "outputs": [
    {
     "data": {
      "text/plain": [
       "[2, 24, 45, 66, 75, 90, 170, 802]"
      ]
     },
     "execution_count": 58,
     "metadata": {},
     "output_type": "execute_result"
    }
   ],
   "source": [
    "#Example 1\n",
    "arr = [170, 45, 75, 90, 802, 24, 2, 66]\n",
    "radixSort(arr)\n",
    "arr"
   ]
  },
  {
   "cell_type": "code",
   "execution_count": 59,
   "metadata": {},
   "outputs": [
    {
     "data": {
      "text/plain": [
       "[-20, -21, -40, -110, -4]"
      ]
     },
     "execution_count": 59,
     "metadata": {},
     "output_type": "execute_result"
    }
   ],
   "source": [
    "#Example 2\n",
    "arr = [-20, -21, -40, -110, -4]\n",
    "radixSort(arr)\n",
    "arr"
   ]
  },
  {
   "cell_type": "code",
   "execution_count": 60,
   "metadata": {},
   "outputs": [],
   "source": [
    "\"\"\"\n",
    "K-th smallest element using quick select. Basically, quick sort with minor modification\n",
    "\"\"\"\n",
    "\n",
    "def partition(arr, left, right):\n",
    "    \n",
    "    idx = left\n",
    "    for i, num in enumerate(arr[left:right+1]):\n",
    "        if num<arr[right]:\n",
    "            arr[idx], arr[left+i] = arr[left+i], arr[idx]\n",
    "            idx+=1\n",
    "    arr[idx], arr[right] = arr[right], arr[idx]\n",
    "    \n",
    "    return idx\n",
    "    \n",
    "\n",
    "def modifiedQuickSort(arr, left, right, k):\n",
    "    \n",
    "    if right>left:\n",
    "        \n",
    "        pi = partition(arr, left, right)\n",
    "        if pi>k:\n",
    "            modifiedQuickSort(arr, left, pi-1, k)\n",
    "        elif pi<k:            \n",
    "            modifiedQuickSort(arr, pi+1, right, k)\n",
    "\n",
    "            \n",
    "def quickSelectKthSmallest(arr, k):\n",
    "    modifiedQuickSort(arr, 0, len(arr)-1, k)\n",
    "    return arr[k-1]\n",
    "\n",
    "def quickSelectKthLargest(arr, k):\n",
    "    modifiedQuickSort(arr, 0, len(arr)-1, (len(arr)-k))\n",
    "    return arr[-k]\n",
    "            "
   ]
  },
  {
   "cell_type": "code",
   "execution_count": 61,
   "metadata": {},
   "outputs": [
    {
     "data": {
      "text/plain": [
       "2"
      ]
     },
     "execution_count": 61,
     "metadata": {},
     "output_type": "execute_result"
    }
   ],
   "source": [
    "#Example 1\n",
    "arr = [3, 4, 2, 1, 6, 7, 4, 2, 100, 4, 8, 9, 2, 4, 5, 6, 102, 20, 30, 40]\n",
    "quickSelectKthSmallest(arr, 2)"
   ]
  },
  {
   "cell_type": "code",
   "execution_count": 62,
   "metadata": {},
   "outputs": [
    {
     "data": {
      "text/plain": [
       "9"
      ]
     },
     "execution_count": 62,
     "metadata": {},
     "output_type": "execute_result"
    }
   ],
   "source": [
    "#Example 2\n",
    "quickSelectKthLargest(arr, 6)"
   ]
  },
  {
   "cell_type": "markdown",
   "metadata": {},
   "source": [
    "---"
   ]
  },
  {
   "cell_type": "code",
   "execution_count": 64,
   "metadata": {},
   "outputs": [],
   "source": [
    "'''\n",
    "937. Reorder Data in Log Files\n",
    "You have an array of logs.  Each log is a space delimited string of words.\n",
    "\n",
    "For each log, the first word in each log is an alphanumeric identifier.  Then, either:\n",
    "\n",
    "Each word after the identifier will consist only of lowercase letters, or;\n",
    "Each word after the identifier will consist only of digits.\n",
    "We will call these two varieties of logs letter-logs and digit-logs. \n",
    "It is guaranteed that each log has at least one word after its identifier.\n",
    "\n",
    "Reorder the logs so that all of the letter-logs come before any digit-log. \n",
    "The letter-logs are ordered lexicographically ignoring identifier, with the identifier used in case of ties. \n",
    "The digit-logs should be put in their original order.\n",
    "\n",
    "Return the final order of the logs.\n",
    "\n",
    " \n",
    "\n",
    "Example 1:\n",
    "\n",
    "Input: logs = [\"dig1 8 1 5 1\",\"let1 art can\",\"dig2 3 6\",\"let2 own kit dig\",\"let3 art zero\"]\n",
    "Output: [\"let1 art can\",\"let3 art zero\",\"let2 own kit dig\",\"dig1 8 1 5 1\",\"dig2 3 6\"]\n",
    " \n",
    "\n",
    "Constraints:\n",
    "\n",
    "1. 0 <= logs.length <= 100\n",
    "2. 3 <= logs[i].length <= 100\n",
    "3. logs[i] is guaranteed to have an identifier, and a word after the identifier.\n",
    "\n",
    "'''\n",
    "\n",
    "class Solution:\n",
    "    def reorderLogFiles(self, logs):\n",
    "        letter_logs = []\n",
    "        digit_logs = []\n",
    "        \n",
    "        for item in logs:\n",
    "            if (not \"\".join(item.split()[1:]).isdigit()):\n",
    "                letter_logs.append(item)\n",
    "            else:\n",
    "                digit_logs.append(item)\n",
    "        \n",
    "        \n",
    "            \n",
    "        letter_logs= sorted(letter_logs, key=lambda item:[item.lstrip(item.split()[0]), item.split()[0]])\n",
    "        \n",
    "        return letter_logs + digit_logs"
   ]
  },
  {
   "cell_type": "markdown",
   "metadata": {},
   "source": [
    "---"
   ]
  },
  {
   "cell_type": "code",
   "execution_count": null,
   "metadata": {},
   "outputs": [],
   "source": []
  },
  {
   "cell_type": "code",
   "execution_count": null,
   "metadata": {},
   "outputs": [],
   "source": []
  },
  {
   "cell_type": "code",
   "execution_count": null,
   "metadata": {},
   "outputs": [],
   "source": []
  }
 ],
 "metadata": {
  "kernelspec": {
   "display_name": "Python 3",
   "language": "python",
   "name": "python3"
  },
  "language_info": {
   "codemirror_mode": {
    "name": "ipython",
    "version": 3
   },
   "file_extension": ".py",
   "mimetype": "text/x-python",
   "name": "python",
   "nbconvert_exporter": "python",
   "pygments_lexer": "ipython3",
   "version": "3.7.3"
  }
 },
 "nbformat": 4,
 "nbformat_minor": 2
}

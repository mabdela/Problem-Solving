{
 "cells": [
  {
   "cell_type": "code",
   "execution_count": 1,
   "metadata": {},
   "outputs": [],
   "source": [
    "'''\n",
    "692. Top K Frequent Words\n",
    "Given a non-empty list of words, return the k most frequent elements.\n",
    "\n",
    "Your answer should be sorted by frequency from highest to lowest. \n",
    "If two words have the same frequency, then the word with the lower alphabetical order comes first.\n",
    "\n",
    "Example 1:\n",
    "Input: [\"i\", \"love\", \"leetcode\", \"i\", \"love\", \"coding\"], k = 2\n",
    "Output: [\"i\", \"love\"]\n",
    "Explanation: \"i\" and \"love\" are the two most frequent words.\n",
    "    Note that \"i\" comes before \"love\" due to a lower alphabetical order.\n",
    "Example 2:\n",
    "Input: [\"the\", \"day\", \"is\", \"sunny\", \"the\", \"the\", \"the\", \"sunny\", \"is\", \"is\"], k = 4\n",
    "Output: [\"the\", \"is\", \"sunny\", \"day\"]\n",
    "Explanation: \"the\", \"is\", \"sunny\" and \"day\" are the four most frequent words,\n",
    "    with the number of occurrence being 4, 3, 2 and 1 respectively.\n",
    "Note:\n",
    "You may assume k is always valid, 1 ≤ k ≤ number of unique elements.\n",
    "Input words contain only lowercase letters.\n",
    "Follow up:\n",
    "Try to solve it in O(n log k) time and O(n) extra space.\n",
    "'''\n",
    "class Solution:\n",
    "    def topKFrequent(self, words, k):\n",
    "        \n",
    "        data ={}\n",
    "        \n",
    "        for i in words: \n",
    "            if i not in data.keys():\n",
    "                data[i] = 1\n",
    "            else:\n",
    "                data[i]+=1\n",
    "        \n",
    "            \n",
    "        s = sorted(data.items(), key=lambda item:item[0])\n",
    "        \n",
    "        data = {x:v for x, v in sorted(s, key=lambda item:item[1], reverse=True)}\n",
    "        \n",
    "        # can replace the above two lines with the following as well\n",
    "        #data = {x:v for x, v in sorted(data.items(), lambda item:(-item[1], item[0]))}\n",
    "        \n",
    "        # or we can save the result in a list as follows\n",
    "        # ans = sorted(data.keys(), key=lambda item: (-data[item], item))\n",
    "        # and return ans[0:k]\n",
    "           \n",
    "                \n",
    "        return list(data.keys())[0:k]\n",
    "    \n",
    "    # Method 2 using collections and heapq\n",
    "    \n",
    "    '''\n",
    "    \n",
    "from heapq import nsmallest\n",
    "from collections import Counter\n",
    "\n",
    "class Solution:\n",
    "    def topKFrequent(self, words: List[str], k: int) -> List[str]:\n",
    "        freq = Counter(words)\n",
    "        return nsmallest(k, freq.keys(), key=lambda x: (-freq[x], x))\n",
    "    \n",
    "    '''        "
   ]
  },
  {
   "cell_type": "markdown",
   "metadata": {},
   "source": [
    "---"
   ]
  },
  {
   "cell_type": "code",
   "execution_count": null,
   "metadata": {},
   "outputs": [],
   "source": []
  },
  {
   "cell_type": "code",
   "execution_count": 2,
   "metadata": {},
   "outputs": [
    {
     "ename": "SyntaxError",
     "evalue": "invalid syntax (<ipython-input-2-29e0c3615294>, line 1)",
     "output_type": "error",
     "traceback": [
      "\u001b[1;36m  File \u001b[1;32m\"<ipython-input-2-29e0c3615294>\"\u001b[1;36m, line \u001b[1;32m1\u001b[0m\n\u001b[1;33m    ---\u001b[0m\n\u001b[1;37m       ^\u001b[0m\n\u001b[1;31mSyntaxError\u001b[0m\u001b[1;31m:\u001b[0m invalid syntax\n"
     ]
    }
   ],
   "source": [
    "---"
   ]
  },
  {
   "cell_type": "code",
   "execution_count": null,
   "metadata": {},
   "outputs": [],
   "source": []
  }
 ],
 "metadata": {
  "kernelspec": {
   "display_name": "Python 3",
   "language": "python",
   "name": "python3"
  },
  "language_info": {
   "codemirror_mode": {
    "name": "ipython",
    "version": 3
   },
   "file_extension": ".py",
   "mimetype": "text/x-python",
   "name": "python",
   "nbconvert_exporter": "python",
   "pygments_lexer": "ipython3",
   "version": "3.7.3"
  }
 },
 "nbformat": 4,
 "nbformat_minor": 2
}

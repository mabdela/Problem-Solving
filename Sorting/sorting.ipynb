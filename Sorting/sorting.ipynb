{
 "cells": [
  {
   "cell_type": "code",
   "execution_count": 4,
   "metadata": {},
   "outputs": [],
   "source": [
    "\"\"\"\n",
    "Here just implementing quick sort.\n",
    "\"\"\"\n",
    "\n",
    "def swap(arr, idx1, idx2):\n",
    "    temp = arr[idx1]\n",
    "    arr[idx1] = arr[idx2]\n",
    "    arr[idx2] = temp\n",
    "\n",
    "def partition(arr, left, right):\n",
    "    \n",
    "    idx = left\n",
    "    for i, num in enumerate(arr[left:right+1]):\n",
    "        if num<arr[right]:\n",
    "            swap(arr, idx, left+i)\n",
    "            idx+=1\n",
    "    swap(arr, idx, right)\n",
    "    \n",
    "    return idx\n",
    "    \n",
    "\n",
    "def quickSort(arr, left, right):\n",
    "    \n",
    "    if right>left:\n",
    "        \n",
    "        pi = partition(arr, left, right)\n",
    "        \n",
    "        quickSort(arr, left, pi-1)\n",
    "        quickSort(arr, pi+1, right)\n",
    "    "
   ]
  },
  {
   "cell_type": "code",
   "execution_count": 6,
   "metadata": {},
   "outputs": [
    {
     "data": {
      "text/plain": [
       "[1, 2, 2, 3, 4, 4, 6, 7]"
      ]
     },
     "execution_count": 6,
     "metadata": {},
     "output_type": "execute_result"
    }
   ],
   "source": [
    "arr = [3, 4, 2, 1, 6, 7, 4, 2]\n",
    "quickSort(arr, 0, len(arr)-1)\n",
    "arr"
   ]
  },
  {
   "cell_type": "markdown",
   "metadata": {},
   "source": [
    "---"
   ]
  },
  {
   "cell_type": "code",
   "execution_count": 8,
   "metadata": {},
   "outputs": [],
   "source": [
    "\"\"\"\n",
    "Implementing Merge sort.\n",
    "\"\"\"\n",
    "def merge(arr, left, mid, right):\n",
    "    \n",
    "    k = left\n",
    "    L = arr[left:mid+1]\n",
    "    R = arr[mid+1:right+1]\n",
    "    i, j = 0, 0\n",
    "    \n",
    "    while i<len(L) and j<len(R):\n",
    "        \n",
    "        if L[i]<R[j]:\n",
    "            \n",
    "            arr[k] = L[i]\n",
    "            i+=1\n",
    "        else:\n",
    "            arr[k] = R[j]\n",
    "            j+=1\n",
    "        k+=1\n",
    "    \n",
    "    while j<len(R):\n",
    "        arr[k] = R[j]\n",
    "        j+=1\n",
    "        k+=1\n",
    "    while i<len(L):\n",
    "        arr[k] = L[i]\n",
    "        k+=1\n",
    "        i+=1\n",
    "\n",
    "\n",
    "def mergesort(arr, left, right):\n",
    "    \n",
    "    if right>left:\n",
    "        \n",
    "        mid = (right+left)//2\n",
    "        \n",
    "        mergesort(arr, left, mid)\n",
    "        \n",
    "        mergesort(arr, mid+1, right)\n",
    "        \n",
    "        merge(arr, left, mid, right)"
   ]
  },
  {
   "cell_type": "code",
   "execution_count": 9,
   "metadata": {},
   "outputs": [
    {
     "data": {
      "text/plain": [
       "[1, 2, 2, 3, 4, 4, 6, 7]"
      ]
     },
     "execution_count": 9,
     "metadata": {},
     "output_type": "execute_result"
    }
   ],
   "source": [
    "arr = [3, 4, 2, 1, 6, 7, 4, 2]\n",
    "mergesort(arr, 0, len(arr)-1)\n",
    "arr"
   ]
  },
  {
   "cell_type": "markdown",
   "metadata": {},
   "source": [
    "---"
   ]
  },
  {
   "cell_type": "code",
   "execution_count": 10,
   "metadata": {},
   "outputs": [],
   "source": [
    "\"\"\"\n",
    "Insertion sort implementation.\n",
    "\"\"\"\n",
    "def swap(arr, l, r):\n",
    "    temp = arr[l]\n",
    "    arr[l] = arr[r]\n",
    "    arr[r] = temp\n",
    "\n",
    "def insertionSort(arr):\n",
    "    \n",
    "    i = 0\n",
    "    while i<len(arr):\n",
    "        j = i\n",
    "        while j>0 and arr[j-1]>arr[j]:\n",
    "            swap(arr, j-1, j)\n",
    "            j-=1\n",
    "        i+=1"
   ]
  },
  {
   "cell_type": "code",
   "execution_count": 11,
   "metadata": {},
   "outputs": [
    {
     "data": {
      "text/plain": [
       "[1, 2, 2, 3, 4, 4, 6, 7]"
      ]
     },
     "execution_count": 11,
     "metadata": {},
     "output_type": "execute_result"
    }
   ],
   "source": [
    "arr = [3, 4, 2, 1, 6, 7, 4, 2]\n",
    "insertionSort(arr)\n",
    "arr"
   ]
  },
  {
   "cell_type": "markdown",
   "metadata": {},
   "source": [
    "---"
   ]
  },
  {
   "cell_type": "code",
   "execution_count": 12,
   "metadata": {},
   "outputs": [],
   "source": [
    "\"\"\"\n",
    "Implementing bubble sort.\n",
    "\"\"\"\n",
    "def swap(arr, l, r):\n",
    "    temp = arr[l]\n",
    "    arr[l] = arr[r]\n",
    "    arr[r] = temp\n",
    "\n",
    "def bubbleSort(arr):\n",
    "    \n",
    "    for i in range(len(arr)):\n",
    "        \n",
    "        for j in range(i, len(arr)):\n",
    "            \n",
    "            if arr[i]>arr[j]:\n",
    "                swap(arr, i, j)\n",
    "        "
   ]
  },
  {
   "cell_type": "code",
   "execution_count": 13,
   "metadata": {},
   "outputs": [
    {
     "data": {
      "text/plain": [
       "[1, 2, 2, 3, 4, 4, 6, 7]"
      ]
     },
     "execution_count": 13,
     "metadata": {},
     "output_type": "execute_result"
    }
   ],
   "source": [
    "arr = [3, 4, 2, 1, 6, 7, 4, 2]\n",
    "bubbleSort(arr)\n",
    "arr"
   ]
  },
  {
   "cell_type": "markdown",
   "metadata": {},
   "source": [
    "---"
   ]
  },
  {
   "cell_type": "code",
   "execution_count": 18,
   "metadata": {},
   "outputs": [],
   "source": [
    "\"\"\"\n",
    "Bucket sort:\n",
    "- inputs are uniformly distributed\n",
    "- separte them into different buckets (slots)\n",
    "- apply insertion sort in each bucket \n",
    "- merge all buckets\n",
    "\"\"\"\n",
    "\n",
    "def insertionSort(arr):\n",
    "    i =0\n",
    "    while i<len(arr):\n",
    "        j =i\n",
    "        while j>0 and arr[j-1]>arr[j]:\n",
    "            arr[j-1], arr[j] = arr[j], arr[j-1]\n",
    "            j-=1\n",
    "        i+=1\n",
    "def bucketSort(arr, slots):\n",
    "    \n",
    "    buckets =[[] for _ in range(slots)]\n",
    "    \n",
    "    for num in arr:\n",
    "        index = int(slots*num)\n",
    "        buckets[index].append(num)\n",
    "    \n",
    "    for i in range(slots):\n",
    "        insertionSort(buckets[i])\n",
    "    k =0\n",
    "    for i in range(slots):\n",
    "        for num in buckets[i]:\n",
    "            arr[k] = num\n",
    "            k+=1         "
   ]
  },
  {
   "cell_type": "code",
   "execution_count": 19,
   "metadata": {},
   "outputs": [
    {
     "data": {
      "text/plain": [
       "[0.1234, 0.3434, 0.565, 0.656, 0.665, 0.897]"
      ]
     },
     "execution_count": 19,
     "metadata": {},
     "output_type": "execute_result"
    }
   ],
   "source": [
    "data = [0.897, 0.565, 0.656, 0.1234, 0.665, 0.3434] \n",
    "bucketSort(data, 10)\n",
    "data"
   ]
  },
  {
   "cell_type": "markdown",
   "metadata": {},
   "source": [
    "---"
   ]
  },
  {
   "cell_type": "code",
   "execution_count": 14,
   "metadata": {},
   "outputs": [],
   "source": [
    "\"\"\"\n",
    "K-th smallest element using quick select. Basically, quick sort with minor modification\n",
    "\"\"\"\n",
    "\n",
    "def partition(arr, left, right):\n",
    "    \n",
    "    idx = left\n",
    "    for i, num in enumerate(arr[left:right+1]):\n",
    "        if num<arr[right]:\n",
    "            arr[idx], arr[left+i] = arr[left+i], arr[idx]\n",
    "            idx+=1\n",
    "    arr[idx], arr[right] = arr[right], arr[idx]\n",
    "    \n",
    "    return idx\n",
    "    \n",
    "\n",
    "def modifiedQuickSort(arr, left, right, k):\n",
    "    \n",
    "    if right>left:\n",
    "        \n",
    "        pi = partition(arr, left, right)\n",
    "        if pi>k:\n",
    "            modifiedQuickSort(arr, left, pi-1, k)\n",
    "        elif pi<k:            \n",
    "            modifiedQuickSort(arr, pi+1, right, k)\n",
    "\n",
    "            \n",
    "def quickSelectKthSmallest(arr, k):\n",
    "    modifiedQuickSort(arr, 0, len(arr)-1, k)\n",
    "    return arr[k-1]\n",
    "\n",
    "def quickSelectKthLargest(arr, k):\n",
    "    modifiedQuickSort(arr, 0, len(arr)-1, (len(arr)-k))\n",
    "    return arr[-k]\n",
    "            "
   ]
  },
  {
   "cell_type": "code",
   "execution_count": 15,
   "metadata": {},
   "outputs": [
    {
     "data": {
      "text/plain": [
       "2"
      ]
     },
     "execution_count": 15,
     "metadata": {},
     "output_type": "execute_result"
    }
   ],
   "source": [
    "#Example 1\n",
    "arr = [3, 4, 2, 1, 6, 7, 4, 2, 100, 4, 8, 9, 2, 4, 5, 6, 102, 20, 30, 40]\n",
    "quickSelectKthSmallest(arr, 2)"
   ]
  },
  {
   "cell_type": "code",
   "execution_count": 16,
   "metadata": {},
   "outputs": [
    {
     "data": {
      "text/plain": [
       "9"
      ]
     },
     "execution_count": 16,
     "metadata": {},
     "output_type": "execute_result"
    }
   ],
   "source": [
    "#Example 2\n",
    "quickSelectKthLargest(arr, 6)"
   ]
  },
  {
   "cell_type": "code",
   "execution_count": null,
   "metadata": {},
   "outputs": [],
   "source": []
  },
  {
   "cell_type": "code",
   "execution_count": 1,
   "metadata": {},
   "outputs": [],
   "source": [
    "'''\n",
    "692. Top K Frequent Words\n",
    "Given a non-empty list of words, return the k most frequent elements.\n",
    "\n",
    "Your answer should be sorted by frequency from highest to lowest. \n",
    "If two words have the same frequency, then the word with the lower alphabetical order comes first.\n",
    "\n",
    "Example 1:\n",
    "Input: [\"i\", \"love\", \"leetcode\", \"i\", \"love\", \"coding\"], k = 2\n",
    "Output: [\"i\", \"love\"]\n",
    "Explanation: \"i\" and \"love\" are the two most frequent words.\n",
    "    Note that \"i\" comes before \"love\" due to a lower alphabetical order.\n",
    "Example 2:\n",
    "Input: [\"the\", \"day\", \"is\", \"sunny\", \"the\", \"the\", \"the\", \"sunny\", \"is\", \"is\"], k = 4\n",
    "Output: [\"the\", \"is\", \"sunny\", \"day\"]\n",
    "Explanation: \"the\", \"is\", \"sunny\" and \"day\" are the four most frequent words,\n",
    "    with the number of occurrence being 4, 3, 2 and 1 respectively.\n",
    "Note:\n",
    "You may assume k is always valid, 1 ≤ k ≤ number of unique elements.\n",
    "Input words contain only lowercase letters.\n",
    "Follow up:\n",
    "Try to solve it in O(n log k) time and O(n) extra space.\n",
    "'''\n",
    "class Solution:\n",
    "    def topKFrequent(self, words, k):\n",
    "        \n",
    "        data ={}\n",
    "        \n",
    "        for i in words: \n",
    "            if i not in data.keys():\n",
    "                data[i] = 1\n",
    "            else:\n",
    "                data[i]+=1\n",
    "        \n",
    "            \n",
    "        s = sorted(data.items(), key=lambda item:item[0])\n",
    "        \n",
    "        data = {x:v for x, v in sorted(s, key=lambda item:item[1], reverse=True)}\n",
    "        \n",
    "        # can replace the above two lines with the following as well\n",
    "        #data = {x:v for x, v in sorted(data.items(), lambda item:(-item[1], item[0]))}\n",
    "        \n",
    "        # or we can save the result in a list as follows\n",
    "        # ans = sorted(data.keys(), key=lambda item: (-data[item], item))\n",
    "        # and return ans[0:k]\n",
    "           \n",
    "                \n",
    "        return list(data.keys())[0:k]\n",
    "    \n",
    "    # Method 2 using collections and heapq\n",
    "    \n",
    "    '''\n",
    "    \n",
    "from heapq import nsmallest\n",
    "from collections import Counter\n",
    "\n",
    "class Solution:\n",
    "    def topKFrequent(self, words: List[str], k: int) -> List[str]:\n",
    "        freq = Counter(words)\n",
    "        return nsmallest(k, freq.keys(), key=lambda x: (-freq[x], x))\n",
    "    \n",
    "    '''        "
   ]
  },
  {
   "cell_type": "markdown",
   "metadata": {},
   "source": [
    "---"
   ]
  },
  {
   "cell_type": "code",
   "execution_count": null,
   "metadata": {},
   "outputs": [],
   "source": [
    "'''\n",
    "937. Reorder Data in Log Files\n",
    "You have an array of logs.  Each log is a space delimited string of words.\n",
    "\n",
    "For each log, the first word in each log is an alphanumeric identifier.  Then, either:\n",
    "\n",
    "Each word after the identifier will consist only of lowercase letters, or;\n",
    "Each word after the identifier will consist only of digits.\n",
    "We will call these two varieties of logs letter-logs and digit-logs. \n",
    "It is guaranteed that each log has at least one word after its identifier.\n",
    "\n",
    "Reorder the logs so that all of the letter-logs come before any digit-log. \n",
    "The letter-logs are ordered lexicographically ignoring identifier, with the identifier used in case of ties. \n",
    "The digit-logs should be put in their original order.\n",
    "\n",
    "Return the final order of the logs.\n",
    "\n",
    " \n",
    "\n",
    "Example 1:\n",
    "\n",
    "Input: logs = [\"dig1 8 1 5 1\",\"let1 art can\",\"dig2 3 6\",\"let2 own kit dig\",\"let3 art zero\"]\n",
    "Output: [\"let1 art can\",\"let3 art zero\",\"let2 own kit dig\",\"dig1 8 1 5 1\",\"dig2 3 6\"]\n",
    " \n",
    "\n",
    "Constraints:\n",
    "\n",
    "1. 0 <= logs.length <= 100\n",
    "2. 3 <= logs[i].length <= 100\n",
    "3. logs[i] is guaranteed to have an identifier, and a word after the identifier.\n",
    "\n",
    "'''\n",
    "\n",
    "class Solution:\n",
    "    def reorderLogFiles(self, logs):\n",
    "        letter_logs = []\n",
    "        digit_logs = []\n",
    "        \n",
    "        for item in logs:\n",
    "            if (not \"\".join(item.split()[1:]).isdigit()):\n",
    "                letter_logs.append(item)\n",
    "            else:\n",
    "                digit_logs.append(item)\n",
    "        \n",
    "        \n",
    "            \n",
    "        letter_logs= sorted(letter_logs, key=lambda item:[item.lstrip(item.split()[0]), item.split()[0]])\n",
    "        \n",
    "        return letter_logs + digit_logs"
   ]
  },
  {
   "cell_type": "markdown",
   "metadata": {},
   "source": [
    "---"
   ]
  },
  {
   "cell_type": "code",
   "execution_count": null,
   "metadata": {},
   "outputs": [],
   "source": []
  }
 ],
 "metadata": {
  "kernelspec": {
   "display_name": "Python 3",
   "language": "python",
   "name": "python3"
  },
  "language_info": {
   "codemirror_mode": {
    "name": "ipython",
    "version": 3
   },
   "file_extension": ".py",
   "mimetype": "text/x-python",
   "name": "python",
   "nbconvert_exporter": "python",
   "pygments_lexer": "ipython3",
   "version": "3.7.3"
  }
 },
 "nbformat": 4,
 "nbformat_minor": 2
}

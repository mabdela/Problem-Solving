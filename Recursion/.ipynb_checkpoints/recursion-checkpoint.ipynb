{
 "cells": [
  {
   "cell_type": "code",
   "execution_count": 3,
   "metadata": {},
   "outputs": [],
   "source": [
    "\"\"\"\n",
    "Combination Sum e.g. Input: candidates = [2,3,6,7], target = 7, A solution set is: [ [7],[2,2,3]]\n",
    "\"\"\"\n",
    "class Solution:\n",
    "    def recursive(self, arr, res, remainder, temp):\n",
    "        left_half = remainder/2\n",
    "        for i, d in enumerate(arr):\n",
    "            if(remainder==d):\n",
    "                res.append(temp+[d])\n",
    "            elif(d<=left_half):\n",
    "                self.recursive(arr[i:], res, remainder-d, temp+[d])\n",
    "    \n",
    "    def combinationSum(self, candidates, target):\n",
    "        res=[]\n",
    "        candidates.sort()\n",
    "        temp =[]\n",
    "        self.recursive(candidates , res, target, temp)\n",
    "        return res   "
   ]
  },
  {
   "cell_type": "code",
   "execution_count": 4,
   "metadata": {},
   "outputs": [
    {
     "data": {
      "text/plain": [
       "[[2, 2, 2], [3, 3], [6]]"
      ]
     },
     "execution_count": 4,
     "metadata": {},
     "output_type": "execute_result"
    }
   ],
   "source": [
    "#Example \n",
    "obj = Solution()\n",
    "obj.combinationSum([2, 3, 6, 7], 6)"
   ]
  },
  {
   "cell_type": "markdown",
   "metadata": {},
   "source": [
    "---"
   ]
  },
  {
   "cell_type": "code",
   "execution_count": 5,
   "metadata": {},
   "outputs": [],
   "source": [
    "'''\n",
    "241. Different Ways to Add Parentheses\n",
    "Given a string of numbers and operators, return all possible results from computing all the \n",
    "different possible ways to group numbers and operators. The valid operators are +, - and *.\n",
    "\n",
    "Example 1:\n",
    "\n",
    "Input: \"2-1-1\"\n",
    "Output: [0, 2]\n",
    "Explanation: \n",
    "((2-1)-1) = 0 \n",
    "(2-(1-1)) = 2\n",
    "Example 2:\n",
    "\n",
    "Input: \"2*3-4*5\"\n",
    "Output: [-34, -14, -10, -10, 10]\n",
    "Explanation: \n",
    "(2*(3-(4*5))) = -34 \n",
    "((2*3)-(4*5)) = -14 \n",
    "((2*(3-4))*5) = -10 \n",
    "(2*((3-4)*5)) = -10 \n",
    "(((2*3)-4)*5) = 10\n",
    "\n",
    "'''\n",
    "\n",
    "def diffWaysToCompute(expre):\n",
    "    \n",
    "    \n",
    "    def helper(string):\n",
    "        \n",
    "        curr = []\n",
    "        for i, item in enumerate(string):\n",
    "            if item in \"*+-\":\n",
    "\n",
    "                for a in helper(string[:i]):\n",
    "                    for b in helper(string[i+1:]):\n",
    "                        curr += [a+b if item=='+' else a-b if item=='-' else a*b]\n",
    "                \n",
    "        if not curr:\n",
    "            return [int(string)]\n",
    "        else:\n",
    "            return curr\n",
    "    \n",
    "    \n",
    "    return helper(expre)\n",
    "    "
   ]
  },
  {
   "cell_type": "code",
   "execution_count": 6,
   "metadata": {},
   "outputs": [
    {
     "data": {
      "text/plain": [
       "[2, 0]"
      ]
     },
     "execution_count": 6,
     "metadata": {},
     "output_type": "execute_result"
    }
   ],
   "source": [
    "#Example 1\n",
    "diffWaysToCompute(\"2-1-1\")"
   ]
  },
  {
   "cell_type": "code",
   "execution_count": 8,
   "metadata": {},
   "outputs": [
    {
     "data": {
      "text/plain": [
       "[-34, -10, -14, -10, 10]"
      ]
     },
     "execution_count": 8,
     "metadata": {},
     "output_type": "execute_result"
    }
   ],
   "source": [
    "#Example 2\n",
    "diffWaysToCompute(\"2*3-4*5\")"
   ]
  },
  {
   "cell_type": "markdown",
   "metadata": {},
   "source": [
    "---"
   ]
  },
  {
   "cell_type": "code",
   "execution_count": 10,
   "metadata": {},
   "outputs": [],
   "source": [
    "'''\n",
    "This question is similar to the above except here we are printing all possible braces. \n",
    "'''\n",
    "def diffWaysToCompute(expression):    \n",
    "    \n",
    "    def helper(string):\n",
    "        \n",
    "        curr=[]\n",
    "        \n",
    "        for i, item in enumerate(string):\n",
    "            \n",
    "            if item in \"*+-\":\n",
    "                \n",
    "                for a in helper(string[:i]):\n",
    "                    for b in helper(string[i+1:]):\n",
    "                        curr += [\"(\"+a+item+b+\")\"]\n",
    "        \n",
    "        if not curr:\n",
    "            return string\n",
    "        else:\n",
    "            return curr\n",
    "    \n",
    "    \n",
    "    return helper(expression)            "
   ]
  },
  {
   "cell_type": "code",
   "execution_count": 11,
   "metadata": {},
   "outputs": [
    {
     "data": {
      "text/plain": [
       "['(2-(1-1))', '((2-1)-1)']"
      ]
     },
     "execution_count": 11,
     "metadata": {},
     "output_type": "execute_result"
    }
   ],
   "source": [
    "#Example 1\n",
    "diffWaysToCompute(\"2-1-1\")"
   ]
  },
  {
   "cell_type": "code",
   "execution_count": 12,
   "metadata": {},
   "outputs": [
    {
     "data": {
      "text/plain": [
       "['(2*(3-(4*5)))',\n",
       " '(2*((3-4)*5))',\n",
       " '((2*3)-(4*5))',\n",
       " '((2*(3-4))*5)',\n",
       " '(((2*3)-4)*5)']"
      ]
     },
     "execution_count": 12,
     "metadata": {},
     "output_type": "execute_result"
    }
   ],
   "source": [
    "#Example 2\n",
    "diffWaysToCompute(\"2*3-4*5\")"
   ]
  },
  {
   "cell_type": "markdown",
   "metadata": {},
   "source": [
    "---"
   ]
  },
  {
   "cell_type": "code",
   "execution_count": null,
   "metadata": {},
   "outputs": [],
   "source": []
  }
 ],
 "metadata": {
  "kernelspec": {
   "display_name": "Python 3",
   "language": "python",
   "name": "python3"
  },
  "language_info": {
   "codemirror_mode": {
    "name": "ipython",
    "version": 3
   },
   "file_extension": ".py",
   "mimetype": "text/x-python",
   "name": "python",
   "nbconvert_exporter": "python",
   "pygments_lexer": "ipython3",
   "version": "3.7.3"
  }
 },
 "nbformat": 4,
 "nbformat_minor": 2
}

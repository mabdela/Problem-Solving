{
 "cells": [
  {
   "cell_type": "code",
   "execution_count": 3,
   "metadata": {},
   "outputs": [],
   "source": [
    "\"\"\"\n",
    "Combination Sum e.g. Input: candidates = [2,3,6,7], target = 7, A solution set is: [ [7],[2,2,3]]\n",
    "\"\"\"\n",
    "class Solution:\n",
    "    def recursive(self, arr, res, remainder, temp):\n",
    "        left_half = remainder/2\n",
    "        for i, d in enumerate(arr):\n",
    "            if(remainder==d):\n",
    "                res.append(temp+[d])\n",
    "            elif(d<=left_half):\n",
    "                self.recursive(arr[i:], res, remainder-d, temp+[d])\n",
    "    \n",
    "    def combinationSum(self, candidates, target):\n",
    "        res=[]\n",
    "        candidates.sort()\n",
    "        temp =[]\n",
    "        self.recursive(candidates , res, target, temp)\n",
    "        return res   "
   ]
  },
  {
   "cell_type": "code",
   "execution_count": 4,
   "metadata": {},
   "outputs": [
    {
     "data": {
      "text/plain": [
       "[[2, 2, 2], [3, 3], [6]]"
      ]
     },
     "execution_count": 4,
     "metadata": {},
     "output_type": "execute_result"
    }
   ],
   "source": [
    "#Example \n",
    "obj = Solution()\n",
    "obj.combinationSum([2, 3, 6, 7], 6)"
   ]
  },
  {
   "cell_type": "code",
   "execution_count": null,
   "metadata": {},
   "outputs": [],
   "source": []
  }
 ],
 "metadata": {
  "kernelspec": {
   "display_name": "Python 3",
   "language": "python",
   "name": "python3"
  },
  "language_info": {
   "codemirror_mode": {
    "name": "ipython",
    "version": 3
   },
   "file_extension": ".py",
   "mimetype": "text/x-python",
   "name": "python",
   "nbconvert_exporter": "python",
   "pygments_lexer": "ipython3",
   "version": "3.7.3"
  }
 },
 "nbformat": 4,
 "nbformat_minor": 2
}

{
 "cells": [
  {
   "cell_type": "code",
   "execution_count": 2,
   "metadata": {},
   "outputs": [],
   "source": [
    "'''\n",
    "347. Top K Frequent Elements\n",
    "Given a non-empty array of integers, return the k most frequent elements.\n",
    "\n",
    "Example 1:\n",
    "\n",
    "Input: nums = [1,1,1,2,2,3], k = 2\n",
    "Output: [1,2]\n",
    "Example 2:\n",
    "\n",
    "Input: nums = [1], k = 1\n",
    "Output: [1]\n",
    "Note:\n",
    "\n",
    "You may assume k is always valid, 1 ≤ k ≤ number of unique elements.\n",
    "Your algorithm's time complexity must be better than O(n log n), where n is the array's size.\n",
    "'''\n",
    "\n",
    "from heapq import nsmallest \n",
    "from collections import Counter\n",
    "\n",
    "class Solution:\n",
    "    def topKFrequent(self, nums, k):\n",
    "        \n",
    "        data = Counter(nums)\n",
    "        \n",
    "        return nsmallest(k, data.keys(), key=lambda item: (-data[item], item))\n",
    "    "
   ]
  },
  {
   "cell_type": "markdown",
   "metadata": {},
   "source": [
    "---"
   ]
  },
  {
   "cell_type": "code",
   "execution_count": null,
   "metadata": {},
   "outputs": [],
   "source": []
  }
 ],
 "metadata": {
  "kernelspec": {
   "display_name": "Python 3",
   "language": "python",
   "name": "python3"
  },
  "language_info": {
   "codemirror_mode": {
    "name": "ipython",
    "version": 3
   },
   "file_extension": ".py",
   "mimetype": "text/x-python",
   "name": "python",
   "nbconvert_exporter": "python",
   "pygments_lexer": "ipython3",
   "version": "3.7.3"
  }
 },
 "nbformat": 4,
 "nbformat_minor": 2
}

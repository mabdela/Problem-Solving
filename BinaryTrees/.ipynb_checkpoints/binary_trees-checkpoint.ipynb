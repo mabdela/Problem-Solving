{
 "cells": [
  {
   "cell_type": "code",
   "execution_count": 17,
   "metadata": {},
   "outputs": [],
   "source": [
    "\"\"\"\n",
    "Given a binary tree, it checks whether or not the tree is symmetic. \n",
    "\"\"\"\n",
    "# Definition for a binary tree node.\n",
    "class TreeNode:\n",
    "    def __init__(self, x):\n",
    "        self.val = x\n",
    "        self.left = None\n",
    "        self.right = None\n",
    "\n",
    "        \n",
    "class Solution(object):\n",
    "    \n",
    "    def isSymmetric(self, root):\n",
    "        \n",
    "        if(root==None): return True\n",
    "        def helper(left, right):\n",
    "\n",
    "            if(left==None and right!=None or left!=None and right==None):\n",
    "                return False\n",
    "            if(left==None and right==None): return True\n",
    "\n",
    "            if(left.val!=right.val):return False\n",
    "\n",
    "            return helper(left.left, right.right) and helper(left.right, right.left)\n",
    "\n",
    "        return helper(root.left, root.right)"
   ]
  },
  {
   "cell_type": "code",
   "execution_count": 1,
   "metadata": {},
   "outputs": [],
   "source": [
    "class Node:\n",
    "\n",
    "    def __init__(self, data):\n",
    "\n",
    "        self.left = None\n",
    "        self.right = None\n",
    "        self.data = data\n",
    "\n",
    "    def insert(self, data):\n",
    "# Compare the new value with the parent node\n",
    "\n",
    "        \n",
    "        if self.data:\n",
    "            \n",
    "            if data < self.data:\n",
    "                if self.left is None:\n",
    "                    self.left = Node(data)\n",
    "                else:\n",
    "                    self.left.insert(data)\n",
    "            elif data > self.data:\n",
    "                if self.right is None:\n",
    "                    self.right = Node(data)\n",
    "                else:\n",
    "                    self.right.insert(data)\n",
    "        else:\n",
    "            self.data = data\n",
    "\n",
    "# Print the tree\n",
    "    def PrintTree(self):\n",
    "        if self.left:\n",
    "            self.left.PrintTree()\n",
    "        print( self.data),\n",
    "        if self.right:\n",
    "            self.right.PrintTree()"
   ]
  },
  {
   "cell_type": "code",
   "execution_count": 2,
   "metadata": {},
   "outputs": [
    {
     "name": "stdout",
     "output_type": "stream",
     "text": [
      "3\n",
      "6\n",
      "12\n",
      "14\n"
     ]
    }
   ],
   "source": [
    "# Use the insert method to add nodes\n",
    "root = Node(12)\n",
    "root.insert(6)\n",
    "root.insert(14)\n",
    "root.insert(3)\n",
    "\n",
    "root.PrintTree()"
   ]
  },
  {
   "cell_type": "code",
   "execution_count": 4,
   "metadata": {},
   "outputs": [],
   "source": [
    "# Python program to insert element in binary tree \n",
    "class newNode(): \n",
    "\n",
    "    def __init__(self, data): \n",
    "        self.key = data \n",
    "        self.left = None\n",
    "        self.right = None\n",
    "\n",
    "\"\"\" Inorder traversal of a binary tree\"\"\"\n",
    "def inorder(temp): \n",
    "\n",
    "    if (not temp): \n",
    "        return\n",
    "\n",
    "    inorder(temp.left) \n",
    "    print(temp.key,end = \" \") \n",
    "    inorder(temp.right) \n",
    "\n",
    "\n",
    "\"\"\"Level order insertion into the binary tree\"\"\"\n",
    "def insert(temp,key): \n",
    "\n",
    "    q = [] \n",
    "    q.append(temp) \n",
    "\n",
    "    # Do level order traversal until we find \n",
    "    # an empty place. \n",
    "    while (len(q)): \n",
    "        temp = q[0] \n",
    "        q.pop(0) \n",
    "\n",
    "        if (not temp.left): \n",
    "            temp.left = newNode(key) \n",
    "            break\n",
    "        else: \n",
    "            q.append(temp.left) \n",
    "\n",
    "        if (not temp.right): \n",
    "            temp.right = newNode(key) \n",
    "            break\n",
    "        else: \n",
    "            q.append(temp.right) \n",
    "\n"
   ]
  },
  {
   "cell_type": "code",
   "execution_count": 5,
   "metadata": {},
   "outputs": [
    {
     "name": "stdout",
     "output_type": "stream",
     "text": [
      "Inorder traversal before insertion: 9 11 15 10 8 7 "
     ]
    }
   ],
   "source": [
    "root = newNode(10) \n",
    "insert(root,11) \n",
    "insert(root,7) \n",
    "insert(root,9) \n",
    "insert(root,15) \n",
    "insert(root,8) \n",
    "\n",
    "print(\"Inorder traversal before insertion:\", end = \" \") \n",
    "inorder(root) \n"
   ]
  },
  {
   "cell_type": "code",
   "execution_count": 6,
   "metadata": {},
   "outputs": [],
   "source": [
    "results =[]\n",
    "\n",
    "class Node:\n",
    "\n",
    "    def __init__(self, datum):\n",
    "        self.data = datum\n",
    "        self.left = None\n",
    "        self.right = None \n",
    "\n",
    "def insert(root, datum):\n",
    "    queue = []\n",
    "    queue.append(root)\n",
    "\n",
    "\n",
    "    while(len(queue)):\n",
    "        item = queue[0]\n",
    "        queue.pop(0)\n",
    "        if(item.data!=-1):\n",
    "            if(item.left==None):\n",
    "                item.left = Node(datum)\n",
    "                break\n",
    "            else:\n",
    "                queue.append(item.left)\n",
    "                \n",
    "\n",
    "            if(item.right==None):\n",
    "                item.right = Node(datum)\n",
    "                break\n",
    "            else:\n",
    "                queue.append(item.right)\n",
    "\n",
    "def inOrder(root, counter):\n",
    "\n",
    "    if(root.data==-1):\n",
    "        return\n",
    "    inOrder(root.left, counter)\n",
    "    results[counter].append(root.data)\n",
    "    inOrder(root.right, counter)\n",
    "\n",
    "def inOrderPrint(root):\n",
    "\n",
    "    if(root.data==-1):\n",
    "        return\n",
    "    inOrderPrint(root.left)\n",
    "    print(root.data)\n",
    "    inOrderPrint(root.right)\n",
    "\n",
    "def swap(root, level, increm):\n",
    "\n",
    "    if(root.data==-1):\n",
    "        return\n",
    "\n",
    "    if(increm%level==0):\n",
    "        temp = root.left\n",
    "        root.left = root.right\n",
    "        root.right = temp\n",
    "\n",
    "    swap(root.left, level, increm+1)\n",
    "    swap(root.right, level, increm+1)\n",
    "\n",
    "def swapNodes(indexes, queries):\n",
    "    root = Node(1)\n",
    "\n",
    "    for row in indexes:\n",
    "        insert(root, row[0])\n",
    "        insert(root, row[1])\n",
    "    inOrderPrint(root)\n",
    "    counter = 0\n",
    "\n",
    "    for i in queries:\n",
    "        swap(root, i, 1)\n",
    "        results.append([])\n",
    "        inOrder(root, counter)\n",
    "        counter += 1\n",
    "    \n",
    "    return results\n"
   ]
  },
  {
   "cell_type": "code",
   "execution_count": 7,
   "metadata": {},
   "outputs": [
    {
     "name": "stdout",
     "output_type": "stream",
     "text": [
      "6\n",
      "9\n",
      "4\n",
      "2\n",
      "1\n",
      "7\n",
      "5\n",
      "10\n",
      "8\n",
      "11\n",
      "3\n"
     ]
    },
    {
     "data": {
      "text/plain": [
       "[[2, 9, 6, 4, 1, 3, 7, 5, 11, 8, 10], [2, 6, 9, 4, 1, 3, 7, 5, 10, 8, 11]]"
      ]
     },
     "execution_count": 7,
     "metadata": {},
     "output_type": "execute_result"
    }
   ],
   "source": [
    "arr = [[2,3],[4,-1],[5,-1],[6,-1],[7,8],[-1,9],[-1,-1],[10,11],[-1,-1],[-1,-1],[-1,-1]]\n",
    "queries = [2,4]\n",
    "swapNodes(arr, queries)"
   ]
  },
  {
   "cell_type": "code",
   "execution_count": 9,
   "metadata": {},
   "outputs": [],
   "source": [
    "\"\"\"\n",
    "Binary Search implementation for arrays. Given an array and an integer to be searched in the array, it returns a boolean\n",
    ", i.e., 'true' or 'false', indicating whether or not the given number exists in the array.\n",
    "\"\"\"\n",
    "def binarySearch(arr, item):\n",
    "    left =0\n",
    "    right = len(arr)-1\n",
    "    \n",
    "    while(right>=left):\n",
    "        mid = int((left+right)/2)\n",
    "        \n",
    "        if(arr[mid]==item):\n",
    "            return True\n",
    "        else:\n",
    "            if(arr[mid]>item):\n",
    "                right = mid-1\n",
    "            else:\n",
    "                left=mid+1\n",
    "    return False       "
   ]
  },
  {
   "cell_type": "code",
   "execution_count": 12,
   "metadata": {},
   "outputs": [
    {
     "data": {
      "text/plain": [
       "False"
      ]
     },
     "execution_count": 12,
     "metadata": {},
     "output_type": "execute_result"
    }
   ],
   "source": [
    "#Example 2\n",
    "binarySearch([1, 10, 4, 2, 6], 3)"
   ]
  },
  {
   "cell_type": "code",
   "execution_count": 13,
   "metadata": {},
   "outputs": [
    {
     "data": {
      "text/plain": [
       "True"
      ]
     },
     "execution_count": 13,
     "metadata": {},
     "output_type": "execute_result"
    }
   ],
   "source": [
    "#Example 2\n",
    "binarySearch([1, 10, 4, 2, 6], 4)"
   ]
  },
  {
   "cell_type": "code",
   "execution_count": 16,
   "metadata": {},
   "outputs": [],
   "source": []
  },
  {
   "cell_type": "code",
   "execution_count": null,
   "metadata": {},
   "outputs": [],
   "source": []
  }
 ],
 "metadata": {
  "kernelspec": {
   "display_name": "Python 3",
   "language": "python",
   "name": "python3"
  },
  "language_info": {
   "codemirror_mode": {
    "name": "ipython",
    "version": 3
   },
   "file_extension": ".py",
   "mimetype": "text/x-python",
   "name": "python",
   "nbconvert_exporter": "python",
   "pygments_lexer": "ipython3",
   "version": "3.7.3"
  }
 },
 "nbformat": 4,
 "nbformat_minor": 2
}

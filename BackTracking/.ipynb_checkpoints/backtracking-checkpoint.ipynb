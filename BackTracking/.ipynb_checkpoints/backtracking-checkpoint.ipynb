{
 "cells": [
  {
   "cell_type": "code",
   "execution_count": 1,
   "metadata": {},
   "outputs": [],
   "source": [
    "# Backtracking algorithm to produce all posible parenthesis for ()\n",
    "\n",
    "class Solution:\n",
    "    \n",
    "    def generate(self, n, cur, opened, answers):\n",
    "        if n == 0:\n",
    "            while opened > 0:\n",
    "                cur += \")\"\n",
    "                opened -= 1\n",
    "            answers.append(cur)\n",
    "            return answers\n",
    "            \n",
    "        self.generate(n-1, cur + \"(\", opened + 1, answers)\n",
    "        if opened >= 1:\n",
    "            self.generate(n, cur + \")\", opened - 1, answers)\n",
    "        return answers\n",
    "            \n",
    "    \n",
    "    def generateParenthesis(self, n: int):\n",
    "        if n <= 0:\n",
    "            return None\n",
    "        \n",
    "        return self.generate(n, \"\", 0, list())"
   ]
  },
  {
   "cell_type": "code",
   "execution_count": 2,
   "metadata": {},
   "outputs": [
    {
     "data": {
      "text/plain": [
       "['((()))', '(()())', '(())()', '()(())', '()()()']"
      ]
     },
     "execution_count": 2,
     "metadata": {},
     "output_type": "execute_result"
    }
   ],
   "source": [
    "obj = Solution()\n",
    "obj.generateParenthesis(3)"
   ]
  },
  {
   "cell_type": "code",
   "execution_count": 3,
   "metadata": {},
   "outputs": [],
   "source": [
    "\"\"\"\n",
    "Given a list of integers and a target, the function given below returns a sublist of integers adding upto the target.\n",
    "\"\"\"\n",
    "class Solution:\n",
    "    def backtracking(self, candi, res, temp, leftover: int):\n",
    "        if not candi: \n",
    "            return\n",
    "        half_left = leftover / 2\n",
    "\n",
    "        for i, n in enumerate(candi):\n",
    "            if n <= half_left:  # leftover in a child branch should not be smaller than the value chosen in this\n",
    "                #level, otherwise it is a revisiting\n",
    "                temp.append(n)\n",
    "                self.backtracking(candi[i:], res, temp, leftover - n)\n",
    "                temp.pop(-1)\n",
    "            elif n == leftover:\n",
    "                res.append(temp + [leftover])\n",
    "            \n",
    "    def combinationSum(self, candidates, target: int):\n",
    "        candidates.sort()\n",
    "        res, temp = [], []\n",
    "        self.backtracking(candidates, res, temp, target)\n",
    "        return res"
   ]
  },
  {
   "cell_type": "code",
   "execution_count": 4,
   "metadata": {},
   "outputs": [
    {
     "data": {
      "text/plain": [
       "[[2, 2, 2], [3, 3], [6]]"
      ]
     },
     "execution_count": 4,
     "metadata": {},
     "output_type": "execute_result"
    }
   ],
   "source": [
    "#Example \n",
    "obj = Solution()\n",
    "obj.combinationSum([2, 3, 6, 7], 6)"
   ]
  },
  {
   "cell_type": "code",
   "execution_count": 5,
   "metadata": {},
   "outputs": [],
   "source": []
  },
  {
   "cell_type": "code",
   "execution_count": null,
   "metadata": {},
   "outputs": [],
   "source": []
  }
 ],
 "metadata": {
  "kernelspec": {
   "display_name": "Python 3",
   "language": "python",
   "name": "python3"
  },
  "language_info": {
   "codemirror_mode": {
    "name": "ipython",
    "version": 3
   },
   "file_extension": ".py",
   "mimetype": "text/x-python",
   "name": "python",
   "nbconvert_exporter": "python",
   "pygments_lexer": "ipython3",
   "version": "3.7.3"
  }
 },
 "nbformat": 4,
 "nbformat_minor": 2
}

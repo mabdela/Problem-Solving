{
 "cells": [
  {
   "cell_type": "code",
   "execution_count": 12,
   "metadata": {},
   "outputs": [],
   "source": [
    "\"\"\"\n",
    "22. Generate Parentheses\n",
    "Given n pairs of parentheses, write a function to generate all combinations of well-formed parentheses.\n",
    "\n",
    "For example, given n = 3, a solution set is:\n",
    "\n",
    "[\n",
    "  \"((()))\",\n",
    "  \"(()())\",\n",
    "  \"(())()\",\n",
    "  \"()(())\",\n",
    "  \"()()()\"\n",
    "] \n",
    "\n",
    "Time complexity: O(2^n), for every index there can be two options\"{\" or \"}\". So it can be said that the upperbound\n",
    "of time complexity is O(2^n) or it has exponential time complexity.\n",
    "\n",
    "Space Complexity: O(n) if we are using global variable to store the possible outcomes.\n",
    "\"\"\"\n",
    "def generateParenthesis(pairs):\n",
    "    \n",
    "    if(pairs<=0):\n",
    "        return None\n",
    "    \n",
    "    result = []\n",
    "    \n",
    "    def helper(opened, closed, case):\n",
    "        \n",
    "        if len(case)== 2*pairs:\n",
    "            result.append(case)\n",
    "            return \n",
    "        \n",
    "        if opened <pairs:\n",
    "            helper (opened+1, closed, case+\"(\")\n",
    "        \n",
    "        if opened>closed:\n",
    "            helper(opened, closed+1, case+\")\")\n",
    "    \n",
    "    helper(1, 0, \"(\")\n",
    "    \n",
    "    return result"
   ]
  },
  {
   "cell_type": "code",
   "execution_count": 14,
   "metadata": {},
   "outputs": [
    {
     "data": {
      "text/plain": [
       "['((()))', '(()())', '(())()', '()(())', '()()()']"
      ]
     },
     "execution_count": 14,
     "metadata": {},
     "output_type": "execute_result"
    }
   ],
   "source": [
    "#Example\n",
    "generateParenthesis(3)"
   ]
  },
  {
   "cell_type": "code",
   "execution_count": 3,
   "metadata": {},
   "outputs": [],
   "source": [
    "\"\"\"\n",
    "Given a list of integers and a target, the function given below returns a sublist of integers adding upto the target.\n",
    "\"\"\"\n",
    "class Solution:\n",
    "    def backtracking(self, candi, res, temp, leftover: int):\n",
    "        if not candi: \n",
    "            return\n",
    "        half_left = leftover / 2\n",
    "\n",
    "        for i, n in enumerate(candi):\n",
    "            if n <= half_left:  # leftover in a child branch should not be smaller than the value chosen in this\n",
    "                #level, otherwise it is a revisiting\n",
    "                temp.append(n)\n",
    "                self.backtracking(candi[i:], res, temp, leftover - n)\n",
    "                temp.pop(-1)\n",
    "            elif n == leftover:\n",
    "                res.append(temp + [leftover])\n",
    "            \n",
    "    def combinationSum(self, candidates, target: int):\n",
    "        candidates.sort()\n",
    "        res, temp = [], []\n",
    "        self.backtracking(candidates, res, temp, target)\n",
    "        return res"
   ]
  },
  {
   "cell_type": "code",
   "execution_count": 4,
   "metadata": {},
   "outputs": [
    {
     "data": {
      "text/plain": [
       "[[2, 2, 2], [3, 3], [6]]"
      ]
     },
     "execution_count": 4,
     "metadata": {},
     "output_type": "execute_result"
    }
   ],
   "source": [
    "#Example \n",
    "obj = Solution()\n",
    "obj.combinationSum([2, 3, 6, 7], 6)"
   ]
  },
  {
   "cell_type": "markdown",
   "metadata": {},
   "source": [
    "---"
   ]
  },
  {
   "cell_type": "code",
   "execution_count": 10,
   "metadata": {},
   "outputs": [],
   "source": [
    "\"\"\"\n",
    "The code given blelow implements Sidoku solver. \n",
    "\"\"\"\n",
    "import numpy as np\n",
    "def isPossible(grid, row, col, num):\n",
    "    \n",
    "    for i in range(0, 9):\n",
    "        if grid[row][i]==num:\n",
    "            return False\n",
    "    \n",
    "    for i in range(0, 9):\n",
    "        if grid[i][col]==num:\n",
    "            return False\n",
    "\n",
    "    col_s = (col//3)*3\n",
    "    row_s = (row//3)*3\n",
    "    \n",
    "    for x in range(0, 3):\n",
    "        for v in range(0, 3):\n",
    "            if grid[row_s+x][col_s+v]==num:\n",
    "                return False\n",
    "    return True\n",
    "\n",
    "\"\"\"\n",
    "Time complexity of 9x9 Sidoku solver is O(9^m), where m is the number of empty/unassigned index. \n",
    "The time complexity remains the same as the naive approach, but on average it would take much \n",
    "less than the naive approach that involves trying all possible values. \n",
    "Note that we are using the upper bound for the time complexity.  \n",
    "\n",
    "Space complexity: O(n^2), we need to store the solution\n",
    "\"\"\"\n",
    "\n",
    "count=0\n",
    "def solver(grid):\n",
    "    global count\n",
    "    count+=1\n",
    "\n",
    "    for i in range(9):\n",
    "        for j in range(9):\n",
    "            \n",
    "            if grid[i][j]==0:\n",
    "                for num in range(1, 10):\n",
    "                    if isPossible(grid, i, j, num):\n",
    "                        grid[i][j]=num\n",
    "                        solver(grid)\n",
    "                        grid[i][j]=0\n",
    "                return\n",
    "                \n",
    "                        \n",
    "    print(np.matrix(grid))"
   ]
  },
  {
   "cell_type": "code",
   "execution_count": 11,
   "metadata": {},
   "outputs": [
    {
     "name": "stdout",
     "output_type": "stream",
     "text": [
      "[[5 3 4 6 7 8 1 9 2]\n",
      " [6 7 2 1 9 5 3 4 8]\n",
      " [1 9 8 3 4 2 5 6 7]\n",
      " [8 5 9 7 6 1 4 2 3]\n",
      " [4 2 6 8 5 3 9 7 1]\n",
      " [7 1 3 9 2 4 8 5 6]\n",
      " [9 6 1 5 3 7 2 8 4]\n",
      " [2 8 7 4 1 9 6 3 5]\n",
      " [3 4 5 2 8 6 7 1 9]]\n",
      "[[5 3 4 6 7 8 9 1 2]\n",
      " [6 7 2 1 9 5 3 4 8]\n",
      " [1 9 8 3 4 2 5 6 7]\n",
      " [8 5 9 7 6 1 4 2 3]\n",
      " [4 2 6 8 5 3 7 9 1]\n",
      " [7 1 3 9 2 4 8 5 6]\n",
      " [9 6 1 5 3 7 2 8 4]\n",
      " [2 8 7 4 1 9 6 3 5]\n",
      " [3 4 5 2 8 6 1 7 9]]\n"
     ]
    }
   ],
   "source": [
    "grid = [[5, 3, 0, 0, 7, 0, 0, 0, 0], \n",
    "       [6, 0, 0, 1, 9, 5, 0, 0, 0],\n",
    "       [0, 9, 8, 0, 0, 0, 0, 6, 0],\n",
    "       [8, 0, 0, 0, 6, 0, 0, 0, 3],\n",
    "       [4, 0, 0, 8, 0, 3, 0, 0, 1],\n",
    "       [7, 0, 0, 0, 2, 0, 0, 0, 6],\n",
    "       [0, 6, 0, 0, 0, 0, 2, 8, 0],\n",
    "       [0, 0, 0, 4, 1, 9, 0, 0, 5],\n",
    "       [0, 0, 0, 0, 8, 0, 0, 0, 0]]\n",
    "solver(grid)"
   ]
  },
  {
   "cell_type": "markdown",
   "metadata": {},
   "source": [
    "---"
   ]
  },
  {
   "cell_type": "code",
   "execution_count": 21,
   "metadata": {},
   "outputs": [],
   "source": [
    "\"\"\"\n",
    "Here we are using back-tracking to find sum of subsets\n",
    "\"\"\"\n",
    "\n",
    "def sumOfSubsets(arr, target):\n",
    "    \n",
    "    result = []\n",
    "    def helper(nums, temp, reminder):\n",
    "\n",
    "        \n",
    "        for i, item in enumerate(nums):\n",
    "            \n",
    "            if item>reminder: # bounding condition \n",
    "                return \n",
    "            if item==reminder:\n",
    "                result.append(temp+[item])\n",
    "            else:\n",
    "                helper(nums[i+1:], temp+[item], reminder-item)\n",
    "    \n",
    "    helper(arr, [], target)\n",
    "    return result             "
   ]
  },
  {
   "cell_type": "code",
   "execution_count": 22,
   "metadata": {},
   "outputs": [
    {
     "data": {
      "text/plain": [
       "[[5, 10, 15], [5, 12, 13], [12, 18]]"
      ]
     },
     "execution_count": 22,
     "metadata": {},
     "output_type": "execute_result"
    }
   ],
   "source": [
    "sumOfSubsets([5, 10, 12, 13, 15, 18], 30)"
   ]
  },
  {
   "cell_type": "code",
   "execution_count": null,
   "metadata": {},
   "outputs": [],
   "source": []
  }
 ],
 "metadata": {
  "kernelspec": {
   "display_name": "Python 3",
   "language": "python",
   "name": "python3"
  },
  "language_info": {
   "codemirror_mode": {
    "name": "ipython",
    "version": 3
   },
   "file_extension": ".py",
   "mimetype": "text/x-python",
   "name": "python",
   "nbconvert_exporter": "python",
   "pygments_lexer": "ipython3",
   "version": "3.7.3"
  }
 },
 "nbformat": 4,
 "nbformat_minor": 2
}

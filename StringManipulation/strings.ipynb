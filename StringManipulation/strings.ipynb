{
 "cells": [
  {
   "cell_type": "code",
   "execution_count": 4,
   "metadata": {},
   "outputs": [],
   "source": [
    "\"\"\"\n",
    "Given a string the functions given below finds all palindroms that it contains. \n",
    "\n",
    "\"\"\"\n",
    "import itertools\n",
    "\n",
    "def isPalindrome(left, right, s):\n",
    "    \n",
    "    while(left<right):\n",
    "        if(s[left]!=s[right]):\n",
    "            return False\n",
    "        else:\n",
    "            left+=1\n",
    "            right-=1\n",
    "    return True\n",
    "\n",
    "def decomposeStr(index, s, partialDecomposition, decompositions):\n",
    "    \n",
    "    if(index==len(s)):\n",
    "        decompositions.append(partialDecomposition[:])\n",
    "        return\n",
    "    \n",
    "    \n",
    "    for i in range(index, len(s)):\n",
    "        \n",
    "        if(isPalindrome(index, i, s)):\n",
    "            partialDecomposition.append(s[index:i+1])\n",
    "            decomposeStr(i+1, s, partialDecomposition, decompositions)\n",
    "            partialDecomposition.pop(-1)   \n",
    "            \n",
    "def partition(s):\n",
    "    res=[]\n",
    "    decomposeStr(0, s, [], res)\n",
    "    final_res = list(set(itertools.chain(*res)))\n",
    "    return final_res\n",
    "    "
   ]
  },
  {
   "cell_type": "code",
   "execution_count": 5,
   "metadata": {},
   "outputs": [
    {
     "data": {
      "text/plain": [
       "['a', 'bab', 'abababa', 'bb', 'b', 'babab', 'aba', 'ababa', 'bababab', 'abba']"
      ]
     },
     "execution_count": 5,
     "metadata": {},
     "output_type": "execute_result"
    }
   ],
   "source": [
    "partition(\"ababababba\")"
   ]
  },
  {
   "cell_type": "code",
   "execution_count": 8,
   "metadata": {},
   "outputs": [],
   "source": [
    "\"\"\"\n",
    "Given a string, the function given below print the string using a ZigZag pattern. \n",
    "For example given 'PAYPALISHIRING', it prints 'PAHNAPLSIIGYIR'.\n",
    "\"\"\"\n",
    "def convert(s, numRows):\n",
    "    temp = []\n",
    "    for _ in range(numRows):\n",
    "        temp.append([])\n",
    "    \n",
    "    if(len(s)<=numRows or numRows==1):\n",
    "        return s\n",
    "    else:\n",
    "        index =0\n",
    "        direction =\"down\"\n",
    "        for i in range(len(s)):\n",
    "            if(index==0):\n",
    "                direction = \"down\"\n",
    "            elif(index==(numRows-1)):\n",
    "                direction = \"up\"\n",
    "                \n",
    "            if(direction==\"down\"):\n",
    "                temp[index].append(s[i])\n",
    "                index+=1\n",
    "            else:\n",
    "                temp[index].append(s[i])\n",
    "                index-=1\n",
    "\n",
    "    joined = []\n",
    "    \n",
    "    for arr in temp:\n",
    "        joined.append(''.join(arr))\n",
    "    \n",
    "    return ''.join(joined)            "
   ]
  },
  {
   "cell_type": "code",
   "execution_count": 9,
   "metadata": {},
   "outputs": [
    {
     "data": {
      "text/plain": [
       "'PAHNAPLSIIGYIR'"
      ]
     },
     "execution_count": 9,
     "metadata": {},
     "output_type": "execute_result"
    }
   ],
   "source": [
    "convert(\"PAYPALISHIRING\", 3)"
   ]
  },
  {
   "cell_type": "code",
   "execution_count": 11,
   "metadata": {},
   "outputs": [],
   "source": [
    "\"\"\"\n",
    "String to an integer converter without using regular expression. \n",
    "\"\"\"\n",
    "\n",
    "\n",
    "class Solution:\n",
    "    \n",
    "    def extractor (self, item):\n",
    "        extracted = \"\"\n",
    "        arr =[]\n",
    "        for i in item:\n",
    "            if(i.isdigit()):\n",
    "                arr.append(i)\n",
    "            else:\n",
    "                break\n",
    "        return ''.join(arr)\n",
    "    \n",
    "    def myAtoi(self, string: str) -> int:\n",
    "        item = string.strip(\" \").split(\" \")[0]\n",
    "        max_int = 2147483647\n",
    "        min_int = -2147483648\n",
    "        \n",
    "        if((len(item)<=1 and (not item.isdigit()))):\n",
    "            return 0\n",
    "        \n",
    "        value = 0\n",
    "        \n",
    "        if(item.isdigit() or (item[0]=='-' and item[1:].isdigit())):\n",
    "            value = int(item)\n",
    "        elif(((item[0]=='-' or item[0]=='+') and item[1].isdigit()) or item[0].isdigit()):\n",
    "            extract =\"\"\n",
    "            if(item[0]=='-'):\n",
    "                extract = '-'+self.extractor(item[1:])\n",
    "            elif(item[0]=='+'):\n",
    "                extract = self.extractor(item[1:])\n",
    "            elif(item[0].isdigit()):\n",
    "                extract = self.extractor(item)\n",
    "            if(len(extract)==0):\n",
    "                return 0\n",
    "            else:\n",
    "                value = int(extract)\n",
    "        else:\n",
    "            try:\n",
    "                temp = float(item)\n",
    "                if(temp==float(\"+inf\")):\n",
    "                    return max_int\n",
    "                elif(temp==float(\"-inf\")):\n",
    "                    return min_int\n",
    "                else:\n",
    "                    value = int(temp)\n",
    "            except ValueError:\n",
    "                return 0\n",
    "        \n",
    "        if(value<min_int):\n",
    "            return min_int\n",
    "        elif(value>max_int):\n",
    "            return max_int\n",
    "        else:\n",
    "            return value"
   ]
  },
  {
   "cell_type": "code",
   "execution_count": 13,
   "metadata": {},
   "outputs": [],
   "source": [
    "# find the common string between given string arrays e.g. Input: [\"flower\",\"flow\",\"flight\"], Output: \"fl\"\n",
    "\n",
    "class Solution:\n",
    "    \n",
    "    def returnCommonString(self, str1, comm):\n",
    "        while(comm!=\"\"):\n",
    "            if(comm in str1[:len(comm)]):\n",
    "                return comm\n",
    "            else:\n",
    "                comm = comm[:len(comm)-1]\n",
    "        \n",
    "        return comm\n",
    "            \n",
    "        \n",
    "    def longestCommonPrefix(self, strs) -> str:\n",
    "        \n",
    "        if(len(strs)==0):\n",
    "            return \"\"\n",
    "        \n",
    "        common = strs[0]\n",
    "        \n",
    "        for item in strs:\n",
    "            common = self.returnCommonString(item, common)\n",
    "        return common"
   ]
  },
  {
   "cell_type": "code",
   "execution_count": 14,
   "metadata": {},
   "outputs": [
    {
     "data": {
      "text/plain": [
       "'fl'"
      ]
     },
     "execution_count": 14,
     "metadata": {},
     "output_type": "execute_result"
    }
   ],
   "source": [
    "obj = Solution()\n",
    "obj.longestCommonPrefix([\"flower\",\"flow\",\"flight\"])"
   ]
  },
  {
   "cell_type": "code",
   "execution_count": 15,
   "metadata": {},
   "outputs": [],
   "source": [
    "class Solution:\n",
    "    \n",
    "    def findCombinations(self, arr, string):\n",
    "        ans = []\n",
    "        for item in arr:\n",
    "            for char in string:\n",
    "                ans.append(item+char)\n",
    "        \n",
    "        return ans\n",
    "        \n",
    "    def letterCombinations(self, digits: str):\n",
    "        lookup = {\"2\":\"abc\", \"3\":\"def\", \"4\":\"ghi\", \"5\":\"jkl\", \"6\":\"mno\", \"7\":\"pqrs\", \"8\":\"tuv\", \"9\":\"wxyz\"}\n",
    "        \n",
    "        digits = list(digits)\n",
    "        \n",
    "        if(len(digits)==0):\n",
    "            return []\n",
    "        res = []\n",
    "        \n",
    "        for i in lookup[digits[0]]:\n",
    "            res.append(i)\n",
    "            \n",
    "        for i, item in enumerate(digits[1:]):\n",
    "            res=self.findCombinations(res, lookup[item])\n",
    "        \n",
    "        return res"
   ]
  },
  {
   "cell_type": "code",
   "execution_count": 16,
   "metadata": {},
   "outputs": [
    {
     "data": {
      "text/plain": [
       "['ag', 'ah', 'ai', 'bg', 'bh', 'bi', 'cg', 'ch', 'ci']"
      ]
     },
     "execution_count": 16,
     "metadata": {},
     "output_type": "execute_result"
    }
   ],
   "source": [
    "obj = Solution()\n",
    "obj.letterCombinations(\"24\")"
   ]
  },
  {
   "cell_type": "code",
   "execution_count": 17,
   "metadata": {},
   "outputs": [],
   "source": [
    "#Return index of first occurece of sub-string, if it doesn't exist return -1\n",
    "class Solution:\n",
    "    def strStr(self, haystack: str, needle: str) -> int:\n",
    "        \n",
    "        if(needle in haystack):\n",
    "            return haystack.index(needle)\n",
    "        return -1"
   ]
  },
  {
   "cell_type": "code",
   "execution_count": 19,
   "metadata": {},
   "outputs": [],
   "source": [
    "\"\"\"\n",
    "Substring with Concatenation of All Words e.g. Input: s = \"barfoothefoobarman\", words = [\"foo\",\"bar\"] Output: [0,9]\n",
    "\"\"\"\n",
    "\n",
    "class Solution:\n",
    "    def findSubstring(self, s, words):\n",
    "        result =[]\n",
    "        if not words or not s : return result\n",
    "        n=len(words[0])\n",
    "        words_total_len= len(words) * n      \n",
    "        sl= len(s)\n",
    "        if words_total_len > sl : return result\n",
    "        words.sort()\n",
    "        for i in range (sl-words_total_len+1):\n",
    "            s1=s[i:i+words_total_len] #sliding window\n",
    "            #create set  with words of same size\n",
    "            s_temp = [s1[j:j+n] for j in range(0, len(s1), n)]\n",
    "            s_temp.sort()                        \n",
    "            if s_temp == words: result.append(i)                \n",
    "        return(result)\n",
    "\n",
    "# using hashtables \n",
    "import collections\n",
    "class Solution:\n",
    "    def findSubstring(self, s, words):\n",
    "        if not s or not words:\n",
    "            return None\n",
    "        wordLen = len(words[0])\n",
    "        windowLen = len(words)*wordLen\n",
    "        strLen = len(s)\n",
    "        wordDict, ret = collections.Counter(words), []\n",
    "        for i in range(strLen - windowLen + 1):\n",
    "            newDict= collections.defaultdict(int)\n",
    "            for j in range(i, i + windowLen, wordLen):\n",
    "                subWord = s[j: j + wordLen]\n",
    "                if subWord in wordDict:\n",
    "                    newDict[subWord] +=1\n",
    "                    if newDict[subWord] > wordDict[subWord]:\n",
    "                        break\n",
    "                else:\n",
    "                    break\n",
    "            if newDict == wordDict:\n",
    "                ret.append(i)\n",
    "        return ret"
   ]
  },
  {
   "cell_type": "code",
   "execution_count": 20,
   "metadata": {},
   "outputs": [],
   "source": [
    "#count and Say,  base case 1 and the input 1<=n<=30 for 1:\"1\", for 2: \"11\", for 3:\"21\", for 4:\"1211\", for 5:\"111221\" etc..\n",
    "\n",
    "class Solution:\n",
    "    def countAndSay(self, n: int) -> str:\n",
    "        res =\"1\"   \n",
    "        for i in range(n-1):\n",
    "            count =0\n",
    "            start = res[0]\n",
    "            last = start\n",
    "            prev =\"\"\n",
    "            for i in range(len(res)):\n",
    "                if(last==res[i]):\n",
    "                    count+=1\n",
    "                else:\n",
    "                    prev+=str(count)+last\n",
    "                    last=res[i]\n",
    "                    count=1\n",
    "                    \n",
    "            prev+=str(count)+last\n",
    "            res=prev\n",
    "        \n",
    "        return res"
   ]
  },
  {
   "cell_type": "code",
   "execution_count": 22,
   "metadata": {},
   "outputs": [
    {
     "data": {
      "text/plain": [
       "'312211'"
      ]
     },
     "execution_count": 22,
     "metadata": {},
     "output_type": "execute_result"
    }
   ],
   "source": [
    "#Example\n",
    "obj = Solution()\n",
    "obj.countAndSay(6)"
   ]
  },
  {
   "cell_type": "code",
   "execution_count": 25,
   "metadata": {},
   "outputs": [],
   "source": [
    "# Multiply Strings e.g. Input: num1 = \"2\", num2 = \"3\" Output: \"6\"\n",
    "class Solution:\n",
    "    def helper(self,numstr):\n",
    "        number = 0\n",
    "        multi = 1\n",
    "        while numstr:\n",
    "            tmp = numstr[-1]\n",
    "            tmp = ord(tmp)-48\n",
    "            number = number + tmp*multi\n",
    "            multi = multi * 10\n",
    "            numstr = numstr[:-1]\n",
    "        return number\n",
    "    \n",
    "    def multiply(self, num1: str, num2: str) -> str:\n",
    "        if num1 == '0' or num2 == '0':\n",
    "            return '0'\n",
    "        number1,number2 = self.helper(num1),self.helper(num2)\n",
    "        return str(number1*number2)"
   ]
  },
  {
   "cell_type": "code",
   "execution_count": null,
   "metadata": {},
   "outputs": [],
   "source": []
  },
  {
   "cell_type": "code",
   "execution_count": null,
   "metadata": {},
   "outputs": [],
   "source": []
  }
 ],
 "metadata": {
  "kernelspec": {
   "display_name": "Python 3",
   "language": "python",
   "name": "python3"
  },
  "language_info": {
   "codemirror_mode": {
    "name": "ipython",
    "version": 3
   },
   "file_extension": ".py",
   "mimetype": "text/x-python",
   "name": "python",
   "nbconvert_exporter": "python",
   "pygments_lexer": "ipython3",
   "version": "3.7.3"
  }
 },
 "nbformat": 4,
 "nbformat_minor": 2
}
